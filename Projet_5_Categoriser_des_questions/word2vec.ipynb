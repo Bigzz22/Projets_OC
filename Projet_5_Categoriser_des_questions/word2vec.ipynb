{
 "cells": [
  {
   "cell_type": "code",
   "execution_count": 1,
   "id": "14a52916",
   "metadata": {
    "execution": {
     "iopub.execute_input": "2025-03-13T21:54:11.312298Z",
     "iopub.status.busy": "2025-03-13T21:54:11.311815Z",
     "iopub.status.idle": "2025-03-13T21:54:24.121471Z",
     "shell.execute_reply": "2025-03-13T21:54:24.119865Z"
    },
    "papermill": {
     "duration": 12.81716,
     "end_time": "2025-03-13T21:54:24.123566",
     "exception": false,
     "start_time": "2025-03-13T21:54:11.306406",
     "status": "completed"
    },
    "tags": []
   },
   "outputs": [
    {
     "name": "stdout",
     "output_type": "stream",
     "text": [
      "Collecting mlflow\r\n",
      "  Downloading mlflow-2.20.4-py3-none-any.whl.metadata (30 kB)\r\n",
      "Collecting mlflow-skinny==2.20.4 (from mlflow)\r\n",
      "  Downloading mlflow_skinny-2.20.4-py3-none-any.whl.metadata (31 kB)\r\n",
      "Requirement already satisfied: Flask<4 in /usr/local/lib/python3.10/dist-packages (from mlflow) (3.1.0)\r\n",
      "Requirement already satisfied: Jinja2<4,>=2.11 in /usr/local/lib/python3.10/dist-packages (from mlflow) (3.1.4)\r\n",
      "Requirement already satisfied: alembic!=1.10.0,<2 in /usr/local/lib/python3.10/dist-packages (from mlflow) (1.14.1)\r\n",
      "Requirement already satisfied: docker<8,>=4.0.0 in /usr/local/lib/python3.10/dist-packages (from mlflow) (7.1.0)\r\n",
      "Collecting graphene<4 (from mlflow)\r\n",
      "  Downloading graphene-3.4.3-py2.py3-none-any.whl.metadata (6.9 kB)\r\n",
      "Collecting gunicorn<24 (from mlflow)\r\n",
      "  Downloading gunicorn-23.0.0-py3-none-any.whl.metadata (4.4 kB)\r\n",
      "Requirement already satisfied: markdown<4,>=3.3 in /usr/local/lib/python3.10/dist-packages (from mlflow) (3.7)\r\n",
      "Requirement already satisfied: matplotlib<4 in /usr/local/lib/python3.10/dist-packages (from mlflow) (3.7.5)\r\n",
      "Requirement already satisfied: numpy<3 in /usr/local/lib/python3.10/dist-packages (from mlflow) (1.26.4)\r\n",
      "Requirement already satisfied: pandas<3 in /usr/local/lib/python3.10/dist-packages (from mlflow) (2.2.3)\r\n",
      "Requirement already satisfied: pyarrow<20,>=4.0.0 in /usr/local/lib/python3.10/dist-packages (from mlflow) (19.0.1)\r\n",
      "Requirement already satisfied: scikit-learn<2 in /usr/local/lib/python3.10/dist-packages (from mlflow) (1.2.2)\r\n",
      "Requirement already satisfied: scipy<2 in /usr/local/lib/python3.10/dist-packages (from mlflow) (1.13.1)\r\n",
      "Requirement already satisfied: sqlalchemy<3,>=1.4.0 in /usr/local/lib/python3.10/dist-packages (from mlflow) (2.0.36)\r\n",
      "Requirement already satisfied: cachetools<6,>=5.0.0 in /usr/local/lib/python3.10/dist-packages (from mlflow-skinny==2.20.4->mlflow) (5.5.0)\r\n",
      "Requirement already satisfied: click<9,>=7.0 in /usr/local/lib/python3.10/dist-packages (from mlflow-skinny==2.20.4->mlflow) (8.1.7)\r\n",
      "Requirement already satisfied: cloudpickle<4 in /usr/local/lib/python3.10/dist-packages (from mlflow-skinny==2.20.4->mlflow) (3.1.0)\r\n",
      "Collecting databricks-sdk<1,>=0.20.0 (from mlflow-skinny==2.20.4->mlflow)\r\n",
      "  Downloading databricks_sdk-0.46.0-py3-none-any.whl.metadata (38 kB)\r\n",
      "Requirement already satisfied: gitpython<4,>=3.1.9 in /usr/local/lib/python3.10/dist-packages (from mlflow-skinny==2.20.4->mlflow) (3.1.43)\r\n",
      "Requirement already satisfied: importlib_metadata!=4.7.0,<9,>=3.7.0 in /usr/local/lib/python3.10/dist-packages (from mlflow-skinny==2.20.4->mlflow) (8.5.0)\r\n",
      "Requirement already satisfied: opentelemetry-api<3,>=1.9.0 in /usr/local/lib/python3.10/dist-packages (from mlflow-skinny==2.20.4->mlflow) (1.29.0)\r\n",
      "Requirement already satisfied: opentelemetry-sdk<3,>=1.9.0 in /usr/local/lib/python3.10/dist-packages (from mlflow-skinny==2.20.4->mlflow) (1.29.0)\r\n",
      "Requirement already satisfied: packaging<25 in /usr/local/lib/python3.10/dist-packages (from mlflow-skinny==2.20.4->mlflow) (24.2)\r\n",
      "Requirement already satisfied: protobuf<6,>=3.12.0 in /usr/local/lib/python3.10/dist-packages (from mlflow-skinny==2.20.4->mlflow) (3.20.3)\r\n",
      "Requirement already satisfied: pydantic<3,>=1.10.8 in /usr/local/lib/python3.10/dist-packages (from mlflow-skinny==2.20.4->mlflow) (2.11.0a2)\r\n",
      "Requirement already satisfied: pyyaml<7,>=5.1 in /usr/local/lib/python3.10/dist-packages (from mlflow-skinny==2.20.4->mlflow) (6.0.2)\r\n",
      "Requirement already satisfied: requests<3,>=2.17.3 in /usr/local/lib/python3.10/dist-packages (from mlflow-skinny==2.20.4->mlflow) (2.32.3)\r\n",
      "Requirement already satisfied: sqlparse<1,>=0.4.0 in /usr/local/lib/python3.10/dist-packages (from mlflow-skinny==2.20.4->mlflow) (0.5.3)\r\n",
      "Requirement already satisfied: typing-extensions<5,>=4.0.0 in /usr/local/lib/python3.10/dist-packages (from mlflow-skinny==2.20.4->mlflow) (4.12.2)\r\n",
      "Requirement already satisfied: Mako in /usr/local/lib/python3.10/dist-packages (from alembic!=1.10.0,<2->mlflow) (1.3.9)\r\n",
      "Requirement already satisfied: urllib3>=1.26.0 in /usr/local/lib/python3.10/dist-packages (from docker<8,>=4.0.0->mlflow) (2.3.0)\r\n",
      "Requirement already satisfied: Werkzeug>=3.1 in /usr/local/lib/python3.10/dist-packages (from Flask<4->mlflow) (3.1.3)\r\n",
      "Requirement already satisfied: itsdangerous>=2.2 in /usr/local/lib/python3.10/dist-packages (from Flask<4->mlflow) (2.2.0)\r\n",
      "Requirement already satisfied: blinker>=1.9 in /usr/local/lib/python3.10/dist-packages (from Flask<4->mlflow) (1.9.0)\r\n",
      "Collecting graphql-core<3.3,>=3.1 (from graphene<4->mlflow)\r\n",
      "  Downloading graphql_core-3.2.6-py3-none-any.whl.metadata (11 kB)\r\n",
      "Collecting graphql-relay<3.3,>=3.1 (from graphene<4->mlflow)\r\n",
      "  Downloading graphql_relay-3.2.0-py3-none-any.whl.metadata (12 kB)\r\n",
      "Requirement already satisfied: python-dateutil<3,>=2.7.0 in /usr/local/lib/python3.10/dist-packages (from graphene<4->mlflow) (2.9.0.post0)\r\n",
      "Requirement already satisfied: MarkupSafe>=2.0 in /usr/local/lib/python3.10/dist-packages (from Jinja2<4,>=2.11->mlflow) (3.0.2)\r\n",
      "Requirement already satisfied: contourpy>=1.0.1 in /usr/local/lib/python3.10/dist-packages (from matplotlib<4->mlflow) (1.3.1)\r\n",
      "Requirement already satisfied: cycler>=0.10 in /usr/local/lib/python3.10/dist-packages (from matplotlib<4->mlflow) (0.12.1)\r\n",
      "Requirement already satisfied: fonttools>=4.22.0 in /usr/local/lib/python3.10/dist-packages (from matplotlib<4->mlflow) (4.55.3)\r\n",
      "Requirement already satisfied: kiwisolver>=1.0.1 in /usr/local/lib/python3.10/dist-packages (from matplotlib<4->mlflow) (1.4.7)\r\n",
      "Requirement already satisfied: pillow>=6.2.0 in /usr/local/lib/python3.10/dist-packages (from matplotlib<4->mlflow) (11.0.0)\r\n",
      "Requirement already satisfied: pyparsing>=2.3.1 in /usr/local/lib/python3.10/dist-packages (from matplotlib<4->mlflow) (3.2.0)\r\n",
      "Requirement already satisfied: mkl_fft in /usr/local/lib/python3.10/dist-packages (from numpy<3->mlflow) (1.3.8)\r\n",
      "Requirement already satisfied: mkl_random in /usr/local/lib/python3.10/dist-packages (from numpy<3->mlflow) (1.2.4)\r\n",
      "Requirement already satisfied: mkl_umath in /usr/local/lib/python3.10/dist-packages (from numpy<3->mlflow) (0.1.1)\r\n",
      "Requirement already satisfied: mkl in /usr/local/lib/python3.10/dist-packages (from numpy<3->mlflow) (2025.0.1)\r\n",
      "Requirement already satisfied: tbb4py in /usr/local/lib/python3.10/dist-packages (from numpy<3->mlflow) (2022.0.0)\r\n",
      "Requirement already satisfied: mkl-service in /usr/local/lib/python3.10/dist-packages (from numpy<3->mlflow) (2.4.1)\r\n",
      "Requirement already satisfied: pytz>=2020.1 in /usr/local/lib/python3.10/dist-packages (from pandas<3->mlflow) (2025.1)\r\n",
      "Requirement already satisfied: tzdata>=2022.7 in /usr/local/lib/python3.10/dist-packages (from pandas<3->mlflow) (2025.1)\r\n",
      "Requirement already satisfied: joblib>=1.1.1 in /usr/local/lib/python3.10/dist-packages (from scikit-learn<2->mlflow) (1.4.2)\r\n",
      "Requirement already satisfied: threadpoolctl>=2.0.0 in /usr/local/lib/python3.10/dist-packages (from scikit-learn<2->mlflow) (3.5.0)\r\n",
      "Requirement already satisfied: greenlet!=0.4.17 in /usr/local/lib/python3.10/dist-packages (from sqlalchemy<3,>=1.4.0->mlflow) (3.1.1)\r\n",
      "Requirement already satisfied: google-auth~=2.0 in /usr/local/lib/python3.10/dist-packages (from databricks-sdk<1,>=0.20.0->mlflow-skinny==2.20.4->mlflow) (2.27.0)\r\n",
      "Requirement already satisfied: gitdb<5,>=4.0.1 in /usr/local/lib/python3.10/dist-packages (from gitpython<4,>=3.1.9->mlflow-skinny==2.20.4->mlflow) (4.0.11)\r\n",
      "Requirement already satisfied: zipp>=3.20 in /usr/local/lib/python3.10/dist-packages (from importlib_metadata!=4.7.0,<9,>=3.7.0->mlflow-skinny==2.20.4->mlflow) (3.21.0)\r\n",
      "Requirement already satisfied: deprecated>=1.2.6 in /usr/local/lib/python3.10/dist-packages (from opentelemetry-api<3,>=1.9.0->mlflow-skinny==2.20.4->mlflow) (1.2.15)\r\n",
      "Requirement already satisfied: opentelemetry-semantic-conventions==0.50b0 in /usr/local/lib/python3.10/dist-packages (from opentelemetry-sdk<3,>=1.9.0->mlflow-skinny==2.20.4->mlflow) (0.50b0)\r\n",
      "Requirement already satisfied: annotated-types>=0.6.0 in /usr/local/lib/python3.10/dist-packages (from pydantic<3,>=1.10.8->mlflow-skinny==2.20.4->mlflow) (0.7.0)\r\n",
      "Requirement already satisfied: pydantic-core==2.29.0 in /usr/local/lib/python3.10/dist-packages (from pydantic<3,>=1.10.8->mlflow-skinny==2.20.4->mlflow) (2.29.0)\r\n",
      "Requirement already satisfied: six>=1.5 in /usr/local/lib/python3.10/dist-packages (from python-dateutil<3,>=2.7.0->graphene<4->mlflow) (1.17.0)\r\n",
      "Requirement already satisfied: charset-normalizer<4,>=2 in /usr/local/lib/python3.10/dist-packages (from requests<3,>=2.17.3->mlflow-skinny==2.20.4->mlflow) (3.4.1)\r\n",
      "Requirement already satisfied: idna<4,>=2.5 in /usr/local/lib/python3.10/dist-packages (from requests<3,>=2.17.3->mlflow-skinny==2.20.4->mlflow) (3.10)\r\n",
      "Requirement already satisfied: certifi>=2017.4.17 in /usr/local/lib/python3.10/dist-packages (from requests<3,>=2.17.3->mlflow-skinny==2.20.4->mlflow) (2025.1.31)\r\n",
      "Requirement already satisfied: intel-openmp>=2024 in /usr/local/lib/python3.10/dist-packages (from mkl->numpy<3->mlflow) (2024.2.0)\r\n",
      "Requirement already satisfied: tbb==2022.* in /usr/local/lib/python3.10/dist-packages (from mkl->numpy<3->mlflow) (2022.0.0)\r\n",
      "Requirement already satisfied: tcmlib==1.* in /usr/local/lib/python3.10/dist-packages (from tbb==2022.*->mkl->numpy<3->mlflow) (1.2.0)\r\n",
      "Requirement already satisfied: intel-cmplr-lib-rt in /usr/local/lib/python3.10/dist-packages (from mkl_umath->numpy<3->mlflow) (2024.2.0)\r\n",
      "Requirement already satisfied: wrapt<2,>=1.10 in /usr/local/lib/python3.10/dist-packages (from deprecated>=1.2.6->opentelemetry-api<3,>=1.9.0->mlflow-skinny==2.20.4->mlflow) (1.17.0)\r\n",
      "Requirement already satisfied: smmap<6,>=3.0.1 in /usr/local/lib/python3.10/dist-packages (from gitdb<5,>=4.0.1->gitpython<4,>=3.1.9->mlflow-skinny==2.20.4->mlflow) (5.0.1)\r\n",
      "Requirement already satisfied: pyasn1-modules>=0.2.1 in /usr/local/lib/python3.10/dist-packages (from google-auth~=2.0->databricks-sdk<1,>=0.20.0->mlflow-skinny==2.20.4->mlflow) (0.4.1)\r\n",
      "Requirement already satisfied: rsa<5,>=3.1.4 in /usr/local/lib/python3.10/dist-packages (from google-auth~=2.0->databricks-sdk<1,>=0.20.0->mlflow-skinny==2.20.4->mlflow) (4.9)\r\n",
      "Requirement already satisfied: intel-cmplr-lib-ur==2024.2.0 in /usr/local/lib/python3.10/dist-packages (from intel-openmp>=2024->mkl->numpy<3->mlflow) (2024.2.0)\r\n",
      "Requirement already satisfied: pyasn1<0.7.0,>=0.4.6 in /usr/local/lib/python3.10/dist-packages (from pyasn1-modules>=0.2.1->google-auth~=2.0->databricks-sdk<1,>=0.20.0->mlflow-skinny==2.20.4->mlflow) (0.6.1)\r\n",
      "Downloading mlflow-2.20.4-py3-none-any.whl (28.4 MB)\r\n",
      "\u001b[2K   \u001b[90m━━━━━━━━━━━━━━━━━━━━━━━━━━━━━━━━━━━━━━━━\u001b[0m \u001b[32m28.4/28.4 MB\u001b[0m \u001b[31m53.7 MB/s\u001b[0m eta \u001b[36m0:00:00\u001b[0m\r\n",
      "\u001b[?25hDownloading mlflow_skinny-2.20.4-py3-none-any.whl (6.0 MB)\r\n",
      "\u001b[2K   \u001b[90m━━━━━━━━━━━━━━━━━━━━━━━━━━━━━━━━━━━━━━━━\u001b[0m \u001b[32m6.0/6.0 MB\u001b[0m \u001b[31m78.5 MB/s\u001b[0m eta \u001b[36m0:00:00\u001b[0m\r\n",
      "\u001b[?25hDownloading graphene-3.4.3-py2.py3-none-any.whl (114 kB)\r\n",
      "\u001b[2K   \u001b[90m━━━━━━━━━━━━━━━━━━━━━━━━━━━━━━━━━━━━━━━━\u001b[0m \u001b[32m114.9/114.9 kB\u001b[0m \u001b[31m5.1 MB/s\u001b[0m eta \u001b[36m0:00:00\u001b[0m\r\n",
      "\u001b[?25hDownloading gunicorn-23.0.0-py3-none-any.whl (85 kB)\r\n",
      "\u001b[2K   \u001b[90m━━━━━━━━━━━━━━━━━━━━━━━━━━━━━━━━━━━━━━━━\u001b[0m \u001b[32m85.0/85.0 kB\u001b[0m \u001b[31m3.7 MB/s\u001b[0m eta \u001b[36m0:00:00\u001b[0m\r\n",
      "\u001b[?25hDownloading databricks_sdk-0.46.0-py3-none-any.whl (677 kB)\r\n",
      "\u001b[2K   \u001b[90m━━━━━━━━━━━━━━━━━━━━━━━━━━━━━━━━━━━━━━━━\u001b[0m \u001b[32m677.5/677.5 kB\u001b[0m \u001b[31m25.9 MB/s\u001b[0m eta \u001b[36m0:00:00\u001b[0m\r\n",
      "\u001b[?25hDownloading graphql_core-3.2.6-py3-none-any.whl (203 kB)\r\n",
      "\u001b[2K   \u001b[90m━━━━━━━━━━━━━━━━━━━━━━━━━━━━━━━━━━━━━━━━\u001b[0m \u001b[32m203.4/203.4 kB\u001b[0m \u001b[31m10.3 MB/s\u001b[0m eta \u001b[36m0:00:00\u001b[0m\r\n",
      "\u001b[?25hDownloading graphql_relay-3.2.0-py3-none-any.whl (16 kB)\r\n",
      "Installing collected packages: gunicorn, graphql-core, graphql-relay, graphene, databricks-sdk, mlflow-skinny, mlflow\r\n",
      "Successfully installed databricks-sdk-0.46.0 graphene-3.4.3 graphql-core-3.2.6 graphql-relay-3.2.0 gunicorn-23.0.0 mlflow-2.20.4 mlflow-skinny-2.20.4\r\n"
     ]
    }
   ],
   "source": [
    "!pip install mlflow"
   ]
  },
  {
   "cell_type": "code",
   "execution_count": 2,
   "id": "3366ea1b",
   "metadata": {
    "_cell_guid": "b1076dfc-b9ad-4769-8c92-a6c4dae69d19",
    "_uuid": "8f2839f25d086af736a60e9eeb907d3b93b6e0e5",
    "execution": {
     "iopub.execute_input": "2025-03-13T21:54:24.137699Z",
     "iopub.status.busy": "2025-03-13T21:54:24.137272Z",
     "iopub.status.idle": "2025-03-13T21:54:45.954211Z",
     "shell.execute_reply": "2025-03-13T21:54:45.953125Z"
    },
    "papermill": {
     "duration": 21.82632,
     "end_time": "2025-03-13T21:54:45.956499",
     "exception": false,
     "start_time": "2025-03-13T21:54:24.130179",
     "status": "completed"
    },
    "tags": []
   },
   "outputs": [],
   "source": [
    "import gensim\n",
    "from gensim.utils import simple_preprocess\n",
    "import numpy as np\n",
    "import pandas as pd\n",
    "from sklearn.model_selection import train_test_split\n",
    "from gensim.models import Word2Vec\n",
    "from sklearn.preprocessing import MultiLabelBinarizer\n",
    "from sklearn.linear_model import LogisticRegression, SGDClassifier\n",
    "from sklearn.multiclass import OneVsRestClassifier\n",
    "from sklearn.metrics import jaccard_score\n",
    "import matplotlib.pyplot as plt\n",
    "\n",
    "import mlflow\n",
    "import mlflow.sklearn\n",
    "import os\n",
    "import shutil\n",
    "import pickle"
   ]
  },
  {
   "cell_type": "code",
   "execution_count": 3,
   "id": "24adbeac",
   "metadata": {
    "execution": {
     "iopub.execute_input": "2025-03-13T21:54:45.970240Z",
     "iopub.status.busy": "2025-03-13T21:54:45.969579Z",
     "iopub.status.idle": "2025-03-13T21:54:45.974500Z",
     "shell.execute_reply": "2025-03-13T21:54:45.973435Z"
    },
    "papermill": {
     "duration": 0.013657,
     "end_time": "2025-03-13T21:54:45.976355",
     "exception": false,
     "start_time": "2025-03-13T21:54:45.962698",
     "status": "completed"
    },
    "tags": []
   },
   "outputs": [],
   "source": [
    "os.makedirs(\"/kaggle/working/models\", exist_ok=True)"
   ]
  },
  {
   "cell_type": "code",
   "execution_count": 4,
   "id": "aa7c42f7",
   "metadata": {
    "execution": {
     "iopub.execute_input": "2025-03-13T21:54:45.990132Z",
     "iopub.status.busy": "2025-03-13T21:54:45.989727Z",
     "iopub.status.idle": "2025-03-13T21:54:46.011200Z",
     "shell.execute_reply": "2025-03-13T21:54:46.009970Z"
    },
    "papermill": {
     "duration": 0.030128,
     "end_time": "2025-03-13T21:54:46.012875",
     "exception": false,
     "start_time": "2025-03-13T21:54:45.982747",
     "status": "completed"
    },
    "tags": []
   },
   "outputs": [
    {
     "name": "stderr",
     "output_type": "stream",
     "text": [
      "2025/03/13 21:54:46 INFO mlflow.tracking.fluent: Experiment with name 'WORD2VEC' does not exist. Creating a new experiment.\n"
     ]
    },
    {
     "name": "stdout",
     "output_type": "stream",
     "text": [
      "MLflow configuré sur Kaggle ! Logs enregistrés dans /kaggle/working/mlruns\n"
     ]
    }
   ],
   "source": [
    "mlflow.set_tracking_uri(\"/kaggle/working/mlruns\")\n",
    "\n",
    "mlflow.set_experiment(\"WORD2VEC\")\n",
    "\n",
    "print(\"MLflow configuré sur Kaggle ! Logs enregistrés dans /kaggle/working/mlruns\")"
   ]
  },
  {
   "cell_type": "code",
   "execution_count": 5,
   "id": "be00bc11",
   "metadata": {
    "execution": {
     "iopub.execute_input": "2025-03-13T21:54:46.026696Z",
     "iopub.status.busy": "2025-03-13T21:54:46.026339Z",
     "iopub.status.idle": "2025-03-13T21:54:46.030825Z",
     "shell.execute_reply": "2025-03-13T21:54:46.029707Z"
    },
    "papermill": {
     "duration": 0.013229,
     "end_time": "2025-03-13T21:54:46.032532",
     "exception": false,
     "start_time": "2025-03-13T21:54:46.019303",
     "status": "completed"
    },
    "tags": []
   },
   "outputs": [],
   "source": [
    "# Exemple de fonction de tokenisation\n",
    "def preprocess_text(text):\n",
    "    return simple_preprocess(text)"
   ]
  },
  {
   "cell_type": "code",
   "execution_count": 6,
   "id": "55ff0ac5",
   "metadata": {
    "execution": {
     "iopub.execute_input": "2025-03-13T21:54:46.046438Z",
     "iopub.status.busy": "2025-03-13T21:54:46.046009Z",
     "iopub.status.idle": "2025-03-13T21:54:51.071255Z",
     "shell.execute_reply": "2025-03-13T21:54:51.070069Z"
    },
    "papermill": {
     "duration": 5.034248,
     "end_time": "2025-03-13T21:54:51.072900",
     "exception": false,
     "start_time": "2025-03-13T21:54:46.038652",
     "status": "completed"
    },
    "tags": []
   },
   "outputs": [
    {
     "data": {
      "text/html": [
       "<div>\n",
       "<style scoped>\n",
       "    .dataframe tbody tr th:only-of-type {\n",
       "        vertical-align: middle;\n",
       "    }\n",
       "\n",
       "    .dataframe tbody tr th {\n",
       "        vertical-align: top;\n",
       "    }\n",
       "\n",
       "    .dataframe thead th {\n",
       "        text-align: right;\n",
       "    }\n",
       "</style>\n",
       "<table border=\"1\" class=\"dataframe\">\n",
       "  <thead>\n",
       "    <tr style=\"text-align: right;\">\n",
       "      <th></th>\n",
       "      <th>Id</th>\n",
       "      <th>Title</th>\n",
       "      <th>Body</th>\n",
       "      <th>Tags</th>\n",
       "      <th>Score</th>\n",
       "      <th>ViewCount</th>\n",
       "      <th>AnswerCount</th>\n",
       "      <th>CreationDate</th>\n",
       "      <th>Processed</th>\n",
       "    </tr>\n",
       "  </thead>\n",
       "  <tbody>\n",
       "    <tr>\n",
       "      <th>33553</th>\n",
       "      <td>76601348</td>\n",
       "      <td>How do I pass in parameters into arrow functio...</td>\n",
       "      <td>&lt;p&gt;&lt;a href=\"https://i.sstatic.net/u7abJ.png\" r...</td>\n",
       "      <td>&lt;reactjs&gt;&lt;react-hooks&gt;&lt;jsx&gt;&lt;parameter-passing&gt;...</td>\n",
       "      <td>-2</td>\n",
       "      <td>488</td>\n",
       "      <td>2</td>\n",
       "      <td>2023-07-03 01:16:37</td>\n",
       "      <td>['pass', 'parameter', 'arrow', 'function', 're...</td>\n",
       "    </tr>\n",
       "    <tr>\n",
       "      <th>9427</th>\n",
       "      <td>75749445</td>\n",
       "      <td>How to test @NotBlank spring validation with J...</td>\n",
       "      <td>&lt;p&gt;I am trying to test validation I have a con...</td>\n",
       "      <td>&lt;java&gt;&lt;spring&gt;&lt;spring-boot&gt;&lt;validation&gt;&lt;testing&gt;</td>\n",
       "      <td>0</td>\n",
       "      <td>1582</td>\n",
       "      <td>2</td>\n",
       "      <td>2023-03-15 19:51:22</td>\n",
       "      <td>['test', 'spring', 'validation', 'junit', 'try...</td>\n",
       "    </tr>\n",
       "    <tr>\n",
       "      <th>199</th>\n",
       "      <td>75900198</td>\n",
       "      <td>DBeaver - unable to update driver: \"Network un...</td>\n",
       "      <td>&lt;p&gt;Always getting this error when I try to upd...</td>\n",
       "      <td>&lt;ssl&gt;&lt;network-programming&gt;&lt;ssl-certificate&gt;&lt;dr...</td>\n",
       "      <td>5</td>\n",
       "      <td>21968</td>\n",
       "      <td>1</td>\n",
       "      <td>2023-03-31 15:22:24</td>\n",
       "      <td>['update', 'driver', 'network', 'certificate',...</td>\n",
       "    </tr>\n",
       "    <tr>\n",
       "      <th>12447</th>\n",
       "      <td>76021053</td>\n",
       "      <td>Youtube player API to get server url few times...</td>\n",
       "      <td>&lt;p&gt;I am using this code in PHP to get the Yout...</td>\n",
       "      <td>&lt;php&gt;&lt;youtube&gt;&lt;youtube-api&gt;&lt;youtube-data-api&gt;&lt;...</td>\n",
       "      <td>0</td>\n",
       "      <td>1251</td>\n",
       "      <td>1</td>\n",
       "      <td>2023-04-15 08:08:22</td>\n",
       "      <td>['player', 'api', 'server', 'url', 'time', 're...</td>\n",
       "    </tr>\n",
       "    <tr>\n",
       "      <th>39489</th>\n",
       "      <td>78823804</td>\n",
       "      <td>Where is it specified the path to look for ker...</td>\n",
       "      <td>&lt;p&gt;I am launching an Anconda prompt from a Win...</td>\n",
       "      <td>&lt;python&gt;&lt;json&gt;&lt;anaconda&gt;&lt;kernel&gt;&lt;jupyter&gt;</td>\n",
       "      <td>0</td>\n",
       "      <td>398</td>\n",
       "      <td>1</td>\n",
       "      <td>2024-08-02 04:42:33</td>\n",
       "      <td>['specify', 'path', 'look', 'launch', 'window'...</td>\n",
       "    </tr>\n",
       "  </tbody>\n",
       "</table>\n",
       "</div>"
      ],
      "text/plain": [
       "             Id                                              Title  \\\n",
       "33553  76601348  How do I pass in parameters into arrow functio...   \n",
       "9427   75749445  How to test @NotBlank spring validation with J...   \n",
       "199    75900198  DBeaver - unable to update driver: \"Network un...   \n",
       "12447  76021053  Youtube player API to get server url few times...   \n",
       "39489  78823804  Where is it specified the path to look for ker...   \n",
       "\n",
       "                                                    Body  \\\n",
       "33553  <p><a href=\"https://i.sstatic.net/u7abJ.png\" r...   \n",
       "9427   <p>I am trying to test validation I have a con...   \n",
       "199    <p>Always getting this error when I try to upd...   \n",
       "12447  <p>I am using this code in PHP to get the Yout...   \n",
       "39489  <p>I am launching an Anconda prompt from a Win...   \n",
       "\n",
       "                                                    Tags  Score  ViewCount  \\\n",
       "33553  <reactjs><react-hooks><jsx><parameter-passing>...     -2        488   \n",
       "9427    <java><spring><spring-boot><validation><testing>      0       1582   \n",
       "199    <ssl><network-programming><ssl-certificate><dr...      5      21968   \n",
       "12447  <php><youtube><youtube-api><youtube-data-api><...      0       1251   \n",
       "39489          <python><json><anaconda><kernel><jupyter>      0        398   \n",
       "\n",
       "       AnswerCount         CreationDate  \\\n",
       "33553            2  2023-07-03 01:16:37   \n",
       "9427             2  2023-03-15 19:51:22   \n",
       "199              1  2023-03-31 15:22:24   \n",
       "12447            1  2023-04-15 08:08:22   \n",
       "39489            1  2024-08-02 04:42:33   \n",
       "\n",
       "                                               Processed  \n",
       "33553  ['pass', 'parameter', 'arrow', 'function', 're...  \n",
       "9427   ['test', 'spring', 'validation', 'junit', 'try...  \n",
       "199    ['update', 'driver', 'network', 'certificate',...  \n",
       "12447  ['player', 'api', 'server', 'url', 'time', 're...  \n",
       "39489  ['specify', 'path', 'look', 'launch', 'window'...  "
      ]
     },
     "execution_count": 6,
     "metadata": {},
     "output_type": "execute_result"
    }
   ],
   "source": [
    "data_og = pd.read_csv(\"/kaggle/input/bigot-benjamin-1-notebook-exploration-022025/preprocessed_data.csv\")\n",
    "data = data_og.sample(n=10000, random_state=42)\n",
    "data.head()"
   ]
  },
  {
   "cell_type": "code",
   "execution_count": 7,
   "id": "7d7b77b2",
   "metadata": {
    "execution": {
     "iopub.execute_input": "2025-03-13T21:54:51.087285Z",
     "iopub.status.busy": "2025-03-13T21:54:51.086830Z",
     "iopub.status.idle": "2025-03-13T21:54:51.888760Z",
     "shell.execute_reply": "2025-03-13T21:54:51.887755Z"
    },
    "papermill": {
     "duration": 0.81128,
     "end_time": "2025-03-13T21:54:51.890819",
     "exception": false,
     "start_time": "2025-03-13T21:54:51.079539",
     "status": "completed"
    },
    "tags": []
   },
   "outputs": [],
   "source": [
    "df_train = pd.read_csv(\"/kaggle/input/embeddings/X_train.csv\")\n",
    "df_test = pd.read_csv(\"/kaggle/input/embeddings/X_test.csv\")\n",
    "\n",
    "X_train = df_train.to_numpy()\n",
    "X_test = df_test.to_numpy()"
   ]
  },
  {
   "cell_type": "code",
   "execution_count": 8,
   "id": "2f1adf9b",
   "metadata": {
    "execution": {
     "iopub.execute_input": "2025-03-13T21:54:51.904881Z",
     "iopub.status.busy": "2025-03-13T21:54:51.904558Z",
     "iopub.status.idle": "2025-03-13T21:54:51.913161Z",
     "shell.execute_reply": "2025-03-13T21:54:51.912168Z"
    },
    "papermill": {
     "duration": 0.017317,
     "end_time": "2025-03-13T21:54:51.914793",
     "exception": false,
     "start_time": "2025-03-13T21:54:51.897476",
     "status": "completed"
    },
    "tags": []
   },
   "outputs": [
    {
     "data": {
      "text/html": [
       "<div>\n",
       "<style scoped>\n",
       "    .dataframe tbody tr th:only-of-type {\n",
       "        vertical-align: middle;\n",
       "    }\n",
       "\n",
       "    .dataframe tbody tr th {\n",
       "        vertical-align: top;\n",
       "    }\n",
       "\n",
       "    .dataframe thead th {\n",
       "        text-align: right;\n",
       "    }\n",
       "</style>\n",
       "<table border=\"1\" class=\"dataframe\">\n",
       "  <thead>\n",
       "    <tr style=\"text-align: right;\">\n",
       "      <th></th>\n",
       "      <th>0</th>\n",
       "    </tr>\n",
       "  </thead>\n",
       "  <tbody>\n",
       "    <tr>\n",
       "      <th>0</th>\n",
       "      <td>['pytorch', 'the', 'number', 'of', 'sizes', 'p...</td>\n",
       "    </tr>\n",
       "    <tr>\n",
       "      <th>1</th>\n",
       "      <td>['the', 'best', 'and', 'fast', 'way', 'to', 'c...</td>\n",
       "    </tr>\n",
       "    <tr>\n",
       "      <th>2</th>\n",
       "      <td>['why', 'my', 'mistral', 'model', 'generate', ...</td>\n",
       "    </tr>\n",
       "    <tr>\n",
       "      <th>3</th>\n",
       "      <td>['is', 'there', 'any', 'way', 'beeware', 'is',...</td>\n",
       "    </tr>\n",
       "    <tr>\n",
       "      <th>4</th>\n",
       "      <td>['how', 'to', 'use', 'ffmpeg', 'with', 'node',...</td>\n",
       "    </tr>\n",
       "  </tbody>\n",
       "</table>\n",
       "</div>"
      ],
      "text/plain": [
       "                                                   0\n",
       "0  ['pytorch', 'the', 'number', 'of', 'sizes', 'p...\n",
       "1  ['the', 'best', 'and', 'fast', 'way', 'to', 'c...\n",
       "2  ['why', 'my', 'mistral', 'model', 'generate', ...\n",
       "3  ['is', 'there', 'any', 'way', 'beeware', 'is',...\n",
       "4  ['how', 'to', 'use', 'ffmpeg', 'with', 'node',..."
      ]
     },
     "execution_count": 8,
     "metadata": {},
     "output_type": "execute_result"
    }
   ],
   "source": [
    "df_test.head()"
   ]
  },
  {
   "cell_type": "code",
   "execution_count": 9,
   "id": "a2980498",
   "metadata": {
    "execution": {
     "iopub.execute_input": "2025-03-13T21:54:51.930191Z",
     "iopub.status.busy": "2025-03-13T21:54:51.929766Z",
     "iopub.status.idle": "2025-03-13T21:54:54.688911Z",
     "shell.execute_reply": "2025-03-13T21:54:54.687796Z"
    },
    "papermill": {
     "duration": 2.769282,
     "end_time": "2025-03-13T21:54:54.690725",
     "exception": false,
     "start_time": "2025-03-13T21:54:51.921443",
     "status": "completed"
    },
    "tags": []
   },
   "outputs": [
    {
     "name": "stdout",
     "output_type": "stream",
     "text": [
      "Taille du train : 8000\n",
      "Taille du test : 2000\n"
     ]
    }
   ],
   "source": [
    "df_train_w2v, df_test_w2v, df_y_train, df_y_test = pd.read_csv(\"/kaggle/input/embeddings/X_train_W2V.csv\"), \\\n",
    "pd.read_csv(\"/kaggle/input/embeddings/X_test_W2V.csv\"), \\\n",
    "pd.read_csv(\"/kaggle/input/embeddings/y_train.csv\"), \\\n",
    "pd.read_csv(\"/kaggle/input/embeddings/y_test.csv\")\n",
    "\n",
    "X_train_w2v, X_test_w2v, y_train, y_test = df_train_w2v.to_numpy(), df_test_w2v.to_numpy(), df_y_train.to_numpy(), df_y_test.to_numpy()\n",
    "\n",
    "# Vérifier la taille des jeux de données\n",
    "print(f\"Taille du train : {len(X_train_w2v)}\")\n",
    "print(f\"Taille du test : {len(X_test_w2v)}\")"
   ]
  },
  {
   "cell_type": "code",
   "execution_count": 10,
   "id": "09ad0ef1",
   "metadata": {
    "execution": {
     "iopub.execute_input": "2025-03-13T21:54:54.705758Z",
     "iopub.status.busy": "2025-03-13T21:54:54.705410Z",
     "iopub.status.idle": "2025-03-13T22:01:17.740209Z",
     "shell.execute_reply": "2025-03-13T22:01:17.738931Z"
    },
    "papermill": {
     "duration": 383.044626,
     "end_time": "2025-03-13T22:01:17.742318",
     "exception": false,
     "start_time": "2025-03-13T21:54:54.697692",
     "status": "completed"
    },
    "tags": []
   },
   "outputs": [
    {
     "name": "stderr",
     "output_type": "stream",
     "text": [
      "/usr/local/lib/python3.10/dist-packages/sklearn/metrics/_classification.py:1344: UndefinedMetricWarning: Jaccard is ill-defined and being set to 0.0 in samples with no true or predicted labels. Use `zero_division` parameter to control this behavior.\n",
      "  _warn_prf(average, modifier, msg_start, len(result))\n"
     ]
    },
    {
     "name": "stdout",
     "output_type": "stream",
     "text": [
      "Jaccard Score avec Word2Vec : 0.20130421653509886\n"
     ]
    },
    {
     "name": "stderr",
     "output_type": "stream",
     "text": [
      "\u001b[31m2025/03/13 22:01:17 WARNING mlflow.models.model: Model logged without a signature and input example. Please set `input_example` parameter when logging the model to auto infer the model signature.\u001b[0m\n"
     ]
    }
   ],
   "source": [
    "clf = OneVsRestClassifier(LogisticRegression(max_iter=1000))\n",
    "clf.fit(X_train_w2v, y_train)\n",
    "\n",
    "y_pred = clf.predict(X_test_w2v)\n",
    "score = jaccard_score(y_test, y_pred, average=\"samples\")\n",
    "print(\"Jaccard Score avec Word2Vec :\", score)\n",
    "\n",
    "with mlflow.start_run():\n",
    "    mlflow.log_param(\"model\", \"W2V : OneVsRest + LogisticRegression\")\n",
    "    mlflow.log_param(\"max_iter\", 1000)\n",
    "    mlflow.log_metric(\"jaccard_score\", score)\n",
    "    \n",
    "    # Sauvegarder le modèle\n",
    "    mlflow.sklearn.log_model(clf, \"model\")"
   ]
  },
  {
   "cell_type": "code",
   "execution_count": 11,
   "id": "36e91aa2",
   "metadata": {
    "execution": {
     "iopub.execute_input": "2025-03-13T22:01:17.758766Z",
     "iopub.status.busy": "2025-03-13T22:01:17.758419Z",
     "iopub.status.idle": "2025-03-13T22:06:13.305187Z",
     "shell.execute_reply": "2025-03-13T22:06:13.304070Z"
    },
    "papermill": {
     "duration": 295.557759,
     "end_time": "2025-03-13T22:06:13.307567",
     "exception": false,
     "start_time": "2025-03-13T22:01:17.749808",
     "status": "completed"
    },
    "tags": []
   },
   "outputs": [
    {
     "name": "stderr",
     "output_type": "stream",
     "text": [
      "/usr/local/lib/python3.10/dist-packages/sklearn/metrics/_classification.py:1344: UndefinedMetricWarning: Jaccard is ill-defined and being set to 0.0 in samples with no true or predicted labels. Use `zero_division` parameter to control this behavior.\n",
      "  _warn_prf(average, modifier, msg_start, len(result))\n"
     ]
    },
    {
     "name": "stdout",
     "output_type": "stream",
     "text": [
      "Jaccard Score avec Word2Vec : 0.21125368974897726\n"
     ]
    },
    {
     "name": "stderr",
     "output_type": "stream",
     "text": [
      "\u001b[31m2025/03/13 22:06:13 WARNING mlflow.models.model: Model logged without a signature and input example. Please set `input_example` parameter when logging the model to auto infer the model signature.\u001b[0m\n"
     ]
    }
   ],
   "source": [
    "# Supposons que y_train et y_test contiennent les étiquettes (préalablement encodées)\n",
    "clf_sgd = OneVsRestClassifier(SGDClassifier(loss=\"log_loss\", max_iter=1000))\n",
    "clf_sgd.fit(X_train_w2v, y_train)\n",
    "\n",
    "y_pred = clf_sgd.predict(X_test_w2v)\n",
    "score = jaccard_score(y_test, y_pred, average=\"samples\")\n",
    "print(\"Jaccard Score avec Word2Vec :\", score)\n",
    "\n",
    "with mlflow.start_run():\n",
    "    mlflow.log_param(\"model\", \"W2V : OneVsRest + SGDClassifier\")\n",
    "    mlflow.log_param(\"max_iter\", 1000)\n",
    "    mlflow.log_metric(\"jaccard_score\", score)\n",
    "    \n",
    "    # Sauvegarder le modèle\n",
    "    mlflow.sklearn.log_model(clf_sgd, \"model\")"
   ]
  },
  {
   "cell_type": "code",
   "execution_count": 12,
   "id": "2ca48621",
   "metadata": {
    "execution": {
     "iopub.execute_input": "2025-03-13T22:06:13.322995Z",
     "iopub.status.busy": "2025-03-13T22:06:13.322657Z",
     "iopub.status.idle": "2025-03-13T22:06:14.775302Z",
     "shell.execute_reply": "2025-03-13T22:06:14.774095Z"
    },
    "papermill": {
     "duration": 1.462739,
     "end_time": "2025-03-13T22:06:14.777503",
     "exception": false,
     "start_time": "2025-03-13T22:06:13.314764",
     "status": "completed"
    },
    "tags": []
   },
   "outputs": [
    {
     "name": "stdout",
     "output_type": "stream",
     "text": [
      "Classes rechargées : ['python' 'javascript' 'reactjs' ... 'quic' 'apple-developer' 'appkit']\n"
     ]
    }
   ],
   "source": [
    "y_proba = clf_sgd.predict_proba(X_test_w2v)\n",
    "\n",
    "with open(\"/kaggle/input/embeddings/mlb.pkl\", \"rb\") as f:\n",
    "    mlb_loaded = pickle.load(f)\n",
    "\n",
    "print(\"Classes rechargées :\", mlb_loaded.classes_)\n",
    "# Définir un seuil de probabilité\n",
    "threshold = 0.7\n",
    "\n",
    "# Fonction pour récupérer les tags qui dépassent le seuil\n",
    "def get_tags_with_threshold(probas, threshold=0.3):\n",
    "    indices = np.where(probas >= threshold)[0]\n",
    "    if len(indices) == 0:\n",
    "        indices = [np.argmax(probas)]\n",
    "    return [mlb_loaded.classes_[i] for i in indices]\n",
    "\n",
    "# Appliquer sur toutes les prédictions\n",
    "predicted_tags = [get_tags_with_threshold(proba, threshold) for proba in y_proba]\n"
   ]
  },
  {
   "cell_type": "code",
   "execution_count": 13,
   "id": "dfc6aa06",
   "metadata": {
    "execution": {
     "iopub.execute_input": "2025-03-13T22:06:14.793300Z",
     "iopub.status.busy": "2025-03-13T22:06:14.792870Z",
     "iopub.status.idle": "2025-03-13T22:06:19.951617Z",
     "shell.execute_reply": "2025-03-13T22:06:19.950358Z"
    },
    "papermill": {
     "duration": 5.168722,
     "end_time": "2025-03-13T22:06:19.953742",
     "exception": false,
     "start_time": "2025-03-13T22:06:14.785020",
     "status": "completed"
    },
    "tags": []
   },
   "outputs": [],
   "source": [
    "X_test_with_predictions = pd.DataFrame(X_test)\n",
    "X_train = pd.DataFrame(X_train)\n",
    "X_test = pd.DataFrame(X_test)\n",
    "y_train = pd.DataFrame(y_train) \n",
    "y_test = pd.DataFrame(y_test)\n",
    "\n",
    "X_test_with_predictions[\"Predicted_Tags\"] = predicted_tags\n",
    "\n",
    "X_total = pd.concat([X_train, X_test], axis=0).reset_index(drop=True)\n",
    "Y_total = pd.concat([y_train, y_test], axis=0).reset_index(drop=True)\n",
    "X_total_reset = X_total.reset_index(drop=True)\n",
    "Y_total_reset = Y_total.reset_index(drop=True)\n",
    "\n",
    "# Concaténer horizontalement (axis=1)\n",
    "df_total = pd.concat([X_total_reset, Y_total_reset], axis=1)\n",
    "\n",
    "X_test_with_predictions.to_csv(\"X_test_with_predictions_W2V.csv\", index=False)\n",
    "df_total.to_csv(\"df_final_W2V.csv\", index=False)"
   ]
  },
  {
   "cell_type": "code",
   "execution_count": 14,
   "id": "a1cc6729",
   "metadata": {
    "execution": {
     "iopub.execute_input": "2025-03-13T22:06:19.970583Z",
     "iopub.status.busy": "2025-03-13T22:06:19.970228Z",
     "iopub.status.idle": "2025-03-13T22:06:20.517721Z",
     "shell.execute_reply": "2025-03-13T22:06:20.516419Z"
    },
    "papermill": {
     "duration": 0.558099,
     "end_time": "2025-03-13T22:06:20.519527",
     "exception": false,
     "start_time": "2025-03-13T22:06:19.961428",
     "status": "completed"
    },
    "tags": []
   },
   "outputs": [
    {
     "data": {
      "text/plain": [
       "'/kaggle/working/mlruns_w2v.zip'"
      ]
     },
     "execution_count": 14,
     "metadata": {},
     "output_type": "execute_result"
    }
   ],
   "source": [
    "# Compresser tout le répertoire mlruns\n",
    "shutil.make_archive(\"/kaggle/working/mlruns_w2v\", \"zip\", \"/kaggle/working/mlruns\")"
   ]
  }
 ],
 "metadata": {
  "kaggle": {
   "accelerator": "none",
   "dataSources": [
    {
     "sourceId": 223348701,
     "sourceType": "kernelVersion"
    },
    {
     "sourceId": 227440531,
     "sourceType": "kernelVersion"
    }
   ],
   "dockerImageVersionId": 30918,
   "isGpuEnabled": false,
   "isInternetEnabled": true,
   "language": "python",
   "sourceType": "notebook"
  },
  "kernelspec": {
   "display_name": "Python 3",
   "language": "python",
   "name": "python3"
  },
  "language_info": {
   "codemirror_mode": {
    "name": "ipython",
    "version": 3
   },
   "file_extension": ".py",
   "mimetype": "text/x-python",
   "name": "python",
   "nbconvert_exporter": "python",
   "pygments_lexer": "ipython3",
   "version": "3.10.12"
  },
  "papermill": {
   "default_parameters": {},
   "duration": 735.100493,
   "end_time": "2025-03-13T22:06:23.489918",
   "environment_variables": {},
   "exception": null,
   "input_path": "__notebook__.ipynb",
   "output_path": "__notebook__.ipynb",
   "parameters": {},
   "start_time": "2025-03-13T21:54:08.389425",
   "version": "2.6.0"
  }
 },
 "nbformat": 4,
 "nbformat_minor": 5
}
