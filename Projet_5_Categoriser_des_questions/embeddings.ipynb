{
 "cells": [
  {
   "cell_type": "code",
   "execution_count": 1,
   "id": "97550c4d",
   "metadata": {
    "execution": {
     "iopub.execute_input": "2025-03-13T17:15:04.285858Z",
     "iopub.status.busy": "2025-03-13T17:15:04.285451Z",
     "iopub.status.idle": "2025-03-13T17:15:14.451440Z",
     "shell.execute_reply": "2025-03-13T17:15:14.450037Z"
    },
    "papermill": {
     "duration": 10.175992,
     "end_time": "2025-03-13T17:15:14.453787",
     "exception": false,
     "start_time": "2025-03-13T17:15:04.277795",
     "status": "completed"
    },
    "tags": []
   },
   "outputs": [
    {
     "name": "stdout",
     "output_type": "stream",
     "text": [
      "Requirement already satisfied: transformers in /usr/local/lib/python3.10/dist-packages (4.47.0)\r\n",
      "Requirement already satisfied: torch in /usr/local/lib/python3.10/dist-packages (2.5.1+cu121)\r\n",
      "Requirement already satisfied: filelock in /usr/local/lib/python3.10/dist-packages (from transformers) (3.17.0)\r\n",
      "Requirement already satisfied: huggingface-hub<1.0,>=0.24.0 in /usr/local/lib/python3.10/dist-packages (from transformers) (0.29.0)\r\n",
      "Requirement already satisfied: numpy>=1.17 in /usr/local/lib/python3.10/dist-packages (from transformers) (1.26.4)\r\n",
      "Requirement already satisfied: packaging>=20.0 in /usr/local/lib/python3.10/dist-packages (from transformers) (24.2)\r\n",
      "Requirement already satisfied: pyyaml>=5.1 in /usr/local/lib/python3.10/dist-packages (from transformers) (6.0.2)\r\n",
      "Requirement already satisfied: regex!=2019.12.17 in /usr/local/lib/python3.10/dist-packages (from transformers) (2024.11.6)\r\n",
      "Requirement already satisfied: requests in /usr/local/lib/python3.10/dist-packages (from transformers) (2.32.3)\r\n",
      "Requirement already satisfied: tokenizers<0.22,>=0.21 in /usr/local/lib/python3.10/dist-packages (from transformers) (0.21.0)\r\n",
      "Requirement already satisfied: safetensors>=0.4.1 in /usr/local/lib/python3.10/dist-packages (from transformers) (0.4.5)\r\n",
      "Requirement already satisfied: tqdm>=4.27 in /usr/local/lib/python3.10/dist-packages (from transformers) (4.67.1)\r\n",
      "Requirement already satisfied: typing-extensions>=4.8.0 in /usr/local/lib/python3.10/dist-packages (from torch) (4.12.2)\r\n",
      "Requirement already satisfied: networkx in /usr/local/lib/python3.10/dist-packages (from torch) (3.4.2)\r\n",
      "Requirement already satisfied: jinja2 in /usr/local/lib/python3.10/dist-packages (from torch) (3.1.4)\r\n",
      "Requirement already satisfied: fsspec in /usr/local/lib/python3.10/dist-packages (from torch) (2024.12.0)\r\n",
      "Requirement already satisfied: sympy==1.13.1 in /usr/local/lib/python3.10/dist-packages (from torch) (1.13.1)\r\n",
      "Requirement already satisfied: mpmath<1.4,>=1.1.0 in /usr/local/lib/python3.10/dist-packages (from sympy==1.13.1->torch) (1.3.0)\r\n",
      "Requirement already satisfied: mkl_fft in /usr/local/lib/python3.10/dist-packages (from numpy>=1.17->transformers) (1.3.8)\r\n",
      "Requirement already satisfied: mkl_random in /usr/local/lib/python3.10/dist-packages (from numpy>=1.17->transformers) (1.2.4)\r\n",
      "Requirement already satisfied: mkl_umath in /usr/local/lib/python3.10/dist-packages (from numpy>=1.17->transformers) (0.1.1)\r\n",
      "Requirement already satisfied: mkl in /usr/local/lib/python3.10/dist-packages (from numpy>=1.17->transformers) (2025.0.1)\r\n",
      "Requirement already satisfied: tbb4py in /usr/local/lib/python3.10/dist-packages (from numpy>=1.17->transformers) (2022.0.0)\r\n",
      "Requirement already satisfied: mkl-service in /usr/local/lib/python3.10/dist-packages (from numpy>=1.17->transformers) (2.4.1)\r\n",
      "Requirement already satisfied: MarkupSafe>=2.0 in /usr/local/lib/python3.10/dist-packages (from jinja2->torch) (3.0.2)\r\n",
      "Requirement already satisfied: charset-normalizer<4,>=2 in /usr/local/lib/python3.10/dist-packages (from requests->transformers) (3.4.1)\r\n",
      "Requirement already satisfied: idna<4,>=2.5 in /usr/local/lib/python3.10/dist-packages (from requests->transformers) (3.10)\r\n",
      "Requirement already satisfied: urllib3<3,>=1.21.1 in /usr/local/lib/python3.10/dist-packages (from requests->transformers) (2.3.0)\r\n",
      "Requirement already satisfied: certifi>=2017.4.17 in /usr/local/lib/python3.10/dist-packages (from requests->transformers) (2025.1.31)\r\n",
      "Requirement already satisfied: intel-openmp>=2024 in /usr/local/lib/python3.10/dist-packages (from mkl->numpy>=1.17->transformers) (2024.2.0)\r\n",
      "Requirement already satisfied: tbb==2022.* in /usr/local/lib/python3.10/dist-packages (from mkl->numpy>=1.17->transformers) (2022.0.0)\r\n",
      "Requirement already satisfied: tcmlib==1.* in /usr/local/lib/python3.10/dist-packages (from tbb==2022.*->mkl->numpy>=1.17->transformers) (1.2.0)\r\n",
      "Requirement already satisfied: intel-cmplr-lib-rt in /usr/local/lib/python3.10/dist-packages (from mkl_umath->numpy>=1.17->transformers) (2024.2.0)\r\n",
      "Requirement already satisfied: intel-cmplr-lib-ur==2024.2.0 in /usr/local/lib/python3.10/dist-packages (from intel-openmp>=2024->mkl->numpy>=1.17->transformers) (2024.2.0)\r\n",
      "Requirement already satisfied: tensorflow in /usr/local/lib/python3.10/dist-packages (2.17.1)\r\n",
      "Requirement already satisfied: tensorflow-hub in /usr/local/lib/python3.10/dist-packages (0.16.1)\r\n",
      "Requirement already satisfied: absl-py>=1.0.0 in /usr/local/lib/python3.10/dist-packages (from tensorflow) (1.4.0)\r\n",
      "Requirement already satisfied: astunparse>=1.6.0 in /usr/local/lib/python3.10/dist-packages (from tensorflow) (1.6.3)\r\n",
      "Requirement already satisfied: flatbuffers>=24.3.25 in /usr/local/lib/python3.10/dist-packages (from tensorflow) (24.3.25)\r\n",
      "Requirement already satisfied: gast!=0.5.0,!=0.5.1,!=0.5.2,>=0.2.1 in /usr/local/lib/python3.10/dist-packages (from tensorflow) (0.6.0)\r\n",
      "Requirement already satisfied: google-pasta>=0.1.1 in /usr/local/lib/python3.10/dist-packages (from tensorflow) (0.2.0)\r\n",
      "Requirement already satisfied: h5py>=3.10.0 in /usr/local/lib/python3.10/dist-packages (from tensorflow) (3.12.1)\r\n",
      "Requirement already satisfied: libclang>=13.0.0 in /usr/local/lib/python3.10/dist-packages (from tensorflow) (18.1.1)\r\n",
      "Requirement already satisfied: ml-dtypes<0.5.0,>=0.3.1 in /usr/local/lib/python3.10/dist-packages (from tensorflow) (0.4.1)\r\n",
      "Requirement already satisfied: opt-einsum>=2.3.2 in /usr/local/lib/python3.10/dist-packages (from tensorflow) (3.4.0)\r\n",
      "Requirement already satisfied: packaging in /usr/local/lib/python3.10/dist-packages (from tensorflow) (24.2)\r\n",
      "Requirement already satisfied: protobuf!=4.21.0,!=4.21.1,!=4.21.2,!=4.21.3,!=4.21.4,!=4.21.5,<5.0.0dev,>=3.20.3 in /usr/local/lib/python3.10/dist-packages (from tensorflow) (3.20.3)\r\n",
      "Requirement already satisfied: requests<3,>=2.21.0 in /usr/local/lib/python3.10/dist-packages (from tensorflow) (2.32.3)\r\n",
      "Requirement already satisfied: setuptools in /usr/local/lib/python3.10/dist-packages (from tensorflow) (75.1.0)\r\n",
      "Requirement already satisfied: six>=1.12.0 in /usr/local/lib/python3.10/dist-packages (from tensorflow) (1.17.0)\r\n",
      "Requirement already satisfied: termcolor>=1.1.0 in /usr/local/lib/python3.10/dist-packages (from tensorflow) (2.5.0)\r\n",
      "Requirement already satisfied: typing-extensions>=3.6.6 in /usr/local/lib/python3.10/dist-packages (from tensorflow) (4.12.2)\r\n",
      "Requirement already satisfied: wrapt>=1.11.0 in /usr/local/lib/python3.10/dist-packages (from tensorflow) (1.17.0)\r\n",
      "Requirement already satisfied: grpcio<2.0,>=1.24.3 in /usr/local/lib/python3.10/dist-packages (from tensorflow) (1.68.1)\r\n",
      "Requirement already satisfied: tensorboard<2.18,>=2.17 in /usr/local/lib/python3.10/dist-packages (from tensorflow) (2.17.1)\r\n",
      "Requirement already satisfied: keras>=3.2.0 in /usr/local/lib/python3.10/dist-packages (from tensorflow) (3.5.0)\r\n",
      "Requirement already satisfied: tensorflow-io-gcs-filesystem>=0.23.1 in /usr/local/lib/python3.10/dist-packages (from tensorflow) (0.37.1)\r\n",
      "Requirement already satisfied: numpy<2.0.0,>=1.23.5 in /usr/local/lib/python3.10/dist-packages (from tensorflow) (1.26.4)\r\n",
      "Requirement already satisfied: tf-keras>=2.14.1 in /usr/local/lib/python3.10/dist-packages (from tensorflow-hub) (2.17.0)\r\n",
      "Requirement already satisfied: wheel<1.0,>=0.23.0 in /usr/local/lib/python3.10/dist-packages (from astunparse>=1.6.0->tensorflow) (0.45.1)\r\n",
      "Requirement already satisfied: rich in /usr/local/lib/python3.10/dist-packages (from keras>=3.2.0->tensorflow) (13.9.4)\r\n",
      "Requirement already satisfied: namex in /usr/local/lib/python3.10/dist-packages (from keras>=3.2.0->tensorflow) (0.0.8)\r\n",
      "Requirement already satisfied: optree in /usr/local/lib/python3.10/dist-packages (from keras>=3.2.0->tensorflow) (0.13.1)\r\n",
      "Requirement already satisfied: mkl_fft in /usr/local/lib/python3.10/dist-packages (from numpy<2.0.0,>=1.23.5->tensorflow) (1.3.8)\r\n",
      "Requirement already satisfied: mkl_random in /usr/local/lib/python3.10/dist-packages (from numpy<2.0.0,>=1.23.5->tensorflow) (1.2.4)\r\n",
      "Requirement already satisfied: mkl_umath in /usr/local/lib/python3.10/dist-packages (from numpy<2.0.0,>=1.23.5->tensorflow) (0.1.1)\r\n",
      "Requirement already satisfied: mkl in /usr/local/lib/python3.10/dist-packages (from numpy<2.0.0,>=1.23.5->tensorflow) (2025.0.1)\r\n",
      "Requirement already satisfied: tbb4py in /usr/local/lib/python3.10/dist-packages (from numpy<2.0.0,>=1.23.5->tensorflow) (2022.0.0)\r\n",
      "Requirement already satisfied: mkl-service in /usr/local/lib/python3.10/dist-packages (from numpy<2.0.0,>=1.23.5->tensorflow) (2.4.1)\r\n",
      "Requirement already satisfied: charset-normalizer<4,>=2 in /usr/local/lib/python3.10/dist-packages (from requests<3,>=2.21.0->tensorflow) (3.4.1)\r\n",
      "Requirement already satisfied: idna<4,>=2.5 in /usr/local/lib/python3.10/dist-packages (from requests<3,>=2.21.0->tensorflow) (3.10)\r\n",
      "Requirement already satisfied: urllib3<3,>=1.21.1 in /usr/local/lib/python3.10/dist-packages (from requests<3,>=2.21.0->tensorflow) (2.3.0)\r\n",
      "Requirement already satisfied: certifi>=2017.4.17 in /usr/local/lib/python3.10/dist-packages (from requests<3,>=2.21.0->tensorflow) (2025.1.31)\r\n",
      "Requirement already satisfied: markdown>=2.6.8 in /usr/local/lib/python3.10/dist-packages (from tensorboard<2.18,>=2.17->tensorflow) (3.7)\r\n",
      "Requirement already satisfied: tensorboard-data-server<0.8.0,>=0.7.0 in /usr/local/lib/python3.10/dist-packages (from tensorboard<2.18,>=2.17->tensorflow) (0.7.2)\r\n",
      "Requirement already satisfied: werkzeug>=1.0.1 in /usr/local/lib/python3.10/dist-packages (from tensorboard<2.18,>=2.17->tensorflow) (3.1.3)\r\n",
      "Requirement already satisfied: MarkupSafe>=2.1.1 in /usr/local/lib/python3.10/dist-packages (from werkzeug>=1.0.1->tensorboard<2.18,>=2.17->tensorflow) (3.0.2)\r\n",
      "Requirement already satisfied: intel-openmp>=2024 in /usr/local/lib/python3.10/dist-packages (from mkl->numpy<2.0.0,>=1.23.5->tensorflow) (2024.2.0)\r\n",
      "Requirement already satisfied: tbb==2022.* in /usr/local/lib/python3.10/dist-packages (from mkl->numpy<2.0.0,>=1.23.5->tensorflow) (2022.0.0)\r\n",
      "Requirement already satisfied: tcmlib==1.* in /usr/local/lib/python3.10/dist-packages (from tbb==2022.*->mkl->numpy<2.0.0,>=1.23.5->tensorflow) (1.2.0)\r\n",
      "Requirement already satisfied: intel-cmplr-lib-rt in /usr/local/lib/python3.10/dist-packages (from mkl_umath->numpy<2.0.0,>=1.23.5->tensorflow) (2024.2.0)\r\n",
      "Requirement already satisfied: markdown-it-py>=2.2.0 in /usr/local/lib/python3.10/dist-packages (from rich->keras>=3.2.0->tensorflow) (3.0.0)\r\n",
      "Requirement already satisfied: pygments<3.0.0,>=2.13.0 in /usr/local/lib/python3.10/dist-packages (from rich->keras>=3.2.0->tensorflow) (2.19.1)\r\n",
      "Requirement already satisfied: intel-cmplr-lib-ur==2024.2.0 in /usr/local/lib/python3.10/dist-packages (from intel-openmp>=2024->mkl->numpy<2.0.0,>=1.23.5->tensorflow) (2024.2.0)\r\n",
      "Requirement already satisfied: mdurl~=0.1 in /usr/local/lib/python3.10/dist-packages (from markdown-it-py>=2.2.0->rich->keras>=3.2.0->tensorflow) (0.1.2)\r\n"
     ]
    }
   ],
   "source": [
    "!pip install transformers torch\n",
    "!pip install tensorflow tensorflow-hub"
   ]
  },
  {
   "cell_type": "code",
   "execution_count": 2,
   "id": "6e80e9b5",
   "metadata": {
    "_cell_guid": "b1076dfc-b9ad-4769-8c92-a6c4dae69d19",
    "_uuid": "8f2839f25d086af736a60e9eeb907d3b93b6e0e5",
    "execution": {
     "iopub.execute_input": "2025-03-13T17:15:14.467981Z",
     "iopub.status.busy": "2025-03-13T17:15:14.467625Z",
     "iopub.status.idle": "2025-03-13T17:16:02.531461Z",
     "shell.execute_reply": "2025-03-13T17:16:02.530156Z"
    },
    "papermill": {
     "duration": 48.072962,
     "end_time": "2025-03-13T17:16:02.533483",
     "exception": false,
     "start_time": "2025-03-13T17:15:14.460521",
     "status": "completed"
    },
    "tags": []
   },
   "outputs": [],
   "source": [
    "import numpy as np\n",
    "import pandas as pd\n",
    "import os\n",
    "import matplotlib.pyplot as plt\n",
    "\n",
    "import torch\n",
    "from bs4 import BeautifulSoup\n",
    "\n",
    "import shutil\n",
    "\n",
    "import gensim\n",
    "from gensim.utils import simple_preprocess\n",
    "from gensim.models import Word2Vec\n",
    "from transformers import AutoTokenizer, AutoModel\n",
    "\n",
    "from sklearn.preprocessing import MultiLabelBinarizer\n",
    "from sklearn.model_selection import train_test_split\n",
    "from sklearn.linear_model import LogisticRegression, SGDClassifier\n",
    "from sklearn.multiclass import OneVsRestClassifier\n",
    "from sklearn.metrics import jaccard_score\n",
    "\n",
    "import tensorflow_hub as hub\n",
    "import tensorflow as tf\n",
    "\n",
    "import pickle"
   ]
  },
  {
   "cell_type": "code",
   "execution_count": 3,
   "id": "c5f15f29",
   "metadata": {
    "execution": {
     "iopub.execute_input": "2025-03-13T17:16:02.548072Z",
     "iopub.status.busy": "2025-03-13T17:16:02.547318Z",
     "iopub.status.idle": "2025-03-13T17:16:08.194100Z",
     "shell.execute_reply": "2025-03-13T17:16:08.192782Z"
    },
    "papermill": {
     "duration": 5.655542,
     "end_time": "2025-03-13T17:16:08.195887",
     "exception": false,
     "start_time": "2025-03-13T17:16:02.540345",
     "status": "completed"
    },
    "tags": []
   },
   "outputs": [
    {
     "data": {
      "text/html": [
       "<div>\n",
       "<style scoped>\n",
       "    .dataframe tbody tr th:only-of-type {\n",
       "        vertical-align: middle;\n",
       "    }\n",
       "\n",
       "    .dataframe tbody tr th {\n",
       "        vertical-align: top;\n",
       "    }\n",
       "\n",
       "    .dataframe thead th {\n",
       "        text-align: right;\n",
       "    }\n",
       "</style>\n",
       "<table border=\"1\" class=\"dataframe\">\n",
       "  <thead>\n",
       "    <tr style=\"text-align: right;\">\n",
       "      <th></th>\n",
       "      <th>Id</th>\n",
       "      <th>Title</th>\n",
       "      <th>Body</th>\n",
       "      <th>Tags</th>\n",
       "      <th>Score</th>\n",
       "      <th>ViewCount</th>\n",
       "      <th>AnswerCount</th>\n",
       "      <th>CreationDate</th>\n",
       "      <th>Processed</th>\n",
       "    </tr>\n",
       "  </thead>\n",
       "  <tbody>\n",
       "    <tr>\n",
       "      <th>0</th>\n",
       "      <td>75956209</td>\n",
       "      <td>Error \"'DataFrame' object has no attribute 'ap...</td>\n",
       "      <td>&lt;p&gt;I am trying to append a dictionary to a Dat...</td>\n",
       "      <td>&lt;python&gt;&lt;pandas&gt;&lt;dataframe&gt;&lt;concatenation&gt;&lt;att...</td>\n",
       "      <td>312</td>\n",
       "      <td>692073</td>\n",
       "      <td>3</td>\n",
       "      <td>2023-04-07 07:05:59</td>\n",
       "      <td>['error', 'object', 'attribute', 'append', 'tr...</td>\n",
       "    </tr>\n",
       "    <tr>\n",
       "      <th>1</th>\n",
       "      <td>75898276</td>\n",
       "      <td>OpenAI API error 429: \"You exceeded your curre...</td>\n",
       "      <td>&lt;p&gt;I'm making a Python script to use OpenAI vi...</td>\n",
       "      <td>&lt;python&gt;&lt;prompt&gt;&lt;openai-api&gt;&lt;completion&gt;&lt;chatg...</td>\n",
       "      <td>169</td>\n",
       "      <td>416362</td>\n",
       "      <td>5</td>\n",
       "      <td>2023-03-31 11:58:04</td>\n",
       "      <td>['api', 'error', 'exceed', 'quota', 'check', '...</td>\n",
       "    </tr>\n",
       "    <tr>\n",
       "      <th>2</th>\n",
       "      <td>77171270</td>\n",
       "      <td>Compilation error after upgrading to JDK 21 - ...</td>\n",
       "      <td>&lt;p&gt;After upgrading to JDK 21, I have the follo...</td>\n",
       "      <td>&lt;spring-boot&gt;&lt;compiler-errors&gt;&lt;upgrade&gt;&lt;lombok...</td>\n",
       "      <td>358</td>\n",
       "      <td>396585</td>\n",
       "      <td>13</td>\n",
       "      <td>2023-09-25 09:05:11</td>\n",
       "      <td>['compilation', 'error', 'upgrade', 'upgrade',...</td>\n",
       "    </tr>\n",
       "    <tr>\n",
       "      <th>3</th>\n",
       "      <td>76435306</td>\n",
       "      <td>babel-preset-react-app, is importing the \"@bab...</td>\n",
       "      <td>&lt;p&gt;My issue is that I've tried to create a new...</td>\n",
       "      <td>&lt;javascript&gt;&lt;node.js&gt;&lt;reactjs&gt;&lt;babeljs&gt;&lt;ejs&gt;</td>\n",
       "      <td>155</td>\n",
       "      <td>273911</td>\n",
       "      <td>24</td>\n",
       "      <td>2023-06-08 19:56:44</td>\n",
       "      <td>['react', 'app', 'import', 'babel', 'plugin', ...</td>\n",
       "    </tr>\n",
       "    <tr>\n",
       "      <th>4</th>\n",
       "      <td>76303988</td>\n",
       "      <td>\"ERROR: File xxx can't be indexed twice.\" when...</td>\n",
       "      <td>&lt;p&gt;Below is my Azure pipeline to analyze a sol...</td>\n",
       "      <td>&lt;c#&gt;&lt;c++&gt;&lt;sonarqube&gt;&lt;sonarqube-scan&gt;&lt;sonar-run...</td>\n",
       "      <td>0</td>\n",
       "      <td>208657</td>\n",
       "      <td>1</td>\n",
       "      <td>2023-05-22 07:45:00</td>\n",
       "      <td>['error', 'file', 'index', 'analyze', 'solutio...</td>\n",
       "    </tr>\n",
       "  </tbody>\n",
       "</table>\n",
       "</div>"
      ],
      "text/plain": [
       "         Id                                              Title  \\\n",
       "0  75956209  Error \"'DataFrame' object has no attribute 'ap...   \n",
       "1  75898276  OpenAI API error 429: \"You exceeded your curre...   \n",
       "2  77171270  Compilation error after upgrading to JDK 21 - ...   \n",
       "3  76435306  babel-preset-react-app, is importing the \"@bab...   \n",
       "4  76303988  \"ERROR: File xxx can't be indexed twice.\" when...   \n",
       "\n",
       "                                                Body  \\\n",
       "0  <p>I am trying to append a dictionary to a Dat...   \n",
       "1  <p>I'm making a Python script to use OpenAI vi...   \n",
       "2  <p>After upgrading to JDK 21, I have the follo...   \n",
       "3  <p>My issue is that I've tried to create a new...   \n",
       "4  <p>Below is my Azure pipeline to analyze a sol...   \n",
       "\n",
       "                                                Tags  Score  ViewCount  \\\n",
       "0  <python><pandas><dataframe><concatenation><att...    312     692073   \n",
       "1  <python><prompt><openai-api><completion><chatg...    169     416362   \n",
       "2  <spring-boot><compiler-errors><upgrade><lombok...    358     396585   \n",
       "3       <javascript><node.js><reactjs><babeljs><ejs>    155     273911   \n",
       "4  <c#><c++><sonarqube><sonarqube-scan><sonar-run...      0     208657   \n",
       "\n",
       "   AnswerCount         CreationDate  \\\n",
       "0            3  2023-04-07 07:05:59   \n",
       "1            5  2023-03-31 11:58:04   \n",
       "2           13  2023-09-25 09:05:11   \n",
       "3           24  2023-06-08 19:56:44   \n",
       "4            1  2023-05-22 07:45:00   \n",
       "\n",
       "                                           Processed  \n",
       "0  ['error', 'object', 'attribute', 'append', 'tr...  \n",
       "1  ['api', 'error', 'exceed', 'quota', 'check', '...  \n",
       "2  ['compilation', 'error', 'upgrade', 'upgrade',...  \n",
       "3  ['react', 'app', 'import', 'babel', 'plugin', ...  \n",
       "4  ['error', 'file', 'index', 'analyze', 'solutio...  "
      ]
     },
     "metadata": {},
     "output_type": "display_data"
    }
   ],
   "source": [
    "df = pd.read_csv('/kaggle/input/bigot-benjamin-1-notebook-exploration-022025/preprocessed_data.csv')\n",
    "display(df.head())"
   ]
  },
  {
   "cell_type": "code",
   "execution_count": 4,
   "id": "f27e9746",
   "metadata": {
    "execution": {
     "iopub.execute_input": "2025-03-13T17:16:08.210443Z",
     "iopub.status.busy": "2025-03-13T17:16:08.210091Z",
     "iopub.status.idle": "2025-03-13T17:16:08.884394Z",
     "shell.execute_reply": "2025-03-13T17:16:08.883327Z"
    },
    "papermill": {
     "duration": 0.683527,
     "end_time": "2025-03-13T17:16:08.886156",
     "exception": false,
     "start_time": "2025-03-13T17:16:08.202629",
     "status": "completed"
    },
    "tags": []
   },
   "outputs": [
    {
     "data": {
      "text/html": [
       "<div>\n",
       "<style scoped>\n",
       "    .dataframe tbody tr th:only-of-type {\n",
       "        vertical-align: middle;\n",
       "    }\n",
       "\n",
       "    .dataframe tbody tr th {\n",
       "        vertical-align: top;\n",
       "    }\n",
       "\n",
       "    .dataframe thead th {\n",
       "        text-align: right;\n",
       "    }\n",
       "</style>\n",
       "<table border=\"1\" class=\"dataframe\">\n",
       "  <thead>\n",
       "    <tr style=\"text-align: right;\">\n",
       "      <th></th>\n",
       "      <th>Id</th>\n",
       "      <th>Title</th>\n",
       "      <th>Body</th>\n",
       "      <th>Tags</th>\n",
       "      <th>Score</th>\n",
       "      <th>ViewCount</th>\n",
       "      <th>AnswerCount</th>\n",
       "      <th>CreationDate</th>\n",
       "      <th>Processed</th>\n",
       "    </tr>\n",
       "  </thead>\n",
       "  <tbody>\n",
       "    <tr>\n",
       "      <th>0</th>\n",
       "      <td>75956209</td>\n",
       "      <td>Error \"'DataFrame' object has no attribute 'ap...</td>\n",
       "      <td>&lt;p&gt;I am trying to append a dictionary to a Dat...</td>\n",
       "      <td>[python, pandas, dataframe, concatenation, att...</td>\n",
       "      <td>312</td>\n",
       "      <td>692073</td>\n",
       "      <td>3</td>\n",
       "      <td>2023-04-07 07:05:59</td>\n",
       "      <td>['error', 'object', 'attribute', 'append', 'tr...</td>\n",
       "    </tr>\n",
       "    <tr>\n",
       "      <th>1</th>\n",
       "      <td>75898276</td>\n",
       "      <td>OpenAI API error 429: \"You exceeded your curre...</td>\n",
       "      <td>&lt;p&gt;I'm making a Python script to use OpenAI vi...</td>\n",
       "      <td>[python, prompt, openai-api, completion, chatg...</td>\n",
       "      <td>169</td>\n",
       "      <td>416362</td>\n",
       "      <td>5</td>\n",
       "      <td>2023-03-31 11:58:04</td>\n",
       "      <td>['api', 'error', 'exceed', 'quota', 'check', '...</td>\n",
       "    </tr>\n",
       "    <tr>\n",
       "      <th>2</th>\n",
       "      <td>77171270</td>\n",
       "      <td>Compilation error after upgrading to JDK 21 - ...</td>\n",
       "      <td>&lt;p&gt;After upgrading to JDK 21, I have the follo...</td>\n",
       "      <td>[spring-boot, compiler-errors, upgrade, lombok...</td>\n",
       "      <td>358</td>\n",
       "      <td>396585</td>\n",
       "      <td>13</td>\n",
       "      <td>2023-09-25 09:05:11</td>\n",
       "      <td>['compilation', 'error', 'upgrade', 'upgrade',...</td>\n",
       "    </tr>\n",
       "    <tr>\n",
       "      <th>3</th>\n",
       "      <td>76435306</td>\n",
       "      <td>babel-preset-react-app, is importing the \"@bab...</td>\n",
       "      <td>&lt;p&gt;My issue is that I've tried to create a new...</td>\n",
       "      <td>[javascript, node.js, reactjs, babeljs, ejs]</td>\n",
       "      <td>155</td>\n",
       "      <td>273911</td>\n",
       "      <td>24</td>\n",
       "      <td>2023-06-08 19:56:44</td>\n",
       "      <td>['react', 'app', 'import', 'babel', 'plugin', ...</td>\n",
       "    </tr>\n",
       "    <tr>\n",
       "      <th>4</th>\n",
       "      <td>76303988</td>\n",
       "      <td>\"ERROR: File xxx can't be indexed twice.\" when...</td>\n",
       "      <td>&lt;p&gt;Below is my Azure pipeline to analyze a sol...</td>\n",
       "      <td>[c#, c++, sonarqube, sonarqube-scan, sonar-run...</td>\n",
       "      <td>0</td>\n",
       "      <td>208657</td>\n",
       "      <td>1</td>\n",
       "      <td>2023-05-22 07:45:00</td>\n",
       "      <td>['error', 'file', 'index', 'analyze', 'solutio...</td>\n",
       "    </tr>\n",
       "  </tbody>\n",
       "</table>\n",
       "</div>"
      ],
      "text/plain": [
       "         Id                                              Title  \\\n",
       "0  75956209  Error \"'DataFrame' object has no attribute 'ap...   \n",
       "1  75898276  OpenAI API error 429: \"You exceeded your curre...   \n",
       "2  77171270  Compilation error after upgrading to JDK 21 - ...   \n",
       "3  76435306  babel-preset-react-app, is importing the \"@bab...   \n",
       "4  76303988  \"ERROR: File xxx can't be indexed twice.\" when...   \n",
       "\n",
       "                                                Body  \\\n",
       "0  <p>I am trying to append a dictionary to a Dat...   \n",
       "1  <p>I'm making a Python script to use OpenAI vi...   \n",
       "2  <p>After upgrading to JDK 21, I have the follo...   \n",
       "3  <p>My issue is that I've tried to create a new...   \n",
       "4  <p>Below is my Azure pipeline to analyze a sol...   \n",
       "\n",
       "                                                Tags  Score  ViewCount  \\\n",
       "0  [python, pandas, dataframe, concatenation, att...    312     692073   \n",
       "1  [python, prompt, openai-api, completion, chatg...    169     416362   \n",
       "2  [spring-boot, compiler-errors, upgrade, lombok...    358     396585   \n",
       "3       [javascript, node.js, reactjs, babeljs, ejs]    155     273911   \n",
       "4  [c#, c++, sonarqube, sonarqube-scan, sonar-run...      0     208657   \n",
       "\n",
       "   AnswerCount         CreationDate  \\\n",
       "0            3  2023-04-07 07:05:59   \n",
       "1            5  2023-03-31 11:58:04   \n",
       "2           13  2023-09-25 09:05:11   \n",
       "3           24  2023-06-08 19:56:44   \n",
       "4            1  2023-05-22 07:45:00   \n",
       "\n",
       "                                           Processed  \n",
       "0  ['error', 'object', 'attribute', 'append', 'tr...  \n",
       "1  ['api', 'error', 'exceed', 'quota', 'check', '...  \n",
       "2  ['compilation', 'error', 'upgrade', 'upgrade',...  \n",
       "3  ['react', 'app', 'import', 'babel', 'plugin', ...  \n",
       "4  ['error', 'file', 'index', 'analyze', 'solutio...  "
      ]
     },
     "metadata": {},
     "output_type": "display_data"
    }
   ],
   "source": [
    "import re\n",
    "\n",
    "df[\"Tags\"] = df[\"Tags\"].apply(lambda x: re.findall(r'<(.*?)>', x))\n",
    "\n",
    "display(df.head())"
   ]
  },
  {
   "cell_type": "code",
   "execution_count": 5,
   "id": "55424e0b",
   "metadata": {
    "execution": {
     "iopub.execute_input": "2025-03-13T17:16:08.900766Z",
     "iopub.status.busy": "2025-03-13T17:16:08.900387Z",
     "iopub.status.idle": "2025-03-13T17:16:09.496710Z",
     "shell.execute_reply": "2025-03-13T17:16:09.495516Z"
    },
    "papermill": {
     "duration": 0.605817,
     "end_time": "2025-03-13T17:16:09.498771",
     "exception": false,
     "start_time": "2025-03-13T17:16:08.892954",
     "status": "completed"
    },
    "tags": []
   },
   "outputs": [
    {
     "data": {
      "image/png": "[encoded data removed]",
      "text/plain": [
       "<Figure size 1200x600 with 1 Axes>"
      ]
     },
     "metadata": {},
     "output_type": "display_data"
    }
   ],
   "source": [
    "tags_exploded = df[\"Tags\"].explode()\n",
    "\n",
    "distribution = tags_exploded.value_counts()\n",
    "\n",
    "top_30_tags = distribution.head(30)\n",
    "\n",
    "plt.figure(figsize=(12, 6))\n",
    "top_30_tags.plot(kind=\"bar\")\n",
    "plt.title(\"Top 30 tags les plus fréquents\")\n",
    "plt.xlabel(\"Tags\")\n",
    "plt.ylabel(\"Nombre d'occurrences\")\n",
    "plt.show()"
   ]
  },
  {
   "cell_type": "code",
   "execution_count": 6,
   "id": "138360da",
   "metadata": {
    "execution": {
     "iopub.execute_input": "2025-03-13T17:16:09.516308Z",
     "iopub.status.busy": "2025-03-13T17:16:09.515883Z",
     "iopub.status.idle": "2025-03-13T17:16:09.910946Z",
     "shell.execute_reply": "2025-03-13T17:16:09.909945Z"
    },
    "papermill": {
     "duration": 0.405748,
     "end_time": "2025-03-13T17:16:09.912822",
     "exception": false,
     "start_time": "2025-03-13T17:16:09.507074",
     "status": "completed"
    },
    "tags": []
   },
   "outputs": [
    {
     "data": {
      "image/png": "[encoded data removed]",
      "text/plain": [
       "<Figure size 1200x600 with 1 Axes>"
      ]
     },
     "metadata": {},
     "output_type": "display_data"
    }
   ],
   "source": [
    "data = df.sample(n=10000, random_state=42)\n",
    "\n",
    "tags_exploded = data[\"Tags\"].explode()\n",
    "\n",
    "distribution = tags_exploded.value_counts()\n",
    "\n",
    "top_30_tags = distribution.head(30)\n",
    "\n",
    "plt.figure(figsize=(12, 6))\n",
    "top_30_tags.plot(kind=\"bar\")\n",
    "plt.title(\"Top 30 tags les plus fréquents\")\n",
    "plt.xlabel(\"Tags\")\n",
    "plt.ylabel(\"Nombre d'occurrences\")\n",
    "plt.show()"
   ]
  },
  {
   "cell_type": "code",
   "execution_count": 7,
   "id": "e443b425",
   "metadata": {
    "execution": {
     "iopub.execute_input": "2025-03-13T17:16:09.932538Z",
     "iopub.status.busy": "2025-03-13T17:16:09.932171Z",
     "iopub.status.idle": "2025-03-13T17:16:09.936176Z",
     "shell.execute_reply": "2025-03-13T17:16:09.935178Z"
    },
    "papermill": {
     "duration": 0.01562,
     "end_time": "2025-03-13T17:16:09.937743",
     "exception": false,
     "start_time": "2025-03-13T17:16:09.922123",
     "status": "completed"
    },
    "tags": []
   },
   "outputs": [],
   "source": [
    "def preprocess_text(text):\n",
    "    return simple_preprocess(text)"
   ]
  },
  {
   "cell_type": "code",
   "execution_count": 8,
   "id": "aaad233c",
   "metadata": {
    "execution": {
     "iopub.execute_input": "2025-03-13T17:16:09.956869Z",
     "iopub.status.busy": "2025-03-13T17:16:09.956539Z",
     "iopub.status.idle": "2025-03-13T17:16:09.960906Z",
     "shell.execute_reply": "2025-03-13T17:16:09.959983Z"
    },
    "papermill": {
     "duration": 0.015911,
     "end_time": "2025-03-13T17:16:09.962577",
     "exception": false,
     "start_time": "2025-03-13T17:16:09.946666",
     "status": "completed"
    },
    "tags": []
   },
   "outputs": [],
   "source": [
    "def remove_html_tags(text):\n",
    "    \"\"\"\n",
    "    Supprime les balises HTML d'une chaîne de caractères\n",
    "    et renvoie le texte brut.\n",
    "    \"\"\"\n",
    "    return BeautifulSoup(text, \"html.parser\").get_text()"
   ]
  },
  {
   "cell_type": "code",
   "execution_count": 9,
   "id": "00314ea7",
   "metadata": {
    "execution": {
     "iopub.execute_input": "2025-03-13T17:16:09.982400Z",
     "iopub.status.busy": "2025-03-13T17:16:09.982020Z",
     "iopub.status.idle": "2025-03-13T17:16:15.142516Z",
     "shell.execute_reply": "2025-03-13T17:16:15.141300Z"
    },
    "papermill": {
     "duration": 5.172346,
     "end_time": "2025-03-13T17:16:15.144555",
     "exception": false,
     "start_time": "2025-03-13T17:16:09.972209",
     "status": "completed"
    },
    "tags": []
   },
   "outputs": [
    {
     "name": "stdout",
     "output_type": "stream",
     "text": [
      "Taille du train : 8000\n",
      "Taille du test : 2000\n"
     ]
    }
   ],
   "source": [
    "X = (data['Title'] + \" \" + data['Body']).apply(preprocess_text)\n",
    "y = data[\"Tags\"]\n",
    "\n",
    "X_train, X_test, y_train_raw, y_test_raw = train_test_split(X, y, test_size=0.2, random_state=42)\n",
    "\n",
    "# Vérifier la taille des jeux de données\n",
    "print(f\"Taille du train : {len(X_train)}\")\n",
    "print(f\"Taille du test : {len(X_test)}\")"
   ]
  },
  {
   "cell_type": "code",
   "execution_count": 10,
   "id": "6dc64f08",
   "metadata": {
    "execution": {
     "iopub.execute_input": "2025-03-13T17:16:15.164545Z",
     "iopub.status.busy": "2025-03-13T17:16:15.164119Z",
     "iopub.status.idle": "2025-03-13T17:16:15.350448Z",
     "shell.execute_reply": "2025-03-13T17:16:15.349197Z"
    },
    "papermill": {
     "duration": 0.19857,
     "end_time": "2025-03-13T17:16:15.352466",
     "exception": false,
     "start_time": "2025-03-13T17:16:15.153896",
     "status": "completed"
    },
    "tags": []
   },
   "outputs": [
    {
     "name": "stderr",
     "output_type": "stream",
     "text": [
      "/usr/local/lib/python3.10/dist-packages/sklearn/preprocessing/_label.py:895: UserWarning: unknown class(es) ['4g', '64-bit', '8thwall-web', 'a-star', 'abort', 'accelerate', 'acceptance-testing', 'access-violation', 'activation-function', 'activesupport-concern', 'adaptive-cards', 'add-filter', 'adminer', 'ado', 'aforge', 'aframe', 'ag-charts-react', 'aggregate-filter', 'aggregate-functions', 'aiven', 'ajaxform', 'alarmmanager', 'alchemy', 'alpha-transparency', 'alter', 'amazon-efs', 'amazon-fsx', 'amazon-kinesis-firehose', 'amazon-redshift-spectrum', 'amazon-sagemaker-studio', 'amazon-textract', 'analysis', 'android-architecture-navigation', 'android-auto', 'android-automotive', 'android-billing', 'android-compose-image', 'android-developer-api', 'android-firmware', 'android-management-api', 'android-networking', 'android-volley', 'angular-control-flow', 'angular-formly', 'angular-http-interceptors', 'angular9', 'anonymousidentification', 'anthropic', 'apache-axis', 'apache-commons-dbcp', 'apache-commons-httpclient', 'apache-poi-4', 'apache-spark-2.0', 'apache-spark-standalone', 'apache-zeppelin', 'apex', 'apex-code', 'apexcharts', 'apify', 'app-config', 'apple-sign-in', 'appointment', 'ar.js', 'arcgis-js-api', 'arcgis-server', 'arduino-uno', 'arduinojson', 'argo', 'argocd-notification', 'armv8', 'array-map', 'arrow-functions', 'asar', 'asp.net-ajax', 'asp.net-core-middleware', 'asp.net-mvc-viewmodel', 'aspect', 'assert', 'asyncstorage', 'atdd', 'autocad', 'automapper', 'autostart', 'avr-gcc', 'aws-backup', 'aws-cloudwatch-log-insights', 'aws-credentials', 'aws-databricks', 'aws-lambda-authoriser', 'aws-php-sdk', 'aws-sdk-cpp', 'axiom', 'azure-app-gateway-for-containers', 'azure-file-share', 'azure-http-trigger', 'azure-load-balancer', 'azure-metrics-advisor', 'azure-pipelines-release-task', 'azure-qna-maker', 'azure-resource-graph', 'azure-static-web-app-routing', 'azure-static-website-hosting', 'azure-synapse-analytics', 'babel-polyfill', 'background-audio', 'backwards-compatibility', 'bad-alloc', 'barryvdh', 'batch-updates', 'beast', 'beeware', 'bevy', 'bidirectional', 'binaryformatter', 'bind9', 'bioconda', 'blame', 'blastula', 'bluestacks', 'bnd', 'boost-beast', 'branching-and-merging', 'bridging-header', 'browser-automation', 'buffer-overflow', 'bulksms', 'bull.js', 'businesscentral', 'c++-attributes', 'c++26', 'cad', 'cagradientlayer', 'canonical-link', 'canonicalization', 'cascade', 'castle-windsor', 'catboost', 'check-constraints', 'checkstyle', 'choropleth', 'chronological', 'circuit', 'client-go', 'clientcache', 'clob', 'coalesce', 'cobol', 'code-cleanup', 'code-conversion', 'codeigniter-3', 'codesys', 'coefficients', 'coerce', 'coil', 'colcon', 'color-channel', 'color-palette', 'compiler-specific', 'component-testing', 'computation-theory', 'conditional-operator', 'condor', 'configure', 'confirm', 'confluence', 'confluence-rest-api', 'confluent-schema-registry', 'contentlayer', 'continuous', 'continuous-delivery', 'coolify', 'copy-elision', 'corretto', 'cortex-a', 'couchbase', 'countdowntimer', 'countplot', 'country', 'cp', 'cpack', 'cqlsh', 'craco', 'credential-manager', 'crewai', 'criteriaquery', 'crossmint', 'css-float', 'ctad', 'cucumber-jvm', 'cuda-wmma', 'cumsum', 'cumulative-layout-shift', 'custom-fields', 'custom-painter', 'custom-training', 'custom-url', 'customcolumn', 'cut', 'cyrillic', 'data-fabric', 'data-preprocessing', 'data-stream', 'data-synchronization', 'datagrip', 'datashader', 'date-format', 'date-range', 'datetimeformatter', 'db2-luw', 'debug-symbols', 'decltype', 'decode', 'delphi-11-alexandria', 'digraphs', 'directed-graph', 'directory-structure', 'disaster-recovery', 'dispatchgroup', 'distinct', 'distinct-values', 'ditto', 'divider', 'django-allauth', 'django-bootstrap3', 'django-file-upload', 'django-ninja', 'django-redis', 'django-request', 'django-rq', 'dml', 'dms', 'dnd-kit', 'dnn9', 'docker-engine', 'document-layout-analysis', 'document-loader', 'docusignapi', 'docusignconnect', 'dongle', 'dosbox', 'dotnetcorecli', 'dotnetnuke', 'drag', 'drake', 'drive', 'duckduckgo', 'duckduckgo-api', 'dxf', 'dyld', 'dynamic-import', 'easy-modbus', 'ebean', 'eclipse-digital-twin', 'eclipse-ditto', 'eclipse-rcp', 'ecs-taskdefinition', 'editing', 'ef-model-builder', 'eigenvalue', 'elastic-beats', 'elastic-cloud', 'elf', 'embed', 'emr-serverless', 'encode', 'enqueue', 'epoll', 'equatable', 'erase', 'errorlevel', 'es6-proxy', 'escape-analysis', 'etcd', 'excel-2019', 'excel-pivot', 'exceptionhandler', 'expo-image-picker', 'expo-updates', 'external', 'ezdxf', 'facebook-pixel', 'facet-wrap', 'failed-installation', 'faraday', 'few-shot-learning', 'file-storage', 'filetime', 'filezilla', 'firemonkey', 'flac', 'flags', 'flask-mongoengine', 'flask-wtforms', 'flicker', 'flink-table-api', 'floating-accuracy', 'flurry', 'flurry-analytics', 'flutter-audioplayers', 'flutter-clippath', 'flutter-custompainter', 'flutter-doctor', 'flutter-isar', 'flutter-reactive-forms', 'flutter-secure-storage', 'flux', 'folium-plugins', 'folly', 'font-awesome-5', 'formgroups', 'fpdf', 'fresco', 'freshchat', 'freshworks', 'ftp', 'ftplib', 'ftps', 'fulfillment', 'fullcalendar-scheduler', 'function-call', 'function-templates', 'gadinterstitial', 'game-physics', 'gantt-chart', 'gaps-and-islands', 'gce-instance-group', 'generative-art', 'geofencing', 'geolocator', 'ggdist', 'ggmap', 'ggtern', 'gimp', 'git-blame', 'github-cli', 'glade', 'gleam', 'global-temp-tables', 'globalcompositeoperation', 'gnuradio', 'google-api-js-client', 'google-client', 'google-cloud-bigtable', 'google-cloud-iot', 'google-cloud-messaging', 'google-cloud-sdk', 'google-cloud-speech', 'google-my-business', 'google-pay', 'google-translate-api', 'gpt-4', 'gradient-descent', 'grafana-variable', 'grails-orm', 'grapejs', 'grapesjs', 'graph-visualization', 'graphiql', 'gridlines', 'gtk-rs', 'hammingweight', 'hangfire', 'hard-real-time', 'hdl', 'heap-memory', 'here-api', 'heuristics', 'hidden-files', 'hierarchical', 'hive-metastore', 'horizontal-line', 'horizontallist', 'hotchocolate', 'hpa', 'htcondor', 'http-status-code-413', 'http-token-authentication', 'hvac', 'hybrid', 'hyperparameters', 'ico', 'iconbutton', 'ideavim', 'idle-processing', 'iis-8', 'iis-express-10', 'image-caching', 'image-loading', 'image-upload', 'imagesource', 'imageurl', 'imageview', 'in-app-subscription', 'infinite-scroll', 'input-mask', 'inputsimulator', 'inputstream', 'instagram-reels', 'instaloader', 'instance-variables', 'instr', 'int64', 'interface-builder', 'internet-connection', 'interop', 'io-uring', 'ionic5', 'ios-app-extension', 'ipados', 'ipados16', 'iproute', 'ipython', 'ironpdf', 'itk', 'ivalueconverter', 'jaeger', 'jags', 'jarsigner', 'java-memory-model', 'java-runtime-compiler', 'jcmd', 'jdbc-pool', 'jenkins-declarative-pipeline', 'jersey', 'jest-enzyme', 'jitpack', 'jmeter-3.2', 'jpa-buddy', 'jpastreamer', 'jquery-plugins', 'jsdom', 'json-view', 'jsonb', 'jsr310', 'jstack', 'jupyter-kernel-gateway', 'jupyter-server', 'kaggle', 'kestrel-http-server', 'knowledge-graph', 'kotest', 'kotlin-desktop', 'kotlin-exposed', 'kotlin-sealed', 'kruskal-wallis', 'kubeflow', 'kubernetes-custom-resources', 'label-encoding', 'labview', 'laravel-backpack', 'laravel-dompdf', 'laravel-testing', 'launch-screen', 'leaflet.draw', 'leap-year', 'lf', 'libstdc++', 'lidar', 'lightgbm', 'line-breaks', 'liquibase', 'listen', 'litespeed', 'liveserver', 'llamacpp', 'lm', 'local', 'localdate', 'logql', 'logstash-filter', 'loguru', 'lowdb', 'lvgl', 'lz77', 'm3u8', 'mach', 'mach-o', 'macos-mojave', 'mailer', 'makie.jl', 'master-master', 'matmul', 'maven-3', 'maven-central', 'maven-checkstyle-plugin', 'maven-jetty-plugin', 'maven-profiles', 'mdspan', 'mean-stack', 'media-keys', 'mediastream', 'medusa', 'medusajs', 'membership', 'merchant-account', 'merkle-tree', 'meshcat', 'meshlab', 'message', 'meta-boxes', 'metricbeat', 'microk8s', 'microsoft-graph-calendar', 'microsoft-information-protection', 'minimalmodbus', 'mip-sdk', 'missing-cookies', 'mockk', 'mockserver', 'modbus', 'modbus-rtu-over-tcp', 'modbus-tcp', 'model-viewer', 'moto', 'ms-access-2016', 'msg', 'mu-law', 'mule-esb', 'multi-index', 'multiclass-classification', 'multidatepicker', 'multipolygons', 'mumin', 'munit', 'mutablemap', 'mysql-5.7', 'mysql-connector-python', 'native-ads', 'nav', 'navigation-compose', 'ndjson', 'neosemantics', 'net-http', 'net-ssh', 'networkd3', 'nextion', 'nextval', 'ng-apexcharts', 'ng-bootstrap', 'ngx-quill', 'ngx-socket-io', 'nimbus-jose-jwt', 'nm', 'node-fetch', 'node-https', 'nodiscard', 'not-exists', 'notsupportedexception', 'nskeyedarchiver', 'nskeyedunarchiver', 'ntfs', 'null-pointer', 'nvchad', 'nvidia-docker', 'nwjs', 'nx.dev', 'oauth2resourceserver', 'object-property', 'object-relational-model', 'objectid', 'objectmapper', 'odoo-ce', 'office-dialog-api', 'office365api', 'ole', 'oledbcommand', 'one-time-password', 'opacity', 'openblas', 'openexr', 'openjfx', 'openlayers-5', 'openmp', 'openproject', 'openvino', 'openweathermap', 'ora-00932', 'oracle-aq', 'oracle-ords', 'oracleclient', 'osgi', 'osmdroid', 'ovh', 'owlready', 'p-calendar', 'pacman-package-manager', 'pandas-styles', 'pandas-udf', 'parquetjs', 'parse-url', 'path-finding', 'path-variables', 'pdf-reader', 'pdf-writer', 'pdfplumber', 'permutation', 'pg-trgm', 'philips-hue', 'php-8', 'phpdebugbar', 'phrase', 'picturebox', 'piecewise', 'pigpio', 'pkcs#7', 'pkzip', 'placeholder', 'play-billing-library', 'plpython', 'poco', 'podspec', 'portainer', 'pose-estimation', 'postfix-mta', 'postgresql-9.1', 'postgresql-9.4', 'posthoc', 'powershell-sdk', 'preempt-rt', 'prefab', 'prefix-sum', 'primary-key-design', 'primeicons', 'primes', 'private', 'program-entry-point', 'proj', 'proj4js', 'prom-client', 'propagation', 'properties-file', 'protobuf-python', 'ps1', 'psr-4', 'pull', 'pv', 'pwntools', 'pyathena', 'pypika', 'pyqgis', 'pyqtgraph', 'pyscript', 'pyside', 'pyspark-pandas', 'pyspice', 'python-3.13', 'python-django-storages', 'python-fu', 'python-socketio', 'python-vlc', 'pythonw', 'qgis', 'qgraphicsitem', 'qgraphicsview', 'qimage', 'qos', 'qqmlcomponent', 'quarkus-testing', 'quickbooks', 'r-parsnip', 'raise', 'random-effects', 'random-seed', 'ranking', 'ranking-functions', 'rapier', 'raspbian', 'raspbian-buster', 'ratchet', 'rd', 'rdf', 're2', 'react-async', 'react-beautiful-dnd', 'react-icons', 'react-native-ble-manager', 'react-native-hermes', 'react-native-navigation-v2', 'react-native-testing-library', 'react-paginate', 'react-pagination', 'react-player', 'react-spring', 'read-eval-print-loop', 'recompile', 'redhat-sso', 'redis-cli', 'redis-server', 'redis-stack-server', 'redisearch', 'refactoring', 'registrykey', 'request-headers', 'requestanimationframe', 'resizable', 'resource-leak', 'resourcemanager', 'rest-assured', 'rest-assured-jsonpath', 'return-type', 'rfid', 'rhel7', 'rhel8', 'richtextbox', 'rjags', 'rms', 'roboflow', 'robotframework', 'roc', 'rowwise', 'rpa', 'rq', 'rswag', 'ruby-module', 'ruby-on-rails-5', 'rust-crates', 'rust-rdkafka', 'rxjs-observables', 'saga', 'salesforce-einstein', 'salesforce-flow', 'samlify', 'sap-commerce-cloud', 'save', 'savestate', 'scanpy', 'scd2', 'scenekit', 'schedule', 'scikit-learn-pipeline', 'scorm', 'scorm1.2', 'scorm2004', 'scrapy-playwright', 'scroll-position', 'scroll-snap', 'scrutor', 'sealed', 'sealed-class', 'seamless-login', 'seed', 'selenium-grid', 'semantic-kernel', 'semaphore', 'sequence-generators', 'series', 'servermiddleware', 'service-principal', 'service-provider', 'servicebus', 'session-storage', 'setfocus', 'setvalue', 'setwindowpos', 'sgd', 'shapes', 'shopware5', 'shopware6-api', 'show-hide', 'sigterm', 'sim-card', 'single-responsibility-principle', 'single-sign-out', 'sirishortcuts', 'sitemap.xml', 'six', 'size-t', 'skia4delphi', 'skiasharp', 'smb', 'sms', 'snapcraft', 'socket.io-client', 'sortablejs', 'sos', 'spark-jdbc', 'spire.doc', 'spring-boot-configuration', 'spring-boot-gradle-plugin', 'spring-data-envers', 'spring-profiles', 'spring-shell', 'springrunner', 'sql-fetch', 'sql-order-by', 'sqldatatypes', 'sqlmigrations', 'sqlplus', 'sqltransaction', 'square', 'ssh-agent', 'standard-deviation', 'standard-library', 'start-process', 'static-classes', 'status-register', 'stdinitializerlist', 'stdoptional', 'stride', 'string-concatenation', 'string-view', 'stringr', 'sudoers', 'super-linter', 'suspend', 'svg-animate', 'swa-cli', 'swift3', 'swiftui-texteditor', 'sycl', 'system', 'system-verilog', 'system.data.sqlite', 'tailwind-elements', 'talkback', 'tanstack-router', 'tar', 'tasm', 'tcc', 'tdd', 'teardown', 'telegraf.js', 'template-templates', 'temporary-objects', 'tensorflow-xla', 'tensorrt', 'terminate', 'termux', 'termux-linux', 'ternary', 'terraform-provider-databricks', 'textinput', 'textmeshpro', 'textselection', 'tfs-2010', 'tfs-sdk', 'thai', 'theme-customizer', 'tidymodels', 'tidyterra', 'tinker', 'tint', 'toggle', 'tomcat10', 'tomee-8', 'tomtom', 'tomtom-android-sdk', 'toplevel', 'traffic', 'trailing-return-type', 'transcription', 'traveling-salesman', 'trayicon', 'treeview', 'trpc.io', 'try-except', 'try-with-resources', 'tshark', 'tsne', 'tvbox', 'twilio-twiml', 'twitter-bootstrap-3', 'tycho', 'typeof', 'ubuntu-18.04', 'ucp', 'uiaccessibility', 'uiimageview', 'uimenu', 'uitapgesturerecognizer', 'uiview', 'ujson', 'unauthorized', 'unit-of-work', 'unmarshalling', 'unnest', 'unnotificationserviceextension', 'unresolved-external', 'unset', 'updating', 'ups', 'url-shortener', 'urlsession', 'urlsessiontaskdelegate', 'userform', 'userscripts', 'utm', 'uwp-xaml', 'varchar', 'veeam', 'vehicle-routing', 'version-control', 'video-compression', 'viewmodelproviders', 'visibility', 'voice-recognition', 'volar', 'voxel', 'vst', 'vstest', 'vue-chartjs', 'vue-formulate', 'vue-router4', 'vue-slider-component', 'vuelidate', 'wallet', 'wav', 'wcag2.0', 'web-ar', 'web3py', 'webcrypto-api', 'webgpu', 'webvtt', 'weighted-graph', 'white-labelling', 'win32serviceutil', 'windows-explorer', 'windows-forms-core', 'windows-server-2016', 'windows-virtual-desktop', 'winforms-interop', 'wininet', 'winscp', 'word-addins', 'workflow-identity-federation', 'world-map', 'wpbakery', 'wrapper', 'wsdl2java', 'x-robots-tag', 'xcodebuild', 'xelatex', 'xhtml', 'xml-serialization', 'xmlgregoriancalendar', 'xor', 'xsl-stylesheet', 'yahoo', 'yahoo-api', 'yocto-layer', 'youtube-data-api', 'youtube-dl', 'z-index', 'z-order', 'zeep', 'zos', 'zpl', 'zpl-ii', 'zstandard', 'zulip'] will be ignored\n",
      "  warnings.warn(\n"
     ]
    }
   ],
   "source": [
    "mlb = MultiLabelBinarizer()\n",
    "y_train = mlb.fit_transform(y_train_raw)\n",
    "y_test = mlb.transform(y_test_raw)"
   ]
  },
  {
   "cell_type": "code",
   "execution_count": 11,
   "id": "76e447c0",
   "metadata": {
    "execution": {
     "iopub.execute_input": "2025-03-13T17:16:15.372536Z",
     "iopub.status.busy": "2025-03-13T17:16:15.372158Z",
     "iopub.status.idle": "2025-03-13T17:16:15.553533Z",
     "shell.execute_reply": "2025-03-13T17:16:15.552438Z"
    },
    "papermill": {
     "duration": 0.193518,
     "end_time": "2025-03-13T17:16:15.555364",
     "exception": false,
     "start_time": "2025-03-13T17:16:15.361846",
     "status": "completed"
    },
    "tags": []
   },
   "outputs": [],
   "source": [
    "tag_frequencies = np.sum(y_train, axis=0)\n",
    "\n",
    "sorted_indices = np.argsort(-tag_frequencies)\n",
    "\n",
    "cumulative_coverage = np.cumsum(tag_frequencies[sorted_indices]) / np.sum(tag_frequencies)\n",
    "N_optimal = np.argmax(cumulative_coverage >= 0.80) + 1 "
   ]
  },
  {
   "cell_type": "code",
   "execution_count": 12,
   "id": "cd9a4fba",
   "metadata": {
    "execution": {
     "iopub.execute_input": "2025-03-13T17:16:15.575500Z",
     "iopub.status.busy": "2025-03-13T17:16:15.575114Z",
     "iopub.status.idle": "2025-03-13T17:16:15.956788Z",
     "shell.execute_reply": "2025-03-13T17:16:15.955800Z"
    },
    "papermill": {
     "duration": 0.393642,
     "end_time": "2025-03-13T17:16:15.958332",
     "exception": false,
     "start_time": "2025-03-13T17:16:15.564690",
     "status": "completed"
    },
    "tags": []
   },
   "outputs": [
    {
     "name": "stdout",
     "output_type": "stream",
     "text": [
      "Nombre optimal de tags conservés : 1906\n",
      "Tags les plus fréquents : ['python' 'javascript' 'reactjs' ... 'quic' 'apple-developer' 'appkit']\n"
     ]
    }
   ],
   "source": [
    "N = N_optimal\n",
    "\n",
    "selected_tags = sorted_indices[:N]\n",
    "\n",
    "y_train = y_train[:, selected_tags]\n",
    "y_test = y_test[:, selected_tags]\n",
    "\n",
    "mlb_filtered = MultiLabelBinarizer(classes=mlb.classes_[selected_tags])\n",
    "mlb_filtered.fit([selected_tags])\n",
    "\n",
    "print(f\"Nombre optimal de tags conservés : {N}\")\n",
    "print(\"Tags les plus fréquents :\", mlb_filtered.classes_)"
   ]
  },
  {
   "cell_type": "code",
   "execution_count": 13,
   "id": "bae16854",
   "metadata": {
    "execution": {
     "iopub.execute_input": "2025-03-13T17:16:15.978075Z",
     "iopub.status.busy": "2025-03-13T17:16:15.977693Z",
     "iopub.status.idle": "2025-03-13T17:16:15.982958Z",
     "shell.execute_reply": "2025-03-13T17:16:15.981999Z"
    },
    "papermill": {
     "duration": 0.016927,
     "end_time": "2025-03-13T17:16:15.984507",
     "exception": false,
     "start_time": "2025-03-13T17:16:15.967580",
     "status": "completed"
    },
    "tags": []
   },
   "outputs": [
    {
     "name": "stdout",
     "output_type": "stream",
     "text": [
      "(8000, 1906)\n",
      "(2000, 1906)\n"
     ]
    }
   ],
   "source": [
    "print(y_train.shape)\n",
    "print(y_test.shape)"
   ]
  },
  {
   "cell_type": "markdown",
   "id": "9f91de3c",
   "metadata": {
    "papermill": {
     "duration": 0.009379,
     "end_time": "2025-03-13T17:16:16.003770",
     "exception": false,
     "start_time": "2025-03-13T17:16:15.994391",
     "status": "completed"
    },
    "tags": []
   },
   "source": [
    "# WORD2VEC"
   ]
  },
  {
   "cell_type": "code",
   "execution_count": 14,
   "id": "eb6a8063",
   "metadata": {
    "execution": {
     "iopub.execute_input": "2025-03-13T17:16:16.023640Z",
     "iopub.status.busy": "2025-03-13T17:16:16.023298Z",
     "iopub.status.idle": "2025-03-13T17:22:19.887019Z",
     "shell.execute_reply": "2025-03-13T17:22:19.885686Z"
    },
    "papermill": {
     "duration": 363.884754,
     "end_time": "2025-03-13T17:22:19.897791",
     "exception": false,
     "start_time": "2025-03-13T17:16:16.013037",
     "status": "completed"
    },
    "tags": []
   },
   "outputs": [
    {
     "name": "stdout",
     "output_type": "stream",
     "text": [
      "Entraînement du modèle Word2Vec...\n",
      "Taille du vocabulaire : 85577\n"
     ]
    }
   ],
   "source": [
    "w2v_size = 300\n",
    "w2v_window = 5\n",
    "w2v_min_count = 1\n",
    "w2v_epochs = 100\n",
    "\n",
    "print(\"Entraînement du modèle Word2Vec...\")\n",
    "w2v_model = Word2Vec(\n",
    "    sentences=X_train,\n",
    "    vector_size=w2v_size,\n",
    "    window=w2v_window,\n",
    "    min_count=w2v_min_count,\n",
    "    epochs=w2v_epochs,\n",
    "    seed=42\n",
    ")\n",
    "\n",
    "# Le modèle est maintenant entraîné et chaque mot du vocabulaire possède un vecteur\n",
    "print(\"Taille du vocabulaire :\", len(w2v_model.wv.index_to_key))"
   ]
  },
  {
   "cell_type": "code",
   "execution_count": 15,
   "id": "09ed04ca",
   "metadata": {
    "execution": {
     "iopub.execute_input": "2025-03-13T17:22:19.918321Z",
     "iopub.status.busy": "2025-03-13T17:22:19.917877Z",
     "iopub.status.idle": "2025-03-13T17:22:19.923525Z",
     "shell.execute_reply": "2025-03-13T17:22:19.922317Z"
    },
    "papermill": {
     "duration": 0.017892,
     "end_time": "2025-03-13T17:22:19.925283",
     "exception": false,
     "start_time": "2025-03-13T17:22:19.907391",
     "status": "completed"
    },
    "tags": []
   },
   "outputs": [],
   "source": [
    "def vectorize_sentence(sentence, model):\n",
    "    # sentence doit être une liste de tokens\n",
    "    word_vectors = [model.wv[word] for word in sentence if word in model.wv]\n",
    "    if word_vectors:\n",
    "        return np.mean(word_vectors, axis=0)\n",
    "    else:\n",
    "        # Retourne un vecteur nul si aucun mot n'est connu\n",
    "        return np.zeros(model.vector_size)"
   ]
  },
  {
   "cell_type": "code",
   "execution_count": 16,
   "id": "77e31e7b",
   "metadata": {
    "execution": {
     "iopub.execute_input": "2025-03-13T17:22:19.946390Z",
     "iopub.status.busy": "2025-03-13T17:22:19.945954Z",
     "iopub.status.idle": "2025-03-13T17:22:28.731339Z",
     "shell.execute_reply": "2025-03-13T17:22:28.730188Z"
    },
    "papermill": {
     "duration": 8.797705,
     "end_time": "2025-03-13T17:22:28.732995",
     "exception": false,
     "start_time": "2025-03-13T17:22:19.935290",
     "status": "completed"
    },
    "tags": []
   },
   "outputs": [
    {
     "name": "stdout",
     "output_type": "stream",
     "text": [
      "Forme des embeddings d'entraînement : (8000, 300)\n",
      "Forme des embeddings de test : (2000, 300)\n"
     ]
    }
   ],
   "source": [
    "X_train_w2v = np.array([vectorize_sentence(sentence, w2v_model) for sentence in X_train])\n",
    "X_test_w2v = np.array([vectorize_sentence(sentence, w2v_model) for sentence in X_test])\n",
    "\n",
    "print(\"Forme des embeddings d'entraînement :\", X_train_w2v.shape)\n",
    "print(\"Forme des embeddings de test :\", X_test_w2v.shape)"
   ]
  },
  {
   "cell_type": "code",
   "execution_count": 17,
   "id": "224cca78",
   "metadata": {
    "execution": {
     "iopub.execute_input": "2025-03-13T17:22:28.754056Z",
     "iopub.status.busy": "2025-03-13T17:22:28.753619Z",
     "iopub.status.idle": "2025-03-13T17:22:31.856399Z",
     "shell.execute_reply": "2025-03-13T17:22:31.855217Z"
    },
    "papermill": {
     "duration": 3.115347,
     "end_time": "2025-03-13T17:22:31.858300",
     "exception": false,
     "start_time": "2025-03-13T17:22:28.742953",
     "status": "completed"
    },
    "tags": []
   },
   "outputs": [],
   "source": [
    "df_train_w2v = pd.DataFrame(X_train_w2v)\n",
    "df_test_w2v = pd.DataFrame(X_test_w2v)\n",
    "\n",
    "# Sauvegarder sous forme de CSV\n",
    "df_train_w2v.to_csv(\"X_train_W2V.csv\", index=False)\n",
    "df_test_w2v.to_csv(\"X_test_W2V.csv\", index=False)"
   ]
  },
  {
   "cell_type": "markdown",
   "id": "5ec44475",
   "metadata": {
    "papermill": {
     "duration": 0.009522,
     "end_time": "2025-03-13T17:22:31.877757",
     "exception": false,
     "start_time": "2025-03-13T17:22:31.868235",
     "status": "completed"
    },
    "tags": []
   },
   "source": [
    "# BERT"
   ]
  },
  {
   "cell_type": "code",
   "execution_count": 18,
   "id": "c3ef0f9d",
   "metadata": {
    "execution": {
     "iopub.execute_input": "2025-03-13T17:22:31.898614Z",
     "iopub.status.busy": "2025-03-13T17:22:31.898257Z",
     "iopub.status.idle": "2025-03-13T17:22:40.102061Z",
     "shell.execute_reply": "2025-03-13T17:22:40.101085Z"
    },
    "papermill": {
     "duration": 8.216352,
     "end_time": "2025-03-13T17:22:40.103958",
     "exception": false,
     "start_time": "2025-03-13T17:22:31.887606",
     "status": "completed"
    },
    "tags": []
   },
   "outputs": [
    {
     "name": "stderr",
     "output_type": "stream",
     "text": [
      "<ipython-input-8-036ac7904277>:6: MarkupResemblesLocatorWarning: The input looks more like a filename than markup. You may want to open this file and pass the filehandle into Beautiful Soup.\n",
      "  return BeautifulSoup(text, \"html.parser\").get_text()\n"
     ]
    }
   ],
   "source": [
    "data[\"Title_clean\"] = data[\"Title\"].apply(remove_html_tags)\n",
    "data[\"Body_clean\"] = data[\"Body\"].apply(remove_html_tags)\n",
    "data[\"Text\"] = data[\"Title_clean\"] + \" \" + data[\"Body_clean\"]\n",
    "texts = data[\"Text\"].tolist()"
   ]
  },
  {
   "cell_type": "code",
   "execution_count": 19,
   "id": "be8b7e9a",
   "metadata": {
    "execution": {
     "iopub.execute_input": "2025-03-13T17:22:40.125438Z",
     "iopub.status.busy": "2025-03-13T17:22:40.125083Z",
     "iopub.status.idle": "2025-03-13T17:22:49.440347Z",
     "shell.execute_reply": "2025-03-13T17:22:49.439109Z"
    },
    "papermill": {
     "duration": 9.327877,
     "end_time": "2025-03-13T17:22:49.442156",
     "exception": false,
     "start_time": "2025-03-13T17:22:40.114279",
     "status": "completed"
    },
    "tags": []
   },
   "outputs": [
    {
     "data": {
      "application/vnd.jupyter.widget-view+json": {
       "model_id": "0f65b3d948d54001af0415faf0f7b82c",
       "version_major": 2,
       "version_minor": 0
      },
      "text/plain": [
       "tokenizer_config.json:   0%|          | 0.00/48.0 [00:00<?, ?B/s]"
      ]
     },
     "metadata": {},
     "output_type": "display_data"
    },
    {
     "data": {
      "application/vnd.jupyter.widget-view+json": {
       "model_id": "4d69e99815364e50ad0953c0e2337754",
       "version_major": 2,
       "version_minor": 0
      },
      "text/plain": [
       "config.json:   0%|          | 0.00/570 [00:00<?, ?B/s]"
      ]
     },
     "metadata": {},
     "output_type": "display_data"
    },
    {
     "data": {
      "application/vnd.jupyter.widget-view+json": {
       "model_id": "09f064e7f7ac4d048360d5b23d726372",
       "version_major": 2,
       "version_minor": 0
      },
      "text/plain": [
       "vocab.txt:   0%|          | 0.00/232k [00:00<?, ?B/s]"
      ]
     },
     "metadata": {},
     "output_type": "display_data"
    },
    {
     "data": {
      "application/vnd.jupyter.widget-view+json": {
       "model_id": "6a51cd51e3ca4065a87710dce775d3f0",
       "version_major": 2,
       "version_minor": 0
      },
      "text/plain": [
       "tokenizer.json:   0%|          | 0.00/466k [00:00<?, ?B/s]"
      ]
     },
     "metadata": {},
     "output_type": "display_data"
    },
    {
     "data": {
      "application/vnd.jupyter.widget-view+json": {
       "model_id": "262aebe94fe14ffd8704c2c2c55cae03",
       "version_major": 2,
       "version_minor": 0
      },
      "text/plain": [
       "model.safetensors:   0%|          | 0.00/440M [00:00<?, ?B/s]"
      ]
     },
     "metadata": {},
     "output_type": "display_data"
    },
    {
     "data": {
      "text/plain": [
       "BertModel(\n",
       "  (embeddings): BertEmbeddings(\n",
       "    (word_embeddings): Embedding(30522, 768, padding_idx=0)\n",
       "    (position_embeddings): Embedding(512, 768)\n",
       "    (token_type_embeddings): Embedding(2, 768)\n",
       "    (LayerNorm): LayerNorm((768,), eps=1e-12, elementwise_affine=True)\n",
       "    (dropout): Dropout(p=0.1, inplace=False)\n",
       "  )\n",
       "  (encoder): BertEncoder(\n",
       "    (layer): ModuleList(\n",
       "      (0-11): 12 x BertLayer(\n",
       "        (attention): BertAttention(\n",
       "          (self): BertSdpaSelfAttention(\n",
       "            (query): Linear(in_features=768, out_features=768, bias=True)\n",
       "            (key): Linear(in_features=768, out_features=768, bias=True)\n",
       "            (value): Linear(in_features=768, out_features=768, bias=True)\n",
       "            (dropout): Dropout(p=0.1, inplace=False)\n",
       "          )\n",
       "          (output): BertSelfOutput(\n",
       "            (dense): Linear(in_features=768, out_features=768, bias=True)\n",
       "            (LayerNorm): LayerNorm((768,), eps=1e-12, elementwise_affine=True)\n",
       "            (dropout): Dropout(p=0.1, inplace=False)\n",
       "          )\n",
       "        )\n",
       "        (intermediate): BertIntermediate(\n",
       "          (dense): Linear(in_features=768, out_features=3072, bias=True)\n",
       "          (intermediate_act_fn): GELUActivation()\n",
       "        )\n",
       "        (output): BertOutput(\n",
       "          (dense): Linear(in_features=3072, out_features=768, bias=True)\n",
       "          (LayerNorm): LayerNorm((768,), eps=1e-12, elementwise_affine=True)\n",
       "          (dropout): Dropout(p=0.1, inplace=False)\n",
       "        )\n",
       "      )\n",
       "    )\n",
       "  )\n",
       "  (pooler): BertPooler(\n",
       "    (dense): Linear(in_features=768, out_features=768, bias=True)\n",
       "    (activation): Tanh()\n",
       "  )\n",
       ")"
      ]
     },
     "execution_count": 19,
     "metadata": {},
     "output_type": "execute_result"
    }
   ],
   "source": [
    "model_name = \"bert-base-uncased\"\n",
    "tokenizer = AutoTokenizer.from_pretrained(model_name)\n",
    "model = AutoModel.from_pretrained(model_name)\n",
    "\n",
    "# Envoyer le modèle sur le GPU si disponible, sinon sur le CPU\n",
    "device = torch.device(\"cuda\" if torch.cuda.is_available() else \"cpu\")\n",
    "model.to(device)"
   ]
  },
  {
   "cell_type": "code",
   "execution_count": 20,
   "id": "e1663715",
   "metadata": {
    "execution": {
     "iopub.execute_input": "2025-03-13T17:22:49.465621Z",
     "iopub.status.busy": "2025-03-13T17:22:49.465269Z",
     "iopub.status.idle": "2025-03-13T19:58:07.692722Z",
     "shell.execute_reply": "2025-03-13T19:58:07.691423Z"
    },
    "papermill": {
     "duration": 9318.251758,
     "end_time": "2025-03-13T19:58:07.705263",
     "exception": false,
     "start_time": "2025-03-13T17:22:49.453505",
     "status": "completed"
    },
    "tags": []
   },
   "outputs": [
    {
     "name": "stdout",
     "output_type": "stream",
     "text": [
      "Shape des embeddings: (10000, 768)\n"
     ]
    }
   ],
   "source": [
    "def encode_batch(texts, tokenizer, model, device, batch_size=16):\n",
    "    all_embeddings = []\n",
    "    for i in range(0, len(texts), batch_size):\n",
    "        batch_texts = texts[i : i + batch_size]\n",
    "        # Tokenisation avec padding et troncature\n",
    "        inputs = tokenizer(batch_texts, padding=True, truncation=True, max_length=512, return_tensors=\"pt\")\n",
    "        inputs = {key: val.to(device) for key, val in inputs.items()}\n",
    "        \n",
    "        with torch.no_grad():\n",
    "            outputs = model(**inputs)\n",
    "        \n",
    "        # Extraire l'embedding du token [CLS]\n",
    "        cls_embeddings = outputs.last_hidden_state[:, 0, :]  # shape (batch_size, hidden_size)\n",
    "        all_embeddings.append(cls_embeddings.cpu().numpy())\n",
    "    \n",
    "    # Concaténer les embeddings de tous les lots\n",
    "    return np.concatenate(all_embeddings, axis=0)\n",
    "\n",
    "# Encodage des textes\n",
    "embeddings = encode_batch(texts, tokenizer, model, device, batch_size=8)\n",
    "print(\"Shape des embeddings:\", embeddings.shape)"
   ]
  },
  {
   "cell_type": "code",
   "execution_count": 21,
   "id": "f0c2f6d3",
   "metadata": {
    "execution": {
     "iopub.execute_input": "2025-03-13T19:58:07.728575Z",
     "iopub.status.busy": "2025-03-13T19:58:07.728141Z",
     "iopub.status.idle": "2025-03-13T19:58:15.690250Z",
     "shell.execute_reply": "2025-03-13T19:58:15.689197Z"
    },
    "papermill": {
     "duration": 7.975913,
     "end_time": "2025-03-13T19:58:15.692305",
     "exception": false,
     "start_time": "2025-03-13T19:58:07.716392",
     "status": "completed"
    },
    "tags": []
   },
   "outputs": [],
   "source": [
    "X_train_bert, X_test_bert = train_test_split(embeddings, test_size=0.2, random_state=42)\n",
    "\n",
    "df_train_bert = pd.DataFrame(X_train_bert)\n",
    "df_test_bert = pd.DataFrame(X_test_bert)\n",
    "\n",
    "# Sauvegarder sous forme de CSV\n",
    "df_train_bert.to_csv(\"X_train_bert.csv\", index=False)\n",
    "df_test_bert.to_csv(\"X_test_bert.csv\", index=False)"
   ]
  },
  {
   "cell_type": "markdown",
   "id": "40ffd983",
   "metadata": {
    "papermill": {
     "duration": 0.011177,
     "end_time": "2025-03-13T19:58:15.714877",
     "exception": false,
     "start_time": "2025-03-13T19:58:15.703700",
     "status": "completed"
    },
    "tags": []
   },
   "source": [
    "# USE"
   ]
  },
  {
   "cell_type": "code",
   "execution_count": 22,
   "id": "fcedce75",
   "metadata": {
    "execution": {
     "iopub.execute_input": "2025-03-13T19:58:15.740219Z",
     "iopub.status.busy": "2025-03-13T19:58:15.739716Z",
     "iopub.status.idle": "2025-03-13T19:58:54.607760Z",
     "shell.execute_reply": "2025-03-13T19:58:54.606496Z"
    },
    "papermill": {
     "duration": 38.883005,
     "end_time": "2025-03-13T19:58:54.609666",
     "exception": false,
     "start_time": "2025-03-13T19:58:15.726661",
     "status": "completed"
    },
    "tags": []
   },
   "outputs": [],
   "source": [
    "use_model = hub.load(\"https://tfhub.dev/google/universal-sentence-encoder/4\")"
   ]
  },
  {
   "cell_type": "code",
   "execution_count": 23,
   "id": "2872f1dc",
   "metadata": {
    "execution": {
     "iopub.execute_input": "2025-03-13T19:58:54.633184Z",
     "iopub.status.busy": "2025-03-13T19:58:54.632767Z",
     "iopub.status.idle": "2025-03-13T19:59:36.001089Z",
     "shell.execute_reply": "2025-03-13T19:59:35.999104Z"
    },
    "papermill": {
     "duration": 41.398394,
     "end_time": "2025-03-13T19:59:36.019175",
     "exception": false,
     "start_time": "2025-03-13T19:58:54.620781",
     "status": "completed"
    },
    "tags": []
   },
   "outputs": [
    {
     "name": "stdout",
     "output_type": "stream",
     "text": [
      "Shape des embeddings : (10000, 512)\n"
     ]
    }
   ],
   "source": [
    "# Appliquer USE pour obtenir les embeddings\n",
    "embeddings = use_model(texts)\n",
    "# Convertir en tableau NumPy\n",
    "embeddings = embeddings.numpy()\n",
    "\n",
    "print(\"Shape des embeddings :\", embeddings.shape)"
   ]
  },
  {
   "cell_type": "code",
   "execution_count": 24,
   "id": "84098da8",
   "metadata": {
    "execution": {
     "iopub.execute_input": "2025-03-13T19:59:36.045642Z",
     "iopub.status.busy": "2025-03-13T19:59:36.045230Z",
     "iopub.status.idle": "2025-03-13T19:59:46.198696Z",
     "shell.execute_reply": "2025-03-13T19:59:46.197306Z"
    },
    "papermill": {
     "duration": 10.16961,
     "end_time": "2025-03-13T19:59:46.200961",
     "exception": false,
     "start_time": "2025-03-13T19:59:36.031351",
     "status": "completed"
    },
    "tags": []
   },
   "outputs": [],
   "source": [
    "X_train_use, X_test_use = train_test_split(embeddings, test_size=0.2, random_state=42)\n",
    "\n",
    "df_train_use = pd.DataFrame(X_train_use)\n",
    "df_test_use = pd.DataFrame(X_test_use)\n",
    "df_y_train = pd.DataFrame(y_train)\n",
    "df_y_test = pd.DataFrame(y_test)\n",
    "\n",
    "# Sauvegarder sous forme de CSV\n",
    "df_train_use.to_csv(\"X_train_use.csv\", index=False)\n",
    "df_test_use.to_csv(\"X_test_use.csv\", index=False)\n",
    "\n",
    "df_y_train.to_csv(\"y_train.csv\", index=False)\n",
    "df_y_test.to_csv(\"y_test.csv\", index=False)"
   ]
  },
  {
   "cell_type": "code",
   "execution_count": 25,
   "id": "d883f47c",
   "metadata": {
    "execution": {
     "iopub.execute_input": "2025-03-13T19:59:46.234367Z",
     "iopub.status.busy": "2025-03-13T19:59:46.233700Z",
     "iopub.status.idle": "2025-03-13T19:59:47.436429Z",
     "shell.execute_reply": "2025-03-13T19:59:47.435098Z"
    },
    "papermill": {
     "duration": 1.221342,
     "end_time": "2025-03-13T19:59:47.438661",
     "exception": false,
     "start_time": "2025-03-13T19:59:46.217319",
     "status": "completed"
    },
    "tags": []
   },
   "outputs": [],
   "source": [
    "df_X_test = pd.DataFrame(X_test)\n",
    "df_X_train = pd.DataFrame(X_train)\n",
    "\n",
    "df_X_test.to_csv(\"X_test.csv\", index=False)\n",
    "df_X_train.to_csv(\"X_train.csv\", index=False)"
   ]
  },
  {
   "cell_type": "code",
   "execution_count": 26,
   "id": "0c4b940d",
   "metadata": {
    "execution": {
     "iopub.execute_input": "2025-03-13T19:59:47.462887Z",
     "iopub.status.busy": "2025-03-13T19:59:47.462526Z",
     "iopub.status.idle": "2025-03-13T19:59:47.473796Z",
     "shell.execute_reply": "2025-03-13T19:59:47.472765Z"
    },
    "papermill": {
     "duration": 0.02524,
     "end_time": "2025-03-13T19:59:47.475439",
     "exception": false,
     "start_time": "2025-03-13T19:59:47.450199",
     "status": "completed"
    },
    "tags": []
   },
   "outputs": [
    {
     "name": "stdout",
     "output_type": "stream",
     "text": [
      "✅ MLB exporté avec succès !\n"
     ]
    }
   ],
   "source": [
    "# Sauvegarder le MultiLabelBinarizer\n",
    "with open(\"mlb.pkl\", \"wb\") as f:\n",
    "    pickle.dump(mlb_filtered, f)\n",
    "\n",
    "print(\"✅ MLB exporté avec succès !\")"
   ]
  }
 ],
 "metadata": {
  "kaggle": {
   "accelerator": "none",
   "dataSources": [
    {
     "sourceId": 223348701,
     "sourceType": "kernelVersion"
    }
   ],
   "dockerImageVersionId": 30918,
   "isGpuEnabled": false,
   "isInternetEnabled": true,
   "language": "python",
   "sourceType": "notebook"
  },
  "kernelspec": {
   "display_name": "Python 3",
   "language": "python",
   "name": "python3"
  },
  "language_info": {
   "codemirror_mode": {
    "name": "ipython",
    "version": 3
   },
   "file_extension": ".py",
   "mimetype": "text/x-python",
   "name": "python",
   "nbconvert_exporter": "python",
   "pygments_lexer": "ipython3",
   "version": "3.10.12"
  },
  "papermill": {
   "default_parameters": {},
   "duration": 9891.010042,
   "end_time": "2025-03-13T19:59:52.433385",
   "environment_variables": {},
   "exception": null,
   "input_path": "__notebook__.ipynb",
   "output_path": "__notebook__.ipynb",
   "parameters": {},
   "start_time": "2025-03-13T17:15:01.423343",
   "version": "2.6.0"
  },
  "widgets": {
   "application/vnd.jupyter.widget-state+json": {
    "state": {
     "017830050b834d46bfe716369316bdb0": {
      "model_module": "@jupyter-widgets/base",
      "model_module_version": "2.0.0",
      "model_name": "LayoutModel",
      "state": {
       "_model_module": "@jupyter-widgets/base",
       "_model_module_version": "2.0.0",
       "_model_name": "LayoutModel",
       "_view_count": null,
       "_view_module": "@jupyter-widgets/base",
       "_view_module_version": "2.0.0",
       "_view_name": "LayoutView",
       "align_content": null,
       "align_items": null,
       "align_self": null,
       "border_bottom": null,
       "border_left": null,
       "border_right": null,
       "border_top": null,
       "bottom": null,
       "display": null,
       "flex": null,
       "flex_flow": null,
       "grid_area": null,
       "grid_auto_columns": null,
       "grid_auto_flow": null,
       "grid_auto_rows": null,
       "grid_column": null,
       "grid_gap": null,
       "grid_row": null,
       "grid_template_areas": null,
       "grid_template_columns": null,
       "grid_template_rows": null,
       "height": null,
       "justify_content": null,
       "justify_items": null,
       "left": null,
       "margin": null,
       "max_height": null,
       "max_width": null,
       "min_height": null,
       "min_width": null,
       "object_fit": null,
       "object_position": null,
       "order": null,
       "overflow": null,
       "padding": null,
       "right": null,
       "top": null,
       "visibility": null,
       "width": null
      }
     },
     "03f65a74256640f98ea713a4ad448a2a": {
      "model_module": "@jupyter-widgets/controls",
      "model_module_version": "2.0.0",
      "model_name": "HTMLStyleModel",
      "state": {
       "_model_module": "@jupyter-widgets/controls",
       "_model_module_version": "2.0.0",
       "_model_name": "HTMLStyleModel",
       "_view_count": null,
       "_view_module": "@jupyter-widgets/base",
       "_view_module_version": "2.0.0",
       "_view_name": "StyleView",
       "background": null,
       "description_width": "",
       "font_size": null,
       "text_color": null
      }
     },
     "0790a6965d4343e8bfe22caab679d982": {
      "model_module": "@jupyter-widgets/base",
      "model_module_version": "2.0.0",
      "model_name": "LayoutModel",
      "state": {
       "_model_module": "@jupyter-widgets/base",
       "_model_module_version": "2.0.0",
       "_model_name": "LayoutModel",
       "_view_count": null,
       "_view_module": "@jupyter-widgets/base",
       "_view_module_version": "2.0.0",
       "_view_name": "LayoutView",
       "align_content": null,
       "align_items": null,
       "align_self": null,
       "border_bottom": null,
       "border_left": null,
       "border_right": null,
       "border_top": null,
       "bottom": null,
       "display": null,
       "flex": null,
       "flex_flow": null,
       "grid_area": null,
       "grid_auto_columns": null,
       "grid_auto_flow": null,
       "grid_auto_rows": null,
       "grid_column": null,
       "grid_gap": null,
       "grid_row": null,
       "grid_template_areas": null,
       "grid_template_columns": null,
       "grid_template_rows": null,
       "height": null,
       "justify_content": null,
       "justify_items": null,
       "left": null,
       "margin": null,
       "max_height": null,
       "max_width": null,
       "min_height": null,
       "min_width": null,
       "object_fit": null,
       "object_position": null,
       "order": null,
       "overflow": null,
       "padding": null,
       "right": null,
       "top": null,
       "visibility": null,
       "width": null
      }
     },
     "093334e0b15947c08650100cfdd2cd15": {
      "model_module": "@jupyter-widgets/controls",
      "model_module_version": "2.0.0",
      "model_name": "HTMLModel",
      "state": {
       "_dom_classes": [],
       "_model_module": "@jupyter-widgets/controls",
       "_model_module_version": "2.0.0",
       "_model_name": "HTMLModel",
       "_view_count": null,
       "_view_module": "@jupyter-widgets/controls",
       "_view_module_version": "2.0.0",
       "_view_name": "HTMLView",
       "description": "",
       "description_allow_html": false,
       "layout": "IPY_MODEL_e7606fa1e0324a87aa86af2d5287d951",
       "placeholder": "​",
       "style": "IPY_MODEL_20e4b8bc99a242a3bc8e393ac1ab9596",
       "tabbable": null,
       "tooltip": null,
       "value": "vocab.txt: 100%"
      }
     },
     "09f064e7f7ac4d048360d5b23d726372": {
      "model_module": "@jupyter-widgets/controls",
      "model_module_version": "2.0.0",
      "model_name": "HBoxModel",
      "state": {
       "_dom_classes": [],
       "_model_module": "@jupyter-widgets/controls",
       "_model_module_version": "2.0.0",
       "_model_name": "HBoxModel",
       "_view_count": null,
       "_view_module": "@jupyter-widgets/controls",
       "_view_module_version": "2.0.0",
       "_view_name": "HBoxView",
       "box_style": "",
       "children": [
        "IPY_MODEL_093334e0b15947c08650100cfdd2cd15",
        "IPY_MODEL_43d2e78b3c3d45ce96e4f2e161583bbf",
        "IPY_MODEL_1588b09cea0a4545bcafe6cff438d37b"
       ],
       "layout": "IPY_MODEL_3c87ac891cbf40d5bf75757923d232e0",
       "tabbable": null,
       "tooltip": null
      }
     },
     "0f65b3d948d54001af0415faf0f7b82c": {
      "model_module": "@jupyter-widgets/controls",
      "model_module_version": "2.0.0",
      "model_name": "HBoxModel",
      "state": {
       "_dom_classes": [],
       "_model_module": "@jupyter-widgets/controls",
       "_model_module_version": "2.0.0",
       "_model_name": "HBoxModel",
       "_view_count": null,
       "_view_module": "@jupyter-widgets/controls",
       "_view_module_version": "2.0.0",
       "_view_name": "HBoxView",
       "box_style": "",
       "children": [
        "IPY_MODEL_bc674e5a615b4d2eb8b02e89354201c2",
        "IPY_MODEL_89f2f3ffd0e944e1ba82ab2bdf11f35e",
        "IPY_MODEL_5c74754a5bcf4ca28a5996b6bb1e5d33"
       ],
       "layout": "IPY_MODEL_703287572bc34fedb4bcd3c1a9246812",
       "tabbable": null,
       "tooltip": null
      }
     },
     "1588b09cea0a4545bcafe6cff438d37b": {
      "model_module": "@jupyter-widgets/controls",
      "model_module_version": "2.0.0",
      "model_name": "HTMLModel",
      "state": {
       "_dom_classes": [],
       "_model_module": "@jupyter-widgets/controls",
       "_model_module_version": "2.0.0",
       "_model_name": "HTMLModel",
       "_view_count": null,
       "_view_module": "@jupyter-widgets/controls",
       "_view_module_version": "2.0.0",
       "_view_name": "HTMLView",
       "description": "",
       "description_allow_html": false,
       "layout": "IPY_MODEL_5275b169fbbb4dffbe4449f9ef7eedbc",
       "placeholder": "​",
       "style": "IPY_MODEL_03f65a74256640f98ea713a4ad448a2a",
       "tabbable": null,
       "tooltip": null,
       "value": " 232k/232k [00:00&lt;00:00, 1.27MB/s]"
      }
     },
     "20e4b8bc99a242a3bc8e393ac1ab9596": {
      "model_module": "@jupyter-widgets/controls",
      "model_module_version": "2.0.0",
      "model_name": "HTMLStyleModel",
      "state": {
       "_model_module": "@jupyter-widgets/controls",
       "_model_module_version": "2.0.0",
       "_model_name": "HTMLStyleModel",
       "_view_count": null,
       "_view_module": "@jupyter-widgets/base",
       "_view_module_version": "2.0.0",
       "_view_name": "StyleView",
       "background": null,
       "description_width": "",
       "font_size": null,
       "text_color": null
      }
     },
     "262aebe94fe14ffd8704c2c2c55cae03": {
      "model_module": "@jupyter-widgets/controls",
      "model_module_version": "2.0.0",
      "model_name": "HBoxModel",
      "state": {
       "_dom_classes": [],
       "_model_module": "@jupyter-widgets/controls",
       "_model_module_version": "2.0.0",
       "_model_name": "HBoxModel",
       "_view_count": null,
       "_view_module": "@jupyter-widgets/controls",
       "_view_module_version": "2.0.0",
       "_view_name": "HBoxView",
       "box_style": "",
       "children": [
        "IPY_MODEL_bd4dd3078a4443fea90d8eab81383167",
        "IPY_MODEL_26bfc9a1645c47cab0cd34c1a3f7694e",
        "IPY_MODEL_73c8b2c7a70d4dbdb4ede8f55ca7fb0b"
       ],
       "layout": "IPY_MODEL_9e751db0d29041eaa5831b5433872f71",
       "tabbable": null,
       "tooltip": null
      }
     },
     "26bfc9a1645c47cab0cd34c1a3f7694e": {
      "model_module": "@jupyter-widgets/controls",
      "model_module_version": "2.0.0",
      "model_name": "FloatProgressModel",
      "state": {
       "_dom_classes": [],
       "_model_module": "@jupyter-widgets/controls",
       "_model_module_version": "2.0.0",
       "_model_name": "FloatProgressModel",
       "_view_count": null,
       "_view_module": "@jupyter-widgets/controls",
       "_view_module_version": "2.0.0",
       "_view_name": "ProgressView",
       "bar_style": "success",
       "description": "",
       "description_allow_html": false,
       "layout": "IPY_MODEL_3ae84e458ffe41fe89040c1db525cac5",
       "max": 440449768.0,
       "min": 0.0,
       "orientation": "horizontal",
       "style": "IPY_MODEL_61f5d58785b14c30ab695030ed5a5b68",
       "tabbable": null,
       "tooltip": null,
       "value": 440449768.0
      }
     },
     "295f49752a734578991ef1fa1ebbea23": {
      "model_module": "@jupyter-widgets/controls",
      "model_module_version": "2.0.0",
      "model_name": "HTMLStyleModel",
      "state": {
       "_model_module": "@jupyter-widgets/controls",
       "_model_module_version": "2.0.0",
       "_model_name": "HTMLStyleModel",
       "_view_count": null,
       "_view_module": "@jupyter-widgets/base",
       "_view_module_version": "2.0.0",
       "_view_name": "StyleView",
       "background": null,
       "description_width": "",
       "font_size": null,
       "text_color": null
      }
     },
     "31216932025c429ba027f6a7b387b5d7": {
      "model_module": "@jupyter-widgets/controls",
      "model_module_version": "2.0.0",
      "model_name": "HTMLModel",
      "state": {
       "_dom_classes": [],
       "_model_module": "@jupyter-widgets/controls",
       "_model_module_version": "2.0.0",
       "_model_name": "HTMLModel",
       "_view_count": null,
       "_view_module": "@jupyter-widgets/controls",
       "_view_module_version": "2.0.0",
       "_view_name": "HTMLView",
       "description": "",
       "description_allow_html": false,
       "layout": "IPY_MODEL_58954d4ba7b748bf86f41844610adf70",
       "placeholder": "​",
       "style": "IPY_MODEL_9dc3bdeab7dd4bf0bfc27d35425c16eb",
       "tabbable": null,
       "tooltip": null,
       "value": " 466k/466k [00:00&lt;00:00, 1.26MB/s]"
      }
     },
     "3a1afb7edcb8441781e9228684ab8328": {
      "model_module": "@jupyter-widgets/base",
      "model_module_version": "2.0.0",
      "model_name": "LayoutModel",
      "state": {
       "_model_module": "@jupyter-widgets/base",
       "_model_module_version": "2.0.0",
       "_model_name": "LayoutModel",
       "_view_count": null,
       "_view_module": "@jupyter-widgets/base",
       "_view_module_version": "2.0.0",
       "_view_name": "LayoutView",
       "align_content": null,
       "align_items": null,
       "align_self": null,
       "border_bottom": null,
       "border_left": null,
       "border_right": null,
       "border_top": null,
       "bottom": null,
       "display": null,
       "flex": null,
       "flex_flow": null,
       "grid_area": null,
       "grid_auto_columns": null,
       "grid_auto_flow": null,
       "grid_auto_rows": null,
       "grid_column": null,
       "grid_gap": null,
       "grid_row": null,
       "grid_template_areas": null,
       "grid_template_columns": null,
       "grid_template_rows": null,
       "height": null,
       "justify_content": null,
       "justify_items": null,
       "left": null,
       "margin": null,
       "max_height": null,
       "max_width": null,
       "min_height": null,
       "min_width": null,
       "object_fit": null,
       "object_position": null,
       "order": null,
       "overflow": null,
       "padding": null,
       "right": null,
       "top": null,
       "visibility": null,
       "width": null
      }
     },
     "3ae84e458ffe41fe89040c1db525cac5": {
      "model_module": "@jupyter-widgets/base",
      "model_module_version": "2.0.0",
      "model_name": "LayoutModel",
      "state": {
       "_model_module": "@jupyter-widgets/base",
       "_model_module_version": "2.0.0",
       "_model_name": "LayoutModel",
       "_view_count": null,
       "_view_module": "@jupyter-widgets/base",
       "_view_module_version": "2.0.0",
       "_view_name": "LayoutView",
       "align_content": null,
       "align_items": null,
       "align_self": null,
       "border_bottom": null,
       "border_left": null,
       "border_right": null,
       "border_top": null,
       "bottom": null,
       "display": null,
       "flex": null,
       "flex_flow": null,
       "grid_area": null,
       "grid_auto_columns": null,
       "grid_auto_flow": null,
       "grid_auto_rows": null,
       "grid_column": null,
       "grid_gap": null,
       "grid_row": null,
       "grid_template_areas": null,
       "grid_template_columns": null,
       "grid_template_rows": null,
       "height": null,
       "justify_content": null,
       "justify_items": null,
       "left": null,
       "margin": null,
       "max_height": null,
       "max_width": null,
       "min_height": null,
       "min_width": null,
       "object_fit": null,
       "object_position": null,
       "order": null,
       "overflow": null,
       "padding": null,
       "right": null,
       "top": null,
       "visibility": null,
       "width": null
      }
     },
     "3bfbeb545e4e4ce9b1402b6dc27dfe54": {
      "model_module": "@jupyter-widgets/base",
      "model_module_version": "2.0.0",
      "model_name": "LayoutModel",
      "state": {
       "_model_module": "@jupyter-widgets/base",
       "_model_module_version": "2.0.0",
       "_model_name": "LayoutModel",
       "_view_count": null,
       "_view_module": "@jupyter-widgets/base",
       "_view_module_version": "2.0.0",
       "_view_name": "LayoutView",
       "align_content": null,
       "align_items": null,
       "align_self": null,
       "border_bottom": null,
       "border_left": null,
       "border_right": null,
       "border_top": null,
       "bottom": null,
       "display": null,
       "flex": null,
       "flex_flow": null,
       "grid_area": null,
       "grid_auto_columns": null,
       "grid_auto_flow": null,
       "grid_auto_rows": null,
       "grid_column": null,
       "grid_gap": null,
       "grid_row": null,
       "grid_template_areas": null,
       "grid_template_columns": null,
       "grid_template_rows": null,
       "height": null,
       "justify_content": null,
       "justify_items": null,
       "left": null,
       "margin": null,
       "max_height": null,
       "max_width": null,
       "min_height": null,
       "min_width": null,
       "object_fit": null,
       "object_position": null,
       "order": null,
       "overflow": null,
       "padding": null,
       "right": null,
       "top": null,
       "visibility": null,
       "width": null
      }
     },
     "3c87ac891cbf40d5bf75757923d232e0": {
      "model_module": "@jupyter-widgets/base",
      "model_module_version": "2.0.0",
      "model_name": "LayoutModel",
      "state": {
       "_model_module": "@jupyter-widgets/base",
       "_model_module_version": "2.0.0",
       "_model_name": "LayoutModel",
       "_view_count": null,
       "_view_module": "@jupyter-widgets/base",
       "_view_module_version": "2.0.0",
       "_view_name": "LayoutView",
       "align_content": null,
       "align_items": null,
       "align_self": null,
       "border_bottom": null,
       "border_left": null,
       "border_right": null,
       "border_top": null,
       "bottom": null,
       "display": null,
       "flex": null,
       "flex_flow": null,
       "grid_area": null,
       "grid_auto_columns": null,
       "grid_auto_flow": null,
       "grid_auto_rows": null,
       "grid_column": null,
       "grid_gap": null,
       "grid_row": null,
       "grid_template_areas": null,
       "grid_template_columns": null,
       "grid_template_rows": null,
       "height": null,
       "justify_content": null,
       "justify_items": null,
       "left": null,
       "margin": null,
       "max_height": null,
       "max_width": null,
       "min_height": null,
       "min_width": null,
       "object_fit": null,
       "object_position": null,
       "order": null,
       "overflow": null,
       "padding": null,
       "right": null,
       "top": null,
       "visibility": null,
       "width": null
      }
     },
     "43d2e78b3c3d45ce96e4f2e161583bbf": {
      "model_module": "@jupyter-widgets/controls",
      "model_module_version": "2.0.0",
      "model_name": "FloatProgressModel",
      "state": {
       "_dom_classes": [],
       "_model_module": "@jupyter-widgets/controls",
       "_model_module_version": "2.0.0",
       "_model_name": "FloatProgressModel",
       "_view_count": null,
       "_view_module": "@jupyter-widgets/controls",
       "_view_module_version": "2.0.0",
       "_view_name": "ProgressView",
       "bar_style": "success",
       "description": "",
       "description_allow_html": false,
       "layout": "IPY_MODEL_a15d889f99db4015a050413e7b812344",
       "max": 231508.0,
       "min": 0.0,
       "orientation": "horizontal",
       "style": "IPY_MODEL_ac5392523173448b948c94ee8193fc17",
       "tabbable": null,
       "tooltip": null,
       "value": 231508.0
      }
     },
     "4be68e1452b444d18d1d5351091532c6": {
      "model_module": "@jupyter-widgets/controls",
      "model_module_version": "2.0.0",
      "model_name": "HTMLModel",
      "state": {
       "_dom_classes": [],
       "_model_module": "@jupyter-widgets/controls",
       "_model_module_version": "2.0.0",
       "_model_name": "HTMLModel",
       "_view_count": null,
       "_view_module": "@jupyter-widgets/controls",
       "_view_module_version": "2.0.0",
       "_view_name": "HTMLView",
       "description": "",
       "description_allow_html": false,
       "layout": "IPY_MODEL_0790a6965d4343e8bfe22caab679d982",
       "placeholder": "​",
       "style": "IPY_MODEL_da40fd1c374a49d2afd38345034792d7",
       "tabbable": null,
       "tooltip": null,
       "value": "config.json: 100%"
      }
     },
     "4d69e99815364e50ad0953c0e2337754": {
      "model_module": "@jupyter-widgets/controls",
      "model_module_version": "2.0.0",
      "model_name": "HBoxModel",
      "state": {
       "_dom_classes": [],
       "_model_module": "@jupyter-widgets/controls",
       "_model_module_version": "2.0.0",
       "_model_name": "HBoxModel",
       "_view_count": null,
       "_view_module": "@jupyter-widgets/controls",
       "_view_module_version": "2.0.0",
       "_view_name": "HBoxView",
       "box_style": "",
       "children": [
        "IPY_MODEL_4be68e1452b444d18d1d5351091532c6",
        "IPY_MODEL_fb77e76d446b48cdae8142b527a74e10",
        "IPY_MODEL_eb95b58a000047c9a7f34e59fd767c2f"
       ],
       "layout": "IPY_MODEL_87f679c7093e4c918bddaa5c159ddb15",
       "tabbable": null,
       "tooltip": null
      }
     },
     "5275b169fbbb4dffbe4449f9ef7eedbc": {
      "model_module": "@jupyter-widgets/base",
      "model_module_version": "2.0.0",
      "model_name": "LayoutModel",
      "state": {
       "_model_module": "@jupyter-widgets/base",
       "_model_module_version": "2.0.0",
       "_model_name": "LayoutModel",
       "_view_count": null,
       "_view_module": "@jupyter-widgets/base",
       "_view_module_version": "2.0.0",
       "_view_name": "LayoutView",
       "align_content": null,
       "align_items": null,
       "align_self": null,
       "border_bottom": null,
       "border_left": null,
       "border_right": null,
       "border_top": null,
       "bottom": null,
       "display": null,
       "flex": null,
       "flex_flow": null,
       "grid_area": null,
       "grid_auto_columns": null,
       "grid_auto_flow": null,
       "grid_auto_rows": null,
       "grid_column": null,
       "grid_gap": null,
       "grid_row": null,
       "grid_template_areas": null,
       "grid_template_columns": null,
       "grid_template_rows": null,
       "height": null,
       "justify_content": null,
       "justify_items": null,
       "left": null,
       "margin": null,
       "max_height": null,
       "max_width": null,
       "min_height": null,
       "min_width": null,
       "object_fit": null,
       "object_position": null,
       "order": null,
       "overflow": null,
       "padding": null,
       "right": null,
       "top": null,
       "visibility": null,
       "width": null
      }
     },
     "54768a39a88641dc888f3cec1589473a": {
      "model_module": "@jupyter-widgets/base",
      "model_module_version": "2.0.0",
      "model_name": "LayoutModel",
      "state": {
       "_model_module": "@jupyter-widgets/base",
       "_model_module_version": "2.0.0",
       "_model_name": "LayoutModel",
       "_view_count": null,
       "_view_module": "@jupyter-widgets/base",
       "_view_module_version": "2.0.0",
       "_view_name": "LayoutView",
       "align_content": null,
       "align_items": null,
       "align_self": null,
       "border_bottom": null,
       "border_left": null,
       "border_right": null,
       "border_top": null,
       "bottom": null,
       "display": null,
       "flex": null,
       "flex_flow": null,
       "grid_area": null,
       "grid_auto_columns": null,
       "grid_auto_flow": null,
       "grid_auto_rows": null,
       "grid_column": null,
       "grid_gap": null,
       "grid_row": null,
       "grid_template_areas": null,
       "grid_template_columns": null,
       "grid_template_rows": null,
       "height": null,
       "justify_content": null,
       "justify_items": null,
       "left": null,
       "margin": null,
       "max_height": null,
       "max_width": null,
       "min_height": null,
       "min_width": null,
       "object_fit": null,
       "object_position": null,
       "order": null,
       "overflow": null,
       "padding": null,
       "right": null,
       "top": null,
       "visibility": null,
       "width": null
      }
     },
     "56a17464be62483cb7e82f2adc6df38e": {
      "model_module": "@jupyter-widgets/controls",
      "model_module_version": "2.0.0",
      "model_name": "HTMLStyleModel",
      "state": {
       "_model_module": "@jupyter-widgets/controls",
       "_model_module_version": "2.0.0",
       "_model_name": "HTMLStyleModel",
       "_view_count": null,
       "_view_module": "@jupyter-widgets/base",
       "_view_module_version": "2.0.0",
       "_view_name": "StyleView",
       "background": null,
       "description_width": "",
       "font_size": null,
       "text_color": null
      }
     },
     "58954d4ba7b748bf86f41844610adf70": {
      "model_module": "@jupyter-widgets/base",
      "model_module_version": "2.0.0",
      "model_name": "LayoutModel",
      "state": {
       "_model_module": "@jupyter-widgets/base",
       "_model_module_version": "2.0.0",
       "_model_name": "LayoutModel",
       "_view_count": null,
       "_view_module": "@jupyter-widgets/base",
       "_view_module_version": "2.0.0",
       "_view_name": "LayoutView",
       "align_content": null,
       "align_items": null,
       "align_self": null,
       "border_bottom": null,
       "border_left": null,
       "border_right": null,
       "border_top": null,
       "bottom": null,
       "display": null,
       "flex": null,
       "flex_flow": null,
       "grid_area": null,
       "grid_auto_columns": null,
       "grid_auto_flow": null,
       "grid_auto_rows": null,
       "grid_column": null,
       "grid_gap": null,
       "grid_row": null,
       "grid_template_areas": null,
       "grid_template_columns": null,
       "grid_template_rows": null,
       "height": null,
       "justify_content": null,
       "justify_items": null,
       "left": null,
       "margin": null,
       "max_height": null,
       "max_width": null,
       "min_height": null,
       "min_width": null,
       "object_fit": null,
       "object_position": null,
       "order": null,
       "overflow": null,
       "padding": null,
       "right": null,
       "top": null,
       "visibility": null,
       "width": null
      }
     },
     "5c74754a5bcf4ca28a5996b6bb1e5d33": {
      "model_module": "@jupyter-widgets/controls",
      "model_module_version": "2.0.0",
      "model_name": "HTMLModel",
      "state": {
       "_dom_classes": [],
       "_model_module": "@jupyter-widgets/controls",
       "_model_module_version": "2.0.0",
       "_model_name": "HTMLModel",
       "_view_count": null,
       "_view_module": "@jupyter-widgets/controls",
       "_view_module_version": "2.0.0",
       "_view_name": "HTMLView",
       "description": "",
       "description_allow_html": false,
       "layout": "IPY_MODEL_3bfbeb545e4e4ce9b1402b6dc27dfe54",
       "placeholder": "​",
       "style": "IPY_MODEL_7c99b19303154b2fb957ea6ecbb959a4",
       "tabbable": null,
       "tooltip": null,
       "value": " 48.0/48.0 [00:00&lt;00:00, 3.95kB/s]"
      }
     },
     "5dc3aafe13394d1b8748d797bca0f4ff": {
      "model_module": "@jupyter-widgets/base",
      "model_module_version": "2.0.0",
      "model_name": "LayoutModel",
      "state": {
       "_model_module": "@jupyter-widgets/base",
       "_model_module_version": "2.0.0",
       "_model_name": "LayoutModel",
       "_view_count": null,
       "_view_module": "@jupyter-widgets/base",
       "_view_module_version": "2.0.0",
       "_view_name": "LayoutView",
       "align_content": null,
       "align_items": null,
       "align_self": null,
       "border_bottom": null,
       "border_left": null,
       "border_right": null,
       "border_top": null,
       "bottom": null,
       "display": null,
       "flex": null,
       "flex_flow": null,
       "grid_area": null,
       "grid_auto_columns": null,
       "grid_auto_flow": null,
       "grid_auto_rows": null,
       "grid_column": null,
       "grid_gap": null,
       "grid_row": null,
       "grid_template_areas": null,
       "grid_template_columns": null,
       "grid_template_rows": null,
       "height": null,
       "justify_content": null,
       "justify_items": null,
       "left": null,
       "margin": null,
       "max_height": null,
       "max_width": null,
       "min_height": null,
       "min_width": null,
       "object_fit": null,
       "object_position": null,
       "order": null,
       "overflow": null,
       "padding": null,
       "right": null,
       "top": null,
       "visibility": null,
       "width": null
      }
     },
     "61f5d58785b14c30ab695030ed5a5b68": {
      "model_module": "@jupyter-widgets/controls",
      "model_module_version": "2.0.0",
      "model_name": "ProgressStyleModel",
      "state": {
       "_model_module": "@jupyter-widgets/controls",
       "_model_module_version": "2.0.0",
       "_model_name": "ProgressStyleModel",
       "_view_count": null,
       "_view_module": "@jupyter-widgets/base",
       "_view_module_version": "2.0.0",
       "_view_name": "StyleView",
       "bar_color": null,
       "description_width": ""
      }
     },
     "63344f42bec544878eb16022135478c4": {
      "model_module": "@jupyter-widgets/base",
      "model_module_version": "2.0.0",
      "model_name": "LayoutModel",
      "state": {
       "_model_module": "@jupyter-widgets/base",
       "_model_module_version": "2.0.0",
       "_model_name": "LayoutModel",
       "_view_count": null,
       "_view_module": "@jupyter-widgets/base",
       "_view_module_version": "2.0.0",
       "_view_name": "LayoutView",
       "align_content": null,
       "align_items": null,
       "align_self": null,
       "border_bottom": null,
       "border_left": null,
       "border_right": null,
       "border_top": null,
       "bottom": null,
       "display": null,
       "flex": null,
       "flex_flow": null,
       "grid_area": null,
       "grid_auto_columns": null,
       "grid_auto_flow": null,
       "grid_auto_rows": null,
       "grid_column": null,
       "grid_gap": null,
       "grid_row": null,
       "grid_template_areas": null,
       "grid_template_columns": null,
       "grid_template_rows": null,
       "height": null,
       "justify_content": null,
       "justify_items": null,
       "left": null,
       "margin": null,
       "max_height": null,
       "max_width": null,
       "min_height": null,
       "min_width": null,
       "object_fit": null,
       "object_position": null,
       "order": null,
       "overflow": null,
       "padding": null,
       "right": null,
       "top": null,
       "visibility": null,
       "width": null
      }
     },
     "6a51cd51e3ca4065a87710dce775d3f0": {
      "model_module": "@jupyter-widgets/controls",
      "model_module_version": "2.0.0",
      "model_name": "HBoxModel",
      "state": {
       "_dom_classes": [],
       "_model_module": "@jupyter-widgets/controls",
       "_model_module_version": "2.0.0",
       "_model_name": "HBoxModel",
       "_view_count": null,
       "_view_module": "@jupyter-widgets/controls",
       "_view_module_version": "2.0.0",
       "_view_name": "HBoxView",
       "box_style": "",
       "children": [
        "IPY_MODEL_7ace03126720454fb7b8be092960b227",
        "IPY_MODEL_e517edecb736411291e18e534128a0fb",
        "IPY_MODEL_31216932025c429ba027f6a7b387b5d7"
       ],
       "layout": "IPY_MODEL_017830050b834d46bfe716369316bdb0",
       "tabbable": null,
       "tooltip": null
      }
     },
     "703287572bc34fedb4bcd3c1a9246812": {
      "model_module": "@jupyter-widgets/base",
      "model_module_version": "2.0.0",
      "model_name": "LayoutModel",
      "state": {
       "_model_module": "@jupyter-widgets/base",
       "_model_module_version": "2.0.0",
       "_model_name": "LayoutModel",
       "_view_count": null,
       "_view_module": "@jupyter-widgets/base",
       "_view_module_version": "2.0.0",
       "_view_name": "LayoutView",
       "align_content": null,
       "align_items": null,
       "align_self": null,
       "border_bottom": null,
       "border_left": null,
       "border_right": null,
       "border_top": null,
       "bottom": null,
       "display": null,
       "flex": null,
       "flex_flow": null,
       "grid_area": null,
       "grid_auto_columns": null,
       "grid_auto_flow": null,
       "grid_auto_rows": null,
       "grid_column": null,
       "grid_gap": null,
       "grid_row": null,
       "grid_template_areas": null,
       "grid_template_columns": null,
       "grid_template_rows": null,
       "height": null,
       "justify_content": null,
       "justify_items": null,
       "left": null,
       "margin": null,
       "max_height": null,
       "max_width": null,
       "min_height": null,
       "min_width": null,
       "object_fit": null,
       "object_position": null,
       "order": null,
       "overflow": null,
       "padding": null,
       "right": null,
       "top": null,
       "visibility": null,
       "width": null
      }
     },
     "73c8b2c7a70d4dbdb4ede8f55ca7fb0b": {
      "model_module": "@jupyter-widgets/controls",
      "model_module_version": "2.0.0",
      "model_name": "HTMLModel",
      "state": {
       "_dom_classes": [],
       "_model_module": "@jupyter-widgets/controls",
       "_model_module_version": "2.0.0",
       "_model_name": "HTMLModel",
       "_view_count": null,
       "_view_module": "@jupyter-widgets/controls",
       "_view_module_version": "2.0.0",
       "_view_name": "HTMLView",
       "description": "",
       "description_allow_html": false,
       "layout": "IPY_MODEL_3a1afb7edcb8441781e9228684ab8328",
       "placeholder": "​",
       "style": "IPY_MODEL_56a17464be62483cb7e82f2adc6df38e",
       "tabbable": null,
       "tooltip": null,
       "value": " 440M/440M [00:01&lt;00:00, 250MB/s]"
      }
     },
     "798f4e60bc9a4821acfa703a75fb6718": {
      "model_module": "@jupyter-widgets/controls",
      "model_module_version": "2.0.0",
      "model_name": "ProgressStyleModel",
      "state": {
       "_model_module": "@jupyter-widgets/controls",
       "_model_module_version": "2.0.0",
       "_model_name": "ProgressStyleModel",
       "_view_count": null,
       "_view_module": "@jupyter-widgets/base",
       "_view_module_version": "2.0.0",
       "_view_name": "StyleView",
       "bar_color": null,
       "description_width": ""
      }
     },
     "7ace03126720454fb7b8be092960b227": {
      "model_module": "@jupyter-widgets/controls",
      "model_module_version": "2.0.0",
      "model_name": "HTMLModel",
      "state": {
       "_dom_classes": [],
       "_model_module": "@jupyter-widgets/controls",
       "_model_module_version": "2.0.0",
       "_model_name": "HTMLModel",
       "_view_count": null,
       "_view_module": "@jupyter-widgets/controls",
       "_view_module_version": "2.0.0",
       "_view_name": "HTMLView",
       "description": "",
       "description_allow_html": false,
       "layout": "IPY_MODEL_ca1c8751360d4308926c7a51123e150f",
       "placeholder": "​",
       "style": "IPY_MODEL_295f49752a734578991ef1fa1ebbea23",
       "tabbable": null,
       "tooltip": null,
       "value": "tokenizer.json: 100%"
      }
     },
     "7c99b19303154b2fb957ea6ecbb959a4": {
      "model_module": "@jupyter-widgets/controls",
      "model_module_version": "2.0.0",
      "model_name": "HTMLStyleModel",
      "state": {
       "_model_module": "@jupyter-widgets/controls",
       "_model_module_version": "2.0.0",
       "_model_name": "HTMLStyleModel",
       "_view_count": null,
       "_view_module": "@jupyter-widgets/base",
       "_view_module_version": "2.0.0",
       "_view_name": "StyleView",
       "background": null,
       "description_width": "",
       "font_size": null,
       "text_color": null
      }
     },
     "8591d308c84a4b67b3603c3fbcb27ea6": {
      "model_module": "@jupyter-widgets/controls",
      "model_module_version": "2.0.0",
      "model_name": "HTMLStyleModel",
      "state": {
       "_model_module": "@jupyter-widgets/controls",
       "_model_module_version": "2.0.0",
       "_model_name": "HTMLStyleModel",
       "_view_count": null,
       "_view_module": "@jupyter-widgets/base",
       "_view_module_version": "2.0.0",
       "_view_name": "StyleView",
       "background": null,
       "description_width": "",
       "font_size": null,
       "text_color": null
      }
     },
     "87f679c7093e4c918bddaa5c159ddb15": {
      "model_module": "@jupyter-widgets/base",
      "model_module_version": "2.0.0",
      "model_name": "LayoutModel",
      "state": {
       "_model_module": "@jupyter-widgets/base",
       "_model_module_version": "2.0.0",
       "_model_name": "LayoutModel",
       "_view_count": null,
       "_view_module": "@jupyter-widgets/base",
       "_view_module_version": "2.0.0",
       "_view_name": "LayoutView",
       "align_content": null,
       "align_items": null,
       "align_self": null,
       "border_bottom": null,
       "border_left": null,
       "border_right": null,
       "border_top": null,
       "bottom": null,
       "display": null,
       "flex": null,
       "flex_flow": null,
       "grid_area": null,
       "grid_auto_columns": null,
       "grid_auto_flow": null,
       "grid_auto_rows": null,
       "grid_column": null,
       "grid_gap": null,
       "grid_row": null,
       "grid_template_areas": null,
       "grid_template_columns": null,
       "grid_template_rows": null,
       "height": null,
       "justify_content": null,
       "justify_items": null,
       "left": null,
       "margin": null,
       "max_height": null,
       "max_width": null,
       "min_height": null,
       "min_width": null,
       "object_fit": null,
       "object_position": null,
       "order": null,
       "overflow": null,
       "padding": null,
       "right": null,
       "top": null,
       "visibility": null,
       "width": null
      }
     },
     "89f2f3ffd0e944e1ba82ab2bdf11f35e": {
      "model_module": "@jupyter-widgets/controls",
      "model_module_version": "2.0.0",
      "model_name": "FloatProgressModel",
      "state": {
       "_dom_classes": [],
       "_model_module": "@jupyter-widgets/controls",
       "_model_module_version": "2.0.0",
       "_model_name": "FloatProgressModel",
       "_view_count": null,
       "_view_module": "@jupyter-widgets/controls",
       "_view_module_version": "2.0.0",
       "_view_name": "ProgressView",
       "bar_style": "success",
       "description": "",
       "description_allow_html": false,
       "layout": "IPY_MODEL_e294246c5a1b4797b3a10989572c53bb",
       "max": 48.0,
       "min": 0.0,
       "orientation": "horizontal",
       "style": "IPY_MODEL_ce2537eaeec54300859b404e9bb29d61",
       "tabbable": null,
       "tooltip": null,
       "value": 48.0
      }
     },
     "9dc3bdeab7dd4bf0bfc27d35425c16eb": {
      "model_module": "@jupyter-widgets/controls",
      "model_module_version": "2.0.0",
      "model_name": "HTMLStyleModel",
      "state": {
       "_model_module": "@jupyter-widgets/controls",
       "_model_module_version": "2.0.0",
       "_model_name": "HTMLStyleModel",
       "_view_count": null,
       "_view_module": "@jupyter-widgets/base",
       "_view_module_version": "2.0.0",
       "_view_name": "StyleView",
       "background": null,
       "description_width": "",
       "font_size": null,
       "text_color": null
      }
     },
     "9e751db0d29041eaa5831b5433872f71": {
      "model_module": "@jupyter-widgets/base",
      "model_module_version": "2.0.0",
      "model_name": "LayoutModel",
      "state": {
       "_model_module": "@jupyter-widgets/base",
       "_model_module_version": "2.0.0",
       "_model_name": "LayoutModel",
       "_view_count": null,
       "_view_module": "@jupyter-widgets/base",
       "_view_module_version": "2.0.0",
       "_view_name": "LayoutView",
       "align_content": null,
       "align_items": null,
       "align_self": null,
       "border_bottom": null,
       "border_left": null,
       "border_right": null,
       "border_top": null,
       "bottom": null,
       "display": null,
       "flex": null,
       "flex_flow": null,
       "grid_area": null,
       "grid_auto_columns": null,
       "grid_auto_flow": null,
       "grid_auto_rows": null,
       "grid_column": null,
       "grid_gap": null,
       "grid_row": null,
       "grid_template_areas": null,
       "grid_template_columns": null,
       "grid_template_rows": null,
       "height": null,
       "justify_content": null,
       "justify_items": null,
       "left": null,
       "margin": null,
       "max_height": null,
       "max_width": null,
       "min_height": null,
       "min_width": null,
       "object_fit": null,
       "object_position": null,
       "order": null,
       "overflow": null,
       "padding": null,
       "right": null,
       "top": null,
       "visibility": null,
       "width": null
      }
     },
     "a15d889f99db4015a050413e7b812344": {
      "model_module": "@jupyter-widgets/base",
      "model_module_version": "2.0.0",
      "model_name": "LayoutModel",
      "state": {
       "_model_module": "@jupyter-widgets/base",
       "_model_module_version": "2.0.0",
       "_model_name": "LayoutModel",
       "_view_count": null,
       "_view_module": "@jupyter-widgets/base",
       "_view_module_version": "2.0.0",
       "_view_name": "LayoutView",
       "align_content": null,
       "align_items": null,
       "align_self": null,
       "border_bottom": null,
       "border_left": null,
       "border_right": null,
       "border_top": null,
       "bottom": null,
       "display": null,
       "flex": null,
       "flex_flow": null,
       "grid_area": null,
       "grid_auto_columns": null,
       "grid_auto_flow": null,
       "grid_auto_rows": null,
       "grid_column": null,
       "grid_gap": null,
       "grid_row": null,
       "grid_template_areas": null,
       "grid_template_columns": null,
       "grid_template_rows": null,
       "height": null,
       "justify_content": null,
       "justify_items": null,
       "left": null,
       "margin": null,
       "max_height": null,
       "max_width": null,
       "min_height": null,
       "min_width": null,
       "object_fit": null,
       "object_position": null,
       "order": null,
       "overflow": null,
       "padding": null,
       "right": null,
       "top": null,
       "visibility": null,
       "width": null
      }
     },
     "ac5392523173448b948c94ee8193fc17": {
      "model_module": "@jupyter-widgets/controls",
      "model_module_version": "2.0.0",
      "model_name": "ProgressStyleModel",
      "state": {
       "_model_module": "@jupyter-widgets/controls",
       "_model_module_version": "2.0.0",
       "_model_name": "ProgressStyleModel",
       "_view_count": null,
       "_view_module": "@jupyter-widgets/base",
       "_view_module_version": "2.0.0",
       "_view_name": "StyleView",
       "bar_color": null,
       "description_width": ""
      }
     },
     "b8a261d61b9241b8b3e01cff6e883955": {
      "model_module": "@jupyter-widgets/controls",
      "model_module_version": "2.0.0",
      "model_name": "ProgressStyleModel",
      "state": {
       "_model_module": "@jupyter-widgets/controls",
       "_model_module_version": "2.0.0",
       "_model_name": "ProgressStyleModel",
       "_view_count": null,
       "_view_module": "@jupyter-widgets/base",
       "_view_module_version": "2.0.0",
       "_view_name": "StyleView",
       "bar_color": null,
       "description_width": ""
      }
     },
     "bc674e5a615b4d2eb8b02e89354201c2": {
      "model_module": "@jupyter-widgets/controls",
      "model_module_version": "2.0.0",
      "model_name": "HTMLModel",
      "state": {
       "_dom_classes": [],
       "_model_module": "@jupyter-widgets/controls",
       "_model_module_version": "2.0.0",
       "_model_name": "HTMLModel",
       "_view_count": null,
       "_view_module": "@jupyter-widgets/controls",
       "_view_module_version": "2.0.0",
       "_view_name": "HTMLView",
       "description": "",
       "description_allow_html": false,
       "layout": "IPY_MODEL_f4bf1536def542d587ed7857e473507d",
       "placeholder": "​",
       "style": "IPY_MODEL_c41d97d922d44e1f9d2fd56abb95a86a",
       "tabbable": null,
       "tooltip": null,
       "value": "tokenizer_config.json: 100%"
      }
     },
     "bd4dd3078a4443fea90d8eab81383167": {
      "model_module": "@jupyter-widgets/controls",
      "model_module_version": "2.0.0",
      "model_name": "HTMLModel",
      "state": {
       "_dom_classes": [],
       "_model_module": "@jupyter-widgets/controls",
       "_model_module_version": "2.0.0",
       "_model_name": "HTMLModel",
       "_view_count": null,
       "_view_module": "@jupyter-widgets/controls",
       "_view_module_version": "2.0.0",
       "_view_name": "HTMLView",
       "description": "",
       "description_allow_html": false,
       "layout": "IPY_MODEL_63344f42bec544878eb16022135478c4",
       "placeholder": "​",
       "style": "IPY_MODEL_8591d308c84a4b67b3603c3fbcb27ea6",
       "tabbable": null,
       "tooltip": null,
       "value": "model.safetensors: 100%"
      }
     },
     "bfc73a9037354392a21b8298644d2d80": {
      "model_module": "@jupyter-widgets/controls",
      "model_module_version": "2.0.0",
      "model_name": "HTMLStyleModel",
      "state": {
       "_model_module": "@jupyter-widgets/controls",
       "_model_module_version": "2.0.0",
       "_model_name": "HTMLStyleModel",
       "_view_count": null,
       "_view_module": "@jupyter-widgets/base",
       "_view_module_version": "2.0.0",
       "_view_name": "StyleView",
       "background": null,
       "description_width": "",
       "font_size": null,
       "text_color": null
      }
     },
     "c07d24f0d6334848829f1bfb47886ff5": {
      "model_module": "@jupyter-widgets/base",
      "model_module_version": "2.0.0",
      "model_name": "LayoutModel",
      "state": {
       "_model_module": "@jupyter-widgets/base",
       "_model_module_version": "2.0.0",
       "_model_name": "LayoutModel",
       "_view_count": null,
       "_view_module": "@jupyter-widgets/base",
       "_view_module_version": "2.0.0",
       "_view_name": "LayoutView",
       "align_content": null,
       "align_items": null,
       "align_self": null,
       "border_bottom": null,
       "border_left": null,
       "border_right": null,
       "border_top": null,
       "bottom": null,
       "display": null,
       "flex": null,
       "flex_flow": null,
       "grid_area": null,
       "grid_auto_columns": null,
       "grid_auto_flow": null,
       "grid_auto_rows": null,
       "grid_column": null,
       "grid_gap": null,
       "grid_row": null,
       "grid_template_areas": null,
       "grid_template_columns": null,
       "grid_template_rows": null,
       "height": null,
       "justify_content": null,
       "justify_items": null,
       "left": null,
       "margin": null,
       "max_height": null,
       "max_width": null,
       "min_height": null,
       "min_width": null,
       "object_fit": null,
       "object_position": null,
       "order": null,
       "overflow": null,
       "padding": null,
       "right": null,
       "top": null,
       "visibility": null,
       "width": null
      }
     },
     "c41d97d922d44e1f9d2fd56abb95a86a": {
      "model_module": "@jupyter-widgets/controls",
      "model_module_version": "2.0.0",
      "model_name": "HTMLStyleModel",
      "state": {
       "_model_module": "@jupyter-widgets/controls",
       "_model_module_version": "2.0.0",
       "_model_name": "HTMLStyleModel",
       "_view_count": null,
       "_view_module": "@jupyter-widgets/base",
       "_view_module_version": "2.0.0",
       "_view_name": "StyleView",
       "background": null,
       "description_width": "",
       "font_size": null,
       "text_color": null
      }
     },
     "ca1c8751360d4308926c7a51123e150f": {
      "model_module": "@jupyter-widgets/base",
      "model_module_version": "2.0.0",
      "model_name": "LayoutModel",
      "state": {
       "_model_module": "@jupyter-widgets/base",
       "_model_module_version": "2.0.0",
       "_model_name": "LayoutModel",
       "_view_count": null,
       "_view_module": "@jupyter-widgets/base",
       "_view_module_version": "2.0.0",
       "_view_name": "LayoutView",
       "align_content": null,
       "align_items": null,
       "align_self": null,
       "border_bottom": null,
       "border_left": null,
       "border_right": null,
       "border_top": null,
       "bottom": null,
       "display": null,
       "flex": null,
       "flex_flow": null,
       "grid_area": null,
       "grid_auto_columns": null,
       "grid_auto_flow": null,
       "grid_auto_rows": null,
       "grid_column": null,
       "grid_gap": null,
       "grid_row": null,
       "grid_template_areas": null,
       "grid_template_columns": null,
       "grid_template_rows": null,
       "height": null,
       "justify_content": null,
       "justify_items": null,
       "left": null,
       "margin": null,
       "max_height": null,
       "max_width": null,
       "min_height": null,
       "min_width": null,
       "object_fit": null,
       "object_position": null,
       "order": null,
       "overflow": null,
       "padding": null,
       "right": null,
       "top": null,
       "visibility": null,
       "width": null
      }
     },
     "ce2537eaeec54300859b404e9bb29d61": {
      "model_module": "@jupyter-widgets/controls",
      "model_module_version": "2.0.0",
      "model_name": "ProgressStyleModel",
      "state": {
       "_model_module": "@jupyter-widgets/controls",
       "_model_module_version": "2.0.0",
       "_model_name": "ProgressStyleModel",
       "_view_count": null,
       "_view_module": "@jupyter-widgets/base",
       "_view_module_version": "2.0.0",
       "_view_name": "StyleView",
       "bar_color": null,
       "description_width": ""
      }
     },
     "da40fd1c374a49d2afd38345034792d7": {
      "model_module": "@jupyter-widgets/controls",
      "model_module_version": "2.0.0",
      "model_name": "HTMLStyleModel",
      "state": {
       "_model_module": "@jupyter-widgets/controls",
       "_model_module_version": "2.0.0",
       "_model_name": "HTMLStyleModel",
       "_view_count": null,
       "_view_module": "@jupyter-widgets/base",
       "_view_module_version": "2.0.0",
       "_view_name": "StyleView",
       "background": null,
       "description_width": "",
       "font_size": null,
       "text_color": null
      }
     },
     "e294246c5a1b4797b3a10989572c53bb": {
      "model_module": "@jupyter-widgets/base",
      "model_module_version": "2.0.0",
      "model_name": "LayoutModel",
      "state": {
       "_model_module": "@jupyter-widgets/base",
       "_model_module_version": "2.0.0",
       "_model_name": "LayoutModel",
       "_view_count": null,
       "_view_module": "@jupyter-widgets/base",
       "_view_module_version": "2.0.0",
       "_view_name": "LayoutView",
       "align_content": null,
       "align_items": null,
       "align_self": null,
       "border_bottom": null,
       "border_left": null,
       "border_right": null,
       "border_top": null,
       "bottom": null,
       "display": null,
       "flex": null,
       "flex_flow": null,
       "grid_area": null,
       "grid_auto_columns": null,
       "grid_auto_flow": null,
       "grid_auto_rows": null,
       "grid_column": null,
       "grid_gap": null,
       "grid_row": null,
       "grid_template_areas": null,
       "grid_template_columns": null,
       "grid_template_rows": null,
       "height": null,
       "justify_content": null,
       "justify_items": null,
       "left": null,
       "margin": null,
       "max_height": null,
       "max_width": null,
       "min_height": null,
       "min_width": null,
       "object_fit": null,
       "object_position": null,
       "order": null,
       "overflow": null,
       "padding": null,
       "right": null,
       "top": null,
       "visibility": null,
       "width": null
      }
     },
     "e517edecb736411291e18e534128a0fb": {
      "model_module": "@jupyter-widgets/controls",
      "model_module_version": "2.0.0",
      "model_name": "FloatProgressModel",
      "state": {
       "_dom_classes": [],
       "_model_module": "@jupyter-widgets/controls",
       "_model_module_version": "2.0.0",
       "_model_name": "FloatProgressModel",
       "_view_count": null,
       "_view_module": "@jupyter-widgets/controls",
       "_view_module_version": "2.0.0",
       "_view_name": "ProgressView",
       "bar_style": "success",
       "description": "",
       "description_allow_html": false,
       "layout": "IPY_MODEL_54768a39a88641dc888f3cec1589473a",
       "max": 466062.0,
       "min": 0.0,
       "orientation": "horizontal",
       "style": "IPY_MODEL_798f4e60bc9a4821acfa703a75fb6718",
       "tabbable": null,
       "tooltip": null,
       "value": 466062.0
      }
     },
     "e7606fa1e0324a87aa86af2d5287d951": {
      "model_module": "@jupyter-widgets/base",
      "model_module_version": "2.0.0",
      "model_name": "LayoutModel",
      "state": {
       "_model_module": "@jupyter-widgets/base",
       "_model_module_version": "2.0.0",
       "_model_name": "LayoutModel",
       "_view_count": null,
       "_view_module": "@jupyter-widgets/base",
       "_view_module_version": "2.0.0",
       "_view_name": "LayoutView",
       "align_content": null,
       "align_items": null,
       "align_self": null,
       "border_bottom": null,
       "border_left": null,
       "border_right": null,
       "border_top": null,
       "bottom": null,
       "display": null,
       "flex": null,
       "flex_flow": null,
       "grid_area": null,
       "grid_auto_columns": null,
       "grid_auto_flow": null,
       "grid_auto_rows": null,
       "grid_column": null,
       "grid_gap": null,
       "grid_row": null,
       "grid_template_areas": null,
       "grid_template_columns": null,
       "grid_template_rows": null,
       "height": null,
       "justify_content": null,
       "justify_items": null,
       "left": null,
       "margin": null,
       "max_height": null,
       "max_width": null,
       "min_height": null,
       "min_width": null,
       "object_fit": null,
       "object_position": null,
       "order": null,
       "overflow": null,
       "padding": null,
       "right": null,
       "top": null,
       "visibility": null,
       "width": null
      }
     },
     "eb95b58a000047c9a7f34e59fd767c2f": {
      "model_module": "@jupyter-widgets/controls",
      "model_module_version": "2.0.0",
      "model_name": "HTMLModel",
      "state": {
       "_dom_classes": [],
       "_model_module": "@jupyter-widgets/controls",
       "_model_module_version": "2.0.0",
       "_model_name": "HTMLModel",
       "_view_count": null,
       "_view_module": "@jupyter-widgets/controls",
       "_view_module_version": "2.0.0",
       "_view_name": "HTMLView",
       "description": "",
       "description_allow_html": false,
       "layout": "IPY_MODEL_c07d24f0d6334848829f1bfb47886ff5",
       "placeholder": "​",
       "style": "IPY_MODEL_bfc73a9037354392a21b8298644d2d80",
       "tabbable": null,
       "tooltip": null,
       "value": " 570/570 [00:00&lt;00:00, 45.7kB/s]"
      }
     },
     "f4bf1536def542d587ed7857e473507d": {
      "model_module": "@jupyter-widgets/base",
      "model_module_version": "2.0.0",
      "model_name": "LayoutModel",
      "state": {
       "_model_module": "@jupyter-widgets/base",
       "_model_module_version": "2.0.0",
       "_model_name": "LayoutModel",
       "_view_count": null,
       "_view_module": "@jupyter-widgets/base",
       "_view_module_version": "2.0.0",
       "_view_name": "LayoutView",
       "align_content": null,
       "align_items": null,
       "align_self": null,
       "border_bottom": null,
       "border_left": null,
       "border_right": null,
       "border_top": null,
       "bottom": null,
       "display": null,
       "flex": null,
       "flex_flow": null,
       "grid_area": null,
       "grid_auto_columns": null,
       "grid_auto_flow": null,
       "grid_auto_rows": null,
       "grid_column": null,
       "grid_gap": null,
       "grid_row": null,
       "grid_template_areas": null,
       "grid_template_columns": null,
       "grid_template_rows": null,
       "height": null,
       "justify_content": null,
       "justify_items": null,
       "left": null,
       "margin": null,
       "max_height": null,
       "max_width": null,
       "min_height": null,
       "min_width": null,
       "object_fit": null,
       "object_position": null,
       "order": null,
       "overflow": null,
       "padding": null,
       "right": null,
       "top": null,
       "visibility": null,
       "width": null
      }
     },
     "fb77e76d446b48cdae8142b527a74e10": {
      "model_module": "@jupyter-widgets/controls",
      "model_module_version": "2.0.0",
      "model_name": "FloatProgressModel",
      "state": {
       "_dom_classes": [],
       "_model_module": "@jupyter-widgets/controls",
       "_model_module_version": "2.0.0",
       "_model_name": "FloatProgressModel",
       "_view_count": null,
       "_view_module": "@jupyter-widgets/controls",
       "_view_module_version": "2.0.0",
       "_view_name": "ProgressView",
       "bar_style": "success",
       "description": "",
       "description_allow_html": false,
       "layout": "IPY_MODEL_5dc3aafe13394d1b8748d797bca0f4ff",
       "max": 570.0,
       "min": 0.0,
       "orientation": "horizontal",
       "style": "IPY_MODEL_b8a261d61b9241b8b3e01cff6e883955",
       "tabbable": null,
       "tooltip": null,
       "value": 570.0
      }
     }
    },
    "version_major": 2,
    "version_minor": 0
   }
  }
 },
 "nbformat": 4,
 "nbformat_minor": 5
}
