{
 "cells": [
  {
   "cell_type": "code",
   "execution_count": 1,
   "id": "7f87ad7c",
   "metadata": {
    "_cell_guid": "b1076dfc-b9ad-4769-8c92-a6c4dae69d19",
    "_uuid": "8f2839f25d086af736a60e9eeb907d3b93b6e0e5",
    "execution": {
     "iopub.execute_input": "2025-03-12T23:16:36.954360Z",
     "iopub.status.busy": "2025-03-12T23:16:36.953655Z",
     "iopub.status.idle": "2025-03-12T23:16:50.565803Z",
     "shell.execute_reply": "2025-03-12T23:16:50.564581Z"
    },
    "papermill": {
     "duration": 13.621407,
     "end_time": "2025-03-12T23:16:50.567842",
     "exception": false,
     "start_time": "2025-03-12T23:16:36.946435",
     "status": "completed"
    },
    "scrolled": true,
    "tags": []
   },
   "outputs": [
    {
     "name": "stdout",
     "output_type": "stream",
     "text": [
      "Collecting mlflow\r\n",
      "  Downloading mlflow-2.20.3-py3-none-any.whl.metadata (30 kB)\r\n",
      "Collecting mlflow-skinny==2.20.3 (from mlflow)\r\n",
      "  Downloading mlflow_skinny-2.20.3-py3-none-any.whl.metadata (31 kB)\r\n",
      "Requirement already satisfied: Flask<4 in /usr/local/lib/python3.10/dist-packages (from mlflow) (3.1.0)\r\n",
      "Requirement already satisfied: Jinja2<4,>=2.11 in /usr/local/lib/python3.10/dist-packages (from mlflow) (3.1.4)\r\n",
      "Requirement already satisfied: alembic!=1.10.0,<2 in /usr/local/lib/python3.10/dist-packages (from mlflow) (1.14.1)\r\n",
      "Requirement already satisfied: docker<8,>=4.0.0 in /usr/local/lib/python3.10/dist-packages (from mlflow) (7.1.0)\r\n",
      "Collecting graphene<4 (from mlflow)\r\n",
      "  Downloading graphene-3.4.3-py2.py3-none-any.whl.metadata (6.9 kB)\r\n",
      "Collecting gunicorn<24 (from mlflow)\r\n",
      "  Downloading gunicorn-23.0.0-py3-none-any.whl.metadata (4.4 kB)\r\n",
      "Requirement already satisfied: markdown<4,>=3.3 in /usr/local/lib/python3.10/dist-packages (from mlflow) (3.7)\r\n",
      "Requirement already satisfied: matplotlib<4 in /usr/local/lib/python3.10/dist-packages (from mlflow) (3.7.5)\r\n",
      "Requirement already satisfied: numpy<3 in /usr/local/lib/python3.10/dist-packages (from mlflow) (1.26.4)\r\n",
      "Requirement already satisfied: pandas<3 in /usr/local/lib/python3.10/dist-packages (from mlflow) (2.2.3)\r\n",
      "Requirement already satisfied: pyarrow<20,>=4.0.0 in /usr/local/lib/python3.10/dist-packages (from mlflow) (19.0.0)\r\n",
      "Requirement already satisfied: scikit-learn<2 in /usr/local/lib/python3.10/dist-packages (from mlflow) (1.2.2)\r\n",
      "Requirement already satisfied: scipy<2 in /usr/local/lib/python3.10/dist-packages (from mlflow) (1.13.1)\r\n",
      "Requirement already satisfied: sqlalchemy<3,>=1.4.0 in /usr/local/lib/python3.10/dist-packages (from mlflow) (2.0.36)\r\n",
      "Requirement already satisfied: cachetools<6,>=5.0.0 in /usr/local/lib/python3.10/dist-packages (from mlflow-skinny==2.20.3->mlflow) (5.5.0)\r\n",
      "Requirement already satisfied: click<9,>=7.0 in /usr/local/lib/python3.10/dist-packages (from mlflow-skinny==2.20.3->mlflow) (8.1.7)\r\n",
      "Requirement already satisfied: cloudpickle<4 in /usr/local/lib/python3.10/dist-packages (from mlflow-skinny==2.20.3->mlflow) (3.1.0)\r\n",
      "Collecting databricks-sdk<1,>=0.20.0 (from mlflow-skinny==2.20.3->mlflow)\r\n",
      "  Downloading databricks_sdk-0.46.0-py3-none-any.whl.metadata (38 kB)\r\n",
      "Requirement already satisfied: gitpython<4,>=3.1.9 in /usr/local/lib/python3.10/dist-packages (from mlflow-skinny==2.20.3->mlflow) (3.1.43)\r\n",
      "Requirement already satisfied: importlib_metadata!=4.7.0,<9,>=3.7.0 in /usr/local/lib/python3.10/dist-packages (from mlflow-skinny==2.20.3->mlflow) (8.5.0)\r\n",
      "Requirement already satisfied: opentelemetry-api<3,>=1.9.0 in /usr/local/lib/python3.10/dist-packages (from mlflow-skinny==2.20.3->mlflow) (1.29.0)\r\n",
      "Requirement already satisfied: opentelemetry-sdk<3,>=1.9.0 in /usr/local/lib/python3.10/dist-packages (from mlflow-skinny==2.20.3->mlflow) (1.29.0)\r\n",
      "Requirement already satisfied: packaging<25 in /usr/local/lib/python3.10/dist-packages (from mlflow-skinny==2.20.3->mlflow) (24.2)\r\n",
      "Requirement already satisfied: protobuf<6,>=3.12.0 in /usr/local/lib/python3.10/dist-packages (from mlflow-skinny==2.20.3->mlflow) (3.20.3)\r\n",
      "Requirement already satisfied: pydantic<3,>=1.10.8 in /usr/local/lib/python3.10/dist-packages (from mlflow-skinny==2.20.3->mlflow) (2.11.0a1)\r\n",
      "Requirement already satisfied: pyyaml<7,>=5.1 in /usr/local/lib/python3.10/dist-packages (from mlflow-skinny==2.20.3->mlflow) (6.0.2)\r\n",
      "Requirement already satisfied: requests<3,>=2.17.3 in /usr/local/lib/python3.10/dist-packages (from mlflow-skinny==2.20.3->mlflow) (2.32.3)\r\n",
      "Requirement already satisfied: sqlparse<1,>=0.4.0 in /usr/local/lib/python3.10/dist-packages (from mlflow-skinny==2.20.3->mlflow) (0.5.3)\r\n",
      "Requirement already satisfied: typing-extensions<5,>=4.0.0 in /usr/local/lib/python3.10/dist-packages (from mlflow-skinny==2.20.3->mlflow) (4.12.2)\r\n",
      "Requirement already satisfied: Mako in /usr/local/lib/python3.10/dist-packages (from alembic!=1.10.0,<2->mlflow) (1.3.9)\r\n",
      "Requirement already satisfied: urllib3>=1.26.0 in /usr/local/lib/python3.10/dist-packages (from docker<8,>=4.0.0->mlflow) (2.3.0)\r\n",
      "Requirement already satisfied: Werkzeug>=3.1 in /usr/local/lib/python3.10/dist-packages (from Flask<4->mlflow) (3.1.3)\r\n",
      "Requirement already satisfied: itsdangerous>=2.2 in /usr/local/lib/python3.10/dist-packages (from Flask<4->mlflow) (2.2.0)\r\n",
      "Requirement already satisfied: blinker>=1.9 in /usr/local/lib/python3.10/dist-packages (from Flask<4->mlflow) (1.9.0)\r\n",
      "Collecting graphql-core<3.3,>=3.1 (from graphene<4->mlflow)\r\n",
      "  Downloading graphql_core-3.2.6-py3-none-any.whl.metadata (11 kB)\r\n",
      "Collecting graphql-relay<3.3,>=3.1 (from graphene<4->mlflow)\r\n",
      "  Downloading graphql_relay-3.2.0-py3-none-any.whl.metadata (12 kB)\r\n",
      "Requirement already satisfied: python-dateutil<3,>=2.7.0 in /usr/local/lib/python3.10/dist-packages (from graphene<4->mlflow) (2.9.0.post0)\r\n",
      "Requirement already satisfied: MarkupSafe>=2.0 in /usr/local/lib/python3.10/dist-packages (from Jinja2<4,>=2.11->mlflow) (3.0.2)\r\n",
      "Requirement already satisfied: contourpy>=1.0.1 in /usr/local/lib/python3.10/dist-packages (from matplotlib<4->mlflow) (1.3.1)\r\n",
      "Requirement already satisfied: cycler>=0.10 in /usr/local/lib/python3.10/dist-packages (from matplotlib<4->mlflow) (0.12.1)\r\n",
      "Requirement already satisfied: fonttools>=4.22.0 in /usr/local/lib/python3.10/dist-packages (from matplotlib<4->mlflow) (4.55.3)\r\n",
      "Requirement already satisfied: kiwisolver>=1.0.1 in /usr/local/lib/python3.10/dist-packages (from matplotlib<4->mlflow) (1.4.7)\r\n",
      "Requirement already satisfied: pillow>=6.2.0 in /usr/local/lib/python3.10/dist-packages (from matplotlib<4->mlflow) (11.0.0)\r\n",
      "Requirement already satisfied: pyparsing>=2.3.1 in /usr/local/lib/python3.10/dist-packages (from matplotlib<4->mlflow) (3.2.0)\r\n",
      "Requirement already satisfied: mkl_fft in /usr/local/lib/python3.10/dist-packages (from numpy<3->mlflow) (1.3.8)\r\n",
      "Requirement already satisfied: mkl_random in /usr/local/lib/python3.10/dist-packages (from numpy<3->mlflow) (1.2.4)\r\n",
      "Requirement already satisfied: mkl_umath in /usr/local/lib/python3.10/dist-packages (from numpy<3->mlflow) (0.1.1)\r\n",
      "Requirement already satisfied: mkl in /usr/local/lib/python3.10/dist-packages (from numpy<3->mlflow) (2025.0.1)\r\n",
      "Requirement already satisfied: tbb4py in /usr/local/lib/python3.10/dist-packages (from numpy<3->mlflow) (2022.0.0)\r\n",
      "Requirement already satisfied: mkl-service in /usr/local/lib/python3.10/dist-packages (from numpy<3->mlflow) (2.4.1)\r\n",
      "Requirement already satisfied: pytz>=2020.1 in /usr/local/lib/python3.10/dist-packages (from pandas<3->mlflow) (2025.1)\r\n",
      "Requirement already satisfied: tzdata>=2022.7 in /usr/local/lib/python3.10/dist-packages (from pandas<3->mlflow) (2025.1)\r\n",
      "Requirement already satisfied: joblib>=1.1.1 in /usr/local/lib/python3.10/dist-packages (from scikit-learn<2->mlflow) (1.4.2)\r\n",
      "Requirement already satisfied: threadpoolctl>=2.0.0 in /usr/local/lib/python3.10/dist-packages (from scikit-learn<2->mlflow) (3.5.0)\r\n",
      "Requirement already satisfied: greenlet!=0.4.17 in /usr/local/lib/python3.10/dist-packages (from sqlalchemy<3,>=1.4.0->mlflow) (3.1.1)\r\n",
      "Requirement already satisfied: google-auth~=2.0 in /usr/local/lib/python3.10/dist-packages (from databricks-sdk<1,>=0.20.0->mlflow-skinny==2.20.3->mlflow) (2.27.0)\r\n",
      "Requirement already satisfied: gitdb<5,>=4.0.1 in /usr/local/lib/python3.10/dist-packages (from gitpython<4,>=3.1.9->mlflow-skinny==2.20.3->mlflow) (4.0.11)\r\n",
      "Requirement already satisfied: zipp>=3.20 in /usr/local/lib/python3.10/dist-packages (from importlib_metadata!=4.7.0,<9,>=3.7.0->mlflow-skinny==2.20.3->mlflow) (3.21.0)\r\n",
      "Requirement already satisfied: deprecated>=1.2.6 in /usr/local/lib/python3.10/dist-packages (from opentelemetry-api<3,>=1.9.0->mlflow-skinny==2.20.3->mlflow) (1.2.15)\r\n",
      "Requirement already satisfied: opentelemetry-semantic-conventions==0.50b0 in /usr/local/lib/python3.10/dist-packages (from opentelemetry-sdk<3,>=1.9.0->mlflow-skinny==2.20.3->mlflow) (0.50b0)\r\n",
      "Requirement already satisfied: annotated-types>=0.6.0 in /usr/local/lib/python3.10/dist-packages (from pydantic<3,>=1.10.8->mlflow-skinny==2.20.3->mlflow) (0.7.0)\r\n",
      "Requirement already satisfied: pydantic-core==2.28.0 in /usr/local/lib/python3.10/dist-packages (from pydantic<3,>=1.10.8->mlflow-skinny==2.20.3->mlflow) (2.28.0)\r\n",
      "Requirement already satisfied: six>=1.5 in /usr/local/lib/python3.10/dist-packages (from python-dateutil<3,>=2.7.0->graphene<4->mlflow) (1.17.0)\r\n",
      "Requirement already satisfied: charset-normalizer<4,>=2 in /usr/local/lib/python3.10/dist-packages (from requests<3,>=2.17.3->mlflow-skinny==2.20.3->mlflow) (3.4.1)\r\n",
      "Requirement already satisfied: idna<4,>=2.5 in /usr/local/lib/python3.10/dist-packages (from requests<3,>=2.17.3->mlflow-skinny==2.20.3->mlflow) (3.10)\r\n",
      "Requirement already satisfied: certifi>=2017.4.17 in /usr/local/lib/python3.10/dist-packages (from requests<3,>=2.17.3->mlflow-skinny==2.20.3->mlflow) (2025.1.31)\r\n",
      "Requirement already satisfied: intel-openmp>=2024 in /usr/local/lib/python3.10/dist-packages (from mkl->numpy<3->mlflow) (2024.2.0)\r\n",
      "Requirement already satisfied: tbb==2022.* in /usr/local/lib/python3.10/dist-packages (from mkl->numpy<3->mlflow) (2022.0.0)\r\n",
      "Requirement already satisfied: tcmlib==1.* in /usr/local/lib/python3.10/dist-packages (from tbb==2022.*->mkl->numpy<3->mlflow) (1.2.0)\r\n",
      "Requirement already satisfied: intel-cmplr-lib-rt in /usr/local/lib/python3.10/dist-packages (from mkl_umath->numpy<3->mlflow) (2024.2.0)\r\n",
      "Requirement already satisfied: wrapt<2,>=1.10 in /usr/local/lib/python3.10/dist-packages (from deprecated>=1.2.6->opentelemetry-api<3,>=1.9.0->mlflow-skinny==2.20.3->mlflow) (1.17.0)\r\n",
      "Requirement already satisfied: smmap<6,>=3.0.1 in /usr/local/lib/python3.10/dist-packages (from gitdb<5,>=4.0.1->gitpython<4,>=3.1.9->mlflow-skinny==2.20.3->mlflow) (5.0.1)\r\n",
      "Requirement already satisfied: pyasn1-modules>=0.2.1 in /usr/local/lib/python3.10/dist-packages (from google-auth~=2.0->databricks-sdk<1,>=0.20.0->mlflow-skinny==2.20.3->mlflow) (0.4.1)\r\n",
      "Requirement already satisfied: rsa<5,>=3.1.4 in /usr/local/lib/python3.10/dist-packages (from google-auth~=2.0->databricks-sdk<1,>=0.20.0->mlflow-skinny==2.20.3->mlflow) (4.9)\r\n",
      "Requirement already satisfied: intel-cmplr-lib-ur==2024.2.0 in /usr/local/lib/python3.10/dist-packages (from intel-openmp>=2024->mkl->numpy<3->mlflow) (2024.2.0)\r\n",
      "Requirement already satisfied: pyasn1<0.7.0,>=0.4.6 in /usr/local/lib/python3.10/dist-packages (from pyasn1-modules>=0.2.1->google-auth~=2.0->databricks-sdk<1,>=0.20.0->mlflow-skinny==2.20.3->mlflow) (0.6.1)\r\n",
      "Downloading mlflow-2.20.3-py3-none-any.whl (28.4 MB)\r\n",
      "\u001b[2K   \u001b[90m━━━━━━━━━━━━━━━━━━━━━━━━━━━━━━━━━━━━━━━━\u001b[0m \u001b[32m28.4/28.4 MB\u001b[0m \u001b[31m53.0 MB/s\u001b[0m eta \u001b[36m0:00:00\u001b[0m\r\n",
      "\u001b[?25hDownloading mlflow_skinny-2.20.3-py3-none-any.whl (6.0 MB)\r\n",
      "\u001b[2K   \u001b[90m━━━━━━━━━━━━━━━━━━━━━━━━━━━━━━━━━━━━━━━━\u001b[0m \u001b[32m6.0/6.0 MB\u001b[0m \u001b[31m74.6 MB/s\u001b[0m eta \u001b[36m0:00:00\u001b[0m\r\n",
      "\u001b[?25hDownloading graphene-3.4.3-py2.py3-none-any.whl (114 kB)\r\n",
      "\u001b[2K   \u001b[90m━━━━━━━━━━━━━━━━━━━━━━━━━━━━━━━━━━━━━━━━\u001b[0m \u001b[32m114.9/114.9 kB\u001b[0m \u001b[31m5.1 MB/s\u001b[0m eta \u001b[36m0:00:00\u001b[0m\r\n",
      "\u001b[?25hDownloading gunicorn-23.0.0-py3-none-any.whl (85 kB)\r\n",
      "\u001b[2K   \u001b[90m━━━━━━━━━━━━━━━━━━━━━━━━━━━━━━━━━━━━━━━━\u001b[0m \u001b[32m85.0/85.0 kB\u001b[0m \u001b[31m4.3 MB/s\u001b[0m eta \u001b[36m0:00:00\u001b[0m\r\n",
      "\u001b[?25hDownloading databricks_sdk-0.46.0-py3-none-any.whl (677 kB)\r\n",
      "\u001b[2K   \u001b[90m━━━━━━━━━━━━━━━━━━━━━━━━━━━━━━━━━━━━━━━━\u001b[0m \u001b[32m677.5/677.5 kB\u001b[0m \u001b[31m24.4 MB/s\u001b[0m eta \u001b[36m0:00:00\u001b[0m\r\n",
      "\u001b[?25hDownloading graphql_core-3.2.6-py3-none-any.whl (203 kB)\r\n",
      "\u001b[2K   \u001b[90m━━━━━━━━━━━━━━━━━━━━━━━━━━━━━━━━━━━━━━━━\u001b[0m \u001b[32m203.4/203.4 kB\u001b[0m \u001b[31m8.3 MB/s\u001b[0m eta \u001b[36m0:00:00\u001b[0m\r\n",
      "\u001b[?25hDownloading graphql_relay-3.2.0-py3-none-any.whl (16 kB)\r\n",
      "Installing collected packages: gunicorn, graphql-core, graphql-relay, graphene, databricks-sdk, mlflow-skinny, mlflow\r\n",
      "Successfully installed databricks-sdk-0.46.0 graphene-3.4.3 graphql-core-3.2.6 graphql-relay-3.2.0 gunicorn-23.0.0 mlflow-2.20.3 mlflow-skinny-2.20.3\r\n"
     ]
    }
   ],
   "source": [
    "!pip install mlflow"
   ]
  },
  {
   "cell_type": "code",
   "execution_count": 2,
   "id": "5e99249b",
   "metadata": {
    "execution": {
     "iopub.execute_input": "2025-03-12T23:16:50.584128Z",
     "iopub.status.busy": "2025-03-12T23:16:50.583759Z",
     "iopub.status.idle": "2025-03-12T23:17:38.842755Z",
     "shell.execute_reply": "2025-03-12T23:17:38.841488Z"
    },
    "papermill": {
     "duration": 48.269305,
     "end_time": "2025-03-12T23:17:38.844872",
     "exception": false,
     "start_time": "2025-03-12T23:16:50.575567",
     "status": "completed"
    },
    "tags": []
   },
   "outputs": [],
   "source": [
    "import mlflow\n",
    "import mlflow.sklearn\n",
    "import time\n",
    "import pickle\n",
    "from sklearn.model_selection import train_test_split\n",
    "from sklearn.ensemble import RandomForestClassifier\n",
    "from sklearn.datasets import load_iris\n",
    "from sklearn.metrics import accuracy_score\n",
    "from sklearn.feature_extraction.text import CountVectorizer, TfidfVectorizer\n",
    "from sklearn.decomposition import NMF\n",
    "from sklearn.metrics.pairwise import cosine_similarity\n",
    "from sklearn.metrics import jaccard_score\n",
    "from sklearn.preprocessing import MultiLabelBinarizer\n",
    "from sklearn.linear_model import LogisticRegression\n",
    "from sklearn.multiclass import OneVsRestClassifier\n",
    "from sklearn.linear_model import SGDClassifier\n",
    "from sklearn.preprocessing import StandardScaler\n",
    "\n",
    "import shutil\n",
    "import matplotlib.pyplot as plt\n",
    "\n",
    "import pandas as pd\n",
    "import numpy as np\n",
    "import re\n",
    "import spacy\n",
    "import gensim\n",
    "from gensim.parsing.preprocessing import STOPWORDS\n",
    "from bs4 import BeautifulSoup\n",
    "from scipy import sparse\n",
    "\n",
    "import pyLDAvis.gensim_models as gensimvis\n",
    "import pyLDAvis\n",
    "import joblib\n",
    "\n",
    "from gensim.models.ldamodel import LdaModel\n",
    "from gensim.utils import simple_preprocess\n",
    "from gensim import corpora\n",
    "from gensim.models.coherencemodel import CoherenceModel\n",
    "from gensim.models import Word2Vec\n",
    "from gensim.models.doc2vec import Doc2Vec, TaggedDocument\n",
    "\n",
    "from transformers import AutoTokenizer, AutoModel\n",
    "import torch\n",
    "import os\n",
    "\n",
    "import warnings\n",
    "warnings.filterwarnings(\"ignore\", category=DeprecationWarning)"
   ]
  },
  {
   "cell_type": "code",
   "execution_count": 3,
   "id": "cd0c5205",
   "metadata": {
    "execution": {
     "iopub.execute_input": "2025-03-12T23:17:38.861315Z",
     "iopub.status.busy": "2025-03-12T23:17:38.860581Z",
     "iopub.status.idle": "2025-03-12T23:17:38.865288Z",
     "shell.execute_reply": "2025-03-12T23:17:38.864398Z"
    },
    "papermill": {
     "duration": 0.014548,
     "end_time": "2025-03-12T23:17:38.866901",
     "exception": false,
     "start_time": "2025-03-12T23:17:38.852353",
     "status": "completed"
    },
    "tags": []
   },
   "outputs": [],
   "source": [
    "os.makedirs(\"/kaggle/working/models\", exist_ok=True)"
   ]
  },
  {
   "cell_type": "code",
   "execution_count": 4,
   "id": "e4fc59a6",
   "metadata": {
    "execution": {
     "iopub.execute_input": "2025-03-12T23:17:38.882584Z",
     "iopub.status.busy": "2025-03-12T23:17:38.882183Z",
     "iopub.status.idle": "2025-03-12T23:17:38.904544Z",
     "shell.execute_reply": "2025-03-12T23:17:38.903308Z"
    },
    "papermill": {
     "duration": 0.032201,
     "end_time": "2025-03-12T23:17:38.906397",
     "exception": false,
     "start_time": "2025-03-12T23:17:38.874196",
     "status": "completed"
    },
    "tags": []
   },
   "outputs": [
    {
     "name": "stderr",
     "output_type": "stream",
     "text": [
      "2025/03/12 23:17:38 INFO mlflow.tracking.fluent: Experiment with name 'Classic_Supervised' does not exist. Creating a new experiment.\n"
     ]
    },
    {
     "name": "stdout",
     "output_type": "stream",
     "text": [
      "MLflow configuré sur Kaggle ! Logs enregistrés dans /kaggle/working/mlruns\n"
     ]
    }
   ],
   "source": [
    "mlflow.set_tracking_uri(\"/kaggle/working/mlruns\")\n",
    "\n",
    "mlflow.set_experiment(\"Classic_Supervised\")\n",
    "\n",
    "print(\"MLflow configuré sur Kaggle ! Logs enregistrés dans /kaggle/working/mlruns\")"
   ]
  },
  {
   "cell_type": "code",
   "execution_count": 5,
   "id": "922a3581",
   "metadata": {
    "execution": {
     "iopub.execute_input": "2025-03-12T23:17:38.922723Z",
     "iopub.status.busy": "2025-03-12T23:17:38.922314Z",
     "iopub.status.idle": "2025-03-12T23:17:43.911442Z",
     "shell.execute_reply": "2025-03-12T23:17:43.910431Z"
    },
    "papermill": {
     "duration": 4.999574,
     "end_time": "2025-03-12T23:17:43.913560",
     "exception": false,
     "start_time": "2025-03-12T23:17:38.913986",
     "status": "completed"
    },
    "tags": []
   },
   "outputs": [],
   "source": [
    "data = pd.read_csv('/kaggle/input/bigot-benjamin-1-notebook-exploration-022025/preprocessed_data.csv')\n",
    "np.random.seed(42)"
   ]
  },
  {
   "cell_type": "code",
   "execution_count": 6,
   "id": "2a63d993",
   "metadata": {
    "execution": {
     "iopub.execute_input": "2025-03-12T23:17:43.930326Z",
     "iopub.status.busy": "2025-03-12T23:17:43.929940Z",
     "iopub.status.idle": "2025-03-12T23:17:43.969182Z",
     "shell.execute_reply": "2025-03-12T23:17:43.968024Z"
    },
    "papermill": {
     "duration": 0.049846,
     "end_time": "2025-03-12T23:17:43.971066",
     "exception": false,
     "start_time": "2025-03-12T23:17:43.921220",
     "status": "completed"
    },
    "tags": []
   },
   "outputs": [
    {
     "name": "stdout",
     "output_type": "stream",
     "text": [
      "Taille du train : 40000\n",
      "Taille du test : 10000\n"
     ]
    }
   ],
   "source": [
    "# Séparer le dataset en Train (80%) et Test (20%)\n",
    "X = data.drop(columns=[\"Tags\"])\n",
    "Y = data[\"Tags\"]\n",
    "X_train, X_test, y_train_raw, y_test_raw = train_test_split(X, Y, test_size=0.2, random_state=42)\n",
    "\n",
    "# Vérifier la taille des jeux de données\n",
    "print(f\"Taille du train : {len(X_train)}\")\n",
    "print(f\"Taille du test : {len(X_test)}\")"
   ]
  },
  {
   "cell_type": "code",
   "execution_count": 7,
   "id": "27f6dfb8",
   "metadata": {
    "execution": {
     "iopub.execute_input": "2025-03-12T23:17:43.987831Z",
     "iopub.status.busy": "2025-03-12T23:17:43.987453Z",
     "iopub.status.idle": "2025-03-12T23:17:57.224754Z",
     "shell.execute_reply": "2025-03-12T23:17:57.223653Z"
    },
    "papermill": {
     "duration": 13.247633,
     "end_time": "2025-03-12T23:17:57.226628",
     "exception": false,
     "start_time": "2025-03-12T23:17:43.978995",
     "status": "completed"
    },
    "tags": []
   },
   "outputs": [],
   "source": [
    "# Bag-of-Words\n",
    "vectorizer_count = CountVectorizer(max_features=5000, stop_words=\"english\")\n",
    "X_train_count = vectorizer_count.fit_transform(X_train['Processed'])\n",
    "X_test_count = vectorizer_count.transform(X_test['Processed'])\n",
    "\n",
    "# TF-IDF\n",
    "vectorizer_tfidf = TfidfVectorizer(max_features=5000, stop_words=\"english\")\n",
    "X_train_tfidf = vectorizer_tfidf.fit_transform(X_train['Processed'])\n",
    "X_test_tfidf = vectorizer_tfidf.transform(X_test['Processed'])"
   ]
  },
  {
   "cell_type": "code",
   "execution_count": 8,
   "id": "778598c2",
   "metadata": {
    "execution": {
     "iopub.execute_input": "2025-03-12T23:17:57.242804Z",
     "iopub.status.busy": "2025-03-12T23:17:57.242457Z",
     "iopub.status.idle": "2025-03-12T23:17:57.311782Z",
     "shell.execute_reply": "2025-03-12T23:17:57.310580Z"
    },
    "papermill": {
     "duration": 0.07965,
     "end_time": "2025-03-12T23:17:57.313841",
     "exception": false,
     "start_time": "2025-03-12T23:17:57.234191",
     "status": "completed"
    },
    "tags": []
   },
   "outputs": [],
   "source": [
    "y_train_raw = y_train_raw.apply(lambda x: x.strip(\"<>\").split(\"><\"))\n",
    "y_test_raw = y_test_raw.apply(lambda x: x.strip(\"<>\").split(\"><\"))"
   ]
  },
  {
   "cell_type": "code",
   "execution_count": 9,
   "id": "0ee1d8f6",
   "metadata": {
    "_kg_hide-output": true,
    "execution": {
     "iopub.execute_input": "2025-03-12T23:17:57.329989Z",
     "iopub.status.busy": "2025-03-12T23:17:57.329542Z",
     "iopub.status.idle": "2025-03-12T23:17:58.098787Z",
     "shell.execute_reply": "2025-03-12T23:17:58.097492Z"
    },
    "papermill": {
     "duration": 0.780373,
     "end_time": "2025-03-12T23:17:58.101675",
     "exception": false,
     "start_time": "2025-03-12T23:17:57.321302",
     "status": "completed"
    },
    "scrolled": true,
    "tags": []
   },
   "outputs": [
    {
     "name": "stderr",
     "output_type": "stream",
     "text": [
      "/usr/local/lib/python3.10/dist-packages/sklearn/preprocessing/_label.py:895: UserWarning: unknown class(es) ['100mslive', '3d-convolution', '3ds', '4g', '8thwall-web', 'aapt', 'aasa', 'abseil', 'abstract-methods', 'acceptance-testing', 'access-point', 'acid', 'acr1252', 'action-button', 'action-mapping', 'actionscript-3', 'activesupport-concern', 'activitylog', 'add-custom-target', 'add-filter', 'addrange', 'adjacency-matrix', 'adonisjs-ace', 'advanced-threat-protection', 'aero', 'aframe', 'ag-charts-react', 'ag-grid-validation', 'aggregate-filter', 'aio', 'aiven', 'ajaxform', 'alchemy', 'amazon-dynamodb-dax', 'amazon-gamelift', 'amazon-polly', 'ambiguity', 'ampersand', 'ampscript', 'ancestor', 'android-12l', 'android-7.0-nougat', 'android-arrayadapter', 'android-broadcast', 'android-companion-device', 'android-compose-image', 'android-contentprovider', 'android-context', 'android-darkmode', 'android-dynamic-shortcuts', 'android-firmware', 'android-homebutton', 'android-junit', 'android-kernel', 'android-lvl', 'android-management-api', 'android-menu', 'android-radiogroup', 'android-safe-args', 'android-selector', 'android-snackbar', 'android-swipe', 'android-textinputedittext', 'android-textureview', 'android-wear-data-api', 'android.mk', 'angular-factory', 'angular-promise', 'angular-social-login', 'angular2-form-validation', 'angular2-nativescript', 'angular2-providers', 'angular2-services', 'animejs', 'anonymous-types', 'anonymousidentification', 'ansible-galaxy', 'anthropic', 'anti-debugging', 'antimalware', 'anycpu', 'anypoint-exchange', 'anypoint-mq', 'apache-commons-dbcp', 'apache-commons-httpclient', 'apache-james', 'apache-poi-4', 'apache-spark-mllib', 'apache-spark-standalone', 'api-documentation', 'apple-appclips', 'appxmanifest', 'apr', 'architectural-patterns', 'arcmap', 'arduino-due', 'arduinojson', 'argocd-notification', 'armv8', 'arview', 'ascii-art', 'asenumerable', 'asmx', 'asn.1', 'asp.net-mvc-viewmodel', 'asprepeater', 'asprintf', 'assistant', 'asternet', 'asyncapi', 'asyncvalidators', 'atdd', 'atof', 'autocreate', 'autoresize', 'autostart', 'avaudiorecorder', 'avcam', 'avplayerviewcontroller', 'awesome-wm', 'aws-backup', 'aws-crt', 'aws-identitypools', 'aws-lambda-authoriser', 'aws-lambda-powertools', 'aws-media-convert', 'aws-sdk-android', 'aws-sdk-cpp', 'aws-sdk-mock', 'aws-sdk-rust', 'aws-userpools', 'axes', 'axiom', 'axios-mock-adapter', 'azure-ad-b2b', 'azure-ad-powershell-v2', 'azure-app-gateway-for-containers', 'azure-autoscaling-block', 'azure-blob-storage-delete', 'azure-cosmosdb-gremlinapi', 'azure-devops-server-2022', 'azure-metrics-advisor', 'azure-oauth2', 'azure-purview', 'azure-qna-maker', 'azure-releases', 'azure-rtos', 'azure-security-center', 'azure-tableclient', 'azure-tablequery', 'babel-core', 'babel-polyfill', 'babel-preset-env', 'background-audio', 'backticks', 'bad-alloc', 'balloon', 'bandersnatch', 'basis', 'bastion-host', 'batching', 'batik', 'bayessearchcv', 'bcd', 'bde', 'beast', 'benchmarkdotnet', 'binaries', 'binaryformatter', 'bing-api', 'bip32', 'birt', 'birt-deapi', 'birt-emitter', 'bitcoin-testnet', 'bitnami-kafka', 'blame', 'blastula', 'blazorise', 'blender-2.76', 'blueprint', 'bnd', 'bootsnap', 'bootstrap-select', 'bootstrap-selectpicker', 'bootstrap-toast', 'bootstrap-ui', 'bootstrap5-modal', 'botpress', 'bounds', 'bpmn.io', 'branching-and-merging', 'bridging-header', 'bubble-chart', 'buddyboss', 'buf', 'bufferedoutputstream', 'buildship', 'bulk', 'bulksms', 'bull.js', 'bunnycdn', 'business-logic', 'c#-6.0', 'c#-ziparchive', 'cabal', 'caddyfile', 'cagradientlayer', 'camera-roll', 'camerapermission', 'canalyzer', 'candy-machine', 'canexecute', 'cannon.js', 'canvas-lms', 'capability', 'capstone', 'cardinality', 'cardview', 'carousel-slider', 'cartesian-product', 'cascade-classifier', 'case-sensitive', 'castle-windsor', 'cbc-mode', 'cbind', 'cereal', 'ceres-solver', 'cfs', 'cg', 'cgdb', 'chai-as-promised', 'chalice', 'challenge-response', 'chartjs-plugin-annotation', 'check-digit', 'checked', 'chinese-simplified', 'chinese-traditional', 'chrome-app-developer-tool', 'chromium-embedded', 'chronological', 'circuit', 'clap', 'classnotfound', 'clientcache', 'clique', 'clique-problem', 'clregion', 'cmake-custom-command', 'cocoamqtt', 'code-conversion', 'code39', 'codepages', 'coerce', 'colmap', 'color-channel', 'column-sum', 'com+', 'commitlint', 'component-testing', 'composite-types', 'conda-pack', 'condor', 'configurable', 'confirm', 'confluent-kafka-dotnet', 'constructorargument', 'copy-item', 'copyright-display', 'corba', 'core-animation', 'core-media', 'correctness', 'cortex-r', 'countdowntimer', 'coursier', 'crash-log', 'create-directory', 'create-guten-block', 'createfile', 'cri-o', 'cropperjs', 'cross-match', 'csh', 'css-float', 'css-frameworks', 'css-rem', 'css-specificity', 'css-sprites', 'ctad', 'ctas', 'cube.js', 'cuda-wmma', 'cudatoolkit', 'custom-keyboard', 'custom-painter', 'custom-url', 'customization-point', 'cybersource-rest-client', 'cypress-each', 'dacl', 'dailymotion-api', 'dart-devtools', 'dart-pattern-matching', 'dart-test', 'dart3', 'dask-kubernetes', 'data-access-layer', 'data-fabric', 'data-protection', 'database-deployment', 'database-first', 'database-normalization', 'dataframes.jl', 'datagridviewcolumn', 'datagridviewimagecolumn', 'datashader', 'datastax-python-driver', 'datepart', 'dbf', 'dbmigrate', 'dbo', 'dead-code', 'debezium-connect', 'debian-buster', 'debug-build', 'debug-information', 'debugdiag', 'decodable', 'decompiler', 'default-interface-member', 'defensive-copy', 'deferred-loading', 'deflate', 'delegation', 'delphi-10.3-rio', 'demo', 'denial-of-service', 'dev-tunnels', 'devbox', 'dialplan', 'digital-assets-links', 'digraphs', 'directoryentry', 'dispatchgroup', 'dispatchworkitem', 'distance-matrix', 'distilbert', 'distriqt', 'ditto', 'django-bootstrap3', 'django-import-export', 'django-registration', 'django-rq', 'django-tailwind', 'django-two-factor-auth', 'django-widget', 'djoser', 'dnn9', 'docker-layer', 'dockerpy', 'document-conversion', 'document-loader', 'dollar-sign', 'dongle', 'dot-product', 'dotnet-svcutil', 'dotnetopenauth', 'dotween', 'downloadfileasync', 'drake', 'drupal-10', 'drupal-6', 'drupal-comments', 'dsbulk', 'duckduckgo', 'duckduckgo-api', 'dxva', 'dynamics-365-ce', 'dynamics-al', 'dynamics-crm-2013', 'e-ink', 'e-token', 'early-return', 'earthly', 'easing', 'easing-functions', 'easy-modbus', 'easyadmin3', 'ebcdic', 'ebean', 'ebextensions', 'eclipse-store', 'edges', 'edi', 'editing', 'eeprom', 'ef-model-builder', 'effector', 'eframe', 'eis', 'ejbca', 'eksctl', 'el', 'elasticsearch-painless', 'electron-react-boilerplate', 'electronic-signature', 'elementref', 'email-spam', 'embarrassingly-parallel', 'embedded-v8', 'emm', 'emsdk', 'encoding-json-go', 'end-user', 'enhanced-input-system', 'enqueue', 'enterprise', 'entra', 'envdte', 'epub', 'erase', 'errorprone', 'es6-proxy', 'escape-analysis', 'estimote', 'ether', 'evaluatejavascript', 'event-channel', 'event-simulation', 'eventemitter', 'evidently', 'excel-import', 'excel-pivot', 'excel-solver', 'existential-type', 'exp', 'expandoobject', 'expert-advisor', 'expert-system', 'experta', 'explicit-instantiation', 'expo-linking', 'expo-updates', 'expocameraissue', 'extern-c', 'f5', 'facebook-pixel', 'facebook-sdk-4.0', 'factominer', 'fadeout', 'faraday', 'fastify-jwt', 'fbsdk', 'feature-store', 'figsize', 'file-get-contents', 'file-locking', 'file-put-contents', 'file-rename', 'file-sorting', 'filetime', 'finnhub', 'firebase-admob', 'first-input-delay', 'fitness', 'flac', 'flake', 'flask-mongoengine', 'flask-pymongo', 'flatpak', 'flax', 'flink-batch', 'flip-flop', 'float32', 'floyd-warshall', 'flurry', 'flurry-analytics', 'flutter-beamer', 'flutter-canvas', 'flutter-change-notifier-provider', 'flutter-clippath', 'flutter-intl', 'flutter-list-tile', 'flutter-native-view', 'flutter-patrol', 'flutter-reactive-forms', 'flutter-sharedpreference', 'flutter-theme', 'flutter-video-player', 'fme', 'fody', 'folly', 'font-family', 'for-json', 'freetds', 'fresco', 'freshworks', 'friendly-url', 'frontend-maven-plugin', 'fsm', 'fsync', 'fullcalendar-3', 'fullcalendar-scheduler', 'function-attributes', 'fusedlocationproviderapi', 'fusioncharts', 'gadinterstitial', 'game-center', 'gamlss', 'gatling-plugin', 'gatsby-cloud', 'gatsby-plugin', 'gatsby-source-contentful', 'gcc12', 'gcp-ai-platform-training', 'gcp-certificate-manager', 'geant4', 'gecko', 'gedmo-tree', 'generalization', 'generated-code', 'generative-art', 'geography', 'geospark', 'geronimo', 'get-wmiobject', 'getaddrinfo', 'getfiles', 'getline', 'gevent-socketio', 'ggalluvial', 'ggdist', 'ggmap', 'ggsurvfit', 'ggtern', 'gimme-aws-creds', 'gimp', 'git-blame', 'git-bundle', 'git-flow', 'github-cli', 'github-organizations', 'gitlab-ce', 'gitlab-omnibus', 'gitlens', 'gjs', 'glade', 'gldrawarrays', 'gleam', 'global-key', 'globalcompositeoperation', 'glossaries', 'glpk', 'glsurfaceview', 'gluonfx', 'gmail-promo-tab', 'gmsa', 'gnome-shell', 'gnu-coreutils', 'go-echo', 'go-libp2p', 'go-reflect', 'google-authenticator', 'google-benchmark', 'google-bigquery-dataform', 'google-business-profile-api', 'google-cloud-composer-2', 'google-cloud-compute-engine', 'google-cloud-filestore', 'google-cloud-iot', 'google-geocoder', 'google-geocoding-api', 'google-managed-prometheus', 'google-maps-static-api', 'google-my-business', 'google-my-business-api', 'google-pixel', 'google-spark-operator', 'gopro', 'goto', 'gpg-signature', 'gprof', 'gradienttape', 'grails-plugin', 'grapejs', 'group-concat', 'grub2', 'gruntjs', 'gsettings', 'gtsam', 'guidewire', 'gulp-sass', 'gunzip', 'halcon', 'hammingweight', 'hapi', 'hard-real-time', 'hardware-security-module', 'head', 'heading', 'healpy', 'heatwave', 'heightmap', 'hermes', 'hexdump', 'hhvm', 'hibernate-query', 'hidden', 'hidden-files', 'hierarchical-data', 'highlight.js', 'hijri', 'histogram2d', 'hmisc', 'hole-punching', 'horizontallist', 'hornetq', 'htcondor', 'html-tag-details', 'http-accept-encoding', 'http-permissions-policy', 'http-response-codes', 'httpservice', 'httpsurlconnection', 'hvac', 'i18n-switcher', 'icc', 'ico', 'iconbutton', 'ideavim', 'identifiable', 'identifier', 'identityserver6', 'iis-8.5', 'illegal-instruction', 'ilmerge', 'image-caching', 'image-enhancement', 'image-loading', 'imagej-macro', 'imaskjs', 'import-libraries', 'import-require', 'impressions', 'in-app-purchase-receipt', 'incompatibletypeerror', 'incremental-load', 'index-error', 'indirection', 'infinite', 'init.d', 'inputsimulator', 'insert-query', 'insertadjacenthtml', 'install-requires', 'instr', 'integrate', 'intel-fpga', 'interaction-to-next-paint', 'intercom', 'interface-builder', 'internet-connection', 'interrupted-exception', 'inventory-management', 'iocp', 'iomanip', 'ionos', 'ios-app-attest', 'ios-camera', 'ios-darkmode', 'ipados16', 'iphone11', 'iphone12', 'iprogressdialog', 'iproute', 'ireport', 'irr', 'itemssource', 'ivalueconverter', 'ixguard', 'jackson-annotations', 'jackson-dataformat-csv', 'james', 'java-9', 'java-package', 'java-runtime-compiler', 'javacompiler', 'javascript-engine', 'jayway', 'jcmd', 'jdbc-pool', 'jdeps', 'jedit', 'jelastic', 'jenssegers-mongodb', 'jest-enzyme', 'jetbrains-space-automation', 'jetty-11', 'jetty-9', 'jolokia', 'journaling', 'jpastreamer', 'jsbundling-rails', 'jscontext', 'jsonencoder', 'jsonpath-ng', 'jsonslurper', 'jsonstream', 'jsr310', 'jsse', 'jszip', 'jtapplecalendar', 'jte', 'jupiter-tessellation', 'jupyter-kernel-gateway', 'jupyter-server', 'jvm-crash', 'k3d', 'k8s-cronjobber', 'kadanes-algorithm', 'kafka-transactions-api', 'kakao', 'kappa', 'kcachegrind', 'kernel32', 'key-rotation', 'keyring', 'keywordquery', 'kingswaysoft', 'kiosk', 'knative-eventing', 'kotlin-desktop', 'kotlin-sealed', 'kover', 'kriging', 'ksh', 'kube-apiserver', 'kubeflow-kserve', 'kubernetes-custom-resources', 'kubernetes-deployment', 'kubernetesexecutor', 'label-encoding', 'label-studio', 'lambdatest', 'lamemp3', 'langflow', 'laravel-components', 'laravel-mongodb', 'laravel-testing', 'lateinit', 'launch-agent', 'launch-screen', 'launchd', 'launchdarkly', 'layer', 'lazy-sequences', 'lazyframe', 'lazyhgrid', 'leaflet-routing-machine', 'leap-year', 'letter-spacing', 'lf', 'lftp', 'lib-http', 'libgcc', 'libssh', 'libv8', 'libz', 'liferay-ide', 'lightning', 'lime', 'line-height', 'listagg', 'listen', 'listview-filter', 'litmus', 'live555', 'loadlibrary', 'lockless', 'log-level', 'logitech-gaming-software', 'logstash-filter', 'long-double', 'long-long', 'loop-unrolling', 'lowdb', 'lseek', 'lua-5.2', 'lua-userdata', 'luajit', 'luasec', 'lvgl', 'lwjgl', 'lz77', 'lzma', 'macos-carbon', 'makie.jl', 'malware-detection', 'mass', 'mastercard', 'mat-pagination', 'mat-tab', 'materials', 'matmul', 'matplotlib-venn', 'matter-iot-standard', 'maui-collectionview', 'maven-2', 'maven-gatling-plugin', 'maven-jetty-plugin', 'maven-profiles', 'maven-war-plugin', 'maxmind', 'mbtiles', 'media-keys', 'mediamuxer', 'mellanox', 'melt', 'member', 'membership', 'mems', 'merchant-account', 'merkle-tree', 'meshcat', 'meta-boxes', 'method-reference', 'methodology', 'metricbeat', 'mi', 'micronaut-test', 'microsoft-forms', 'microsoft-graph-contacts', 'microsoft-graph-notifications', 'microsoft-information-protection', 'microsoft-translator', 'migrate-mongo', 'minesweeper', 'minimalmodbus', 'minimum', 'mip-sdk', 'mirth', 'missing-cookies', 'ml-agent', 'mobile-data', 'mod-headers', 'modbus-rtu-over-tcp', 'module-export', 'moment-timezone', 'mongodb-authentication', 'mongodb-realm', 'motor-asyncio', 'mouse-cursor', 'movesense', 'mpgs-session-js', 'mqtt-sparkplug', 'mrz', 'ms-access-2007', 'msvc12', 'msxml2.xmlhttp', 'mtom', 'mtp', 'multi-agent', 'multi-touch', 'multidatepicker', 'multimodal', 'multiple-versions', 'multiplicity', 'multiscreen', 'multiset', 'multitargeting', 'mumin', 'mupdf', 'mutablemap', 'mvt', 'myfaces', 'mysql-event', 'name-collision', 'name-conflict', 'namedtuple', 'nano', 'nativescript', 'nativescript-angular', 'nativescript-vue', 'nav', 'nbgrader', 'ncbi', 'negative-number', 'neo4j-embedded', 'neomodel', 'neosemantics', 'nested-function', 'nested-repeater', 'nestjs-microservice', 'nestjs-testing', 'net-http', 'net-ssh', 'netflix-zuul', 'netstat', 'neura', 'newrelic-platform', 'nextcord', 'nexthink', 'nextion', 'nextval', 'ng-build', 'ng-class', 'nginx-rtmp', 'ngrx-component-store', 'ngx-socket-io', 'nix-flake', 'nls-lang', 'nltk-book', 'nm', 'nmea', 'nmi', 'noaa', 'node-https', 'node-pools', 'node-streams', 'node.js-addon', 'node.js-stream', 'non-linear', 'nordic-semi', 'nosuchfileexception', 'not-exists', 'notary', 'notin', 'notsupportedexception', 'npm-registry', 'ns-3', 'nskeyedarchiver', 'nskeyedunarchiver', 'nslayoutanchor', 'nslayoutconstraint', 'nsmutableparagraphstyle', 'nsstatusitem', 'ntp', 'nuklear', 'null-object-pattern', 'nullaway', 'numpy-einsum', 'nuxt-plugin', 'nvchad', 'nvidia-jetpack-sdk', 'nwjs', 'nx-affected', 'oauth-refresh-token', 'object-property', 'objection.js', 'ocelot', 'odoo-ce', 'office365connectors', 'oidc-client-js', 'okd', 'oledbcommand', 'omnis-studio-10', 'on-the-fly', 'one-definition-rule', 'onlyoffice', 'onmousedown', 'onpremises-gateway', 'open-json', 'open-sesame', 'open-telemetry-datadog', 'opendialog', 'openerp-7', 'openexr', 'openflow', 'opengl-es-2.0', 'openjfx', 'openlayers-5', 'openpgp', 'openpgp.js', 'openpifpaf', 'openproject', 'opensql', 'openurl', 'openvswitch', 'openwebrtc', 'ora-01008', 'oracle-aq', 'oracle-data-integrator', 'oracle-ebs', 'oracle-ords', 'oracleclient', 'oracleforms', 'orchid', 'orcid', 'os.system', 'osascript', 'osmosis', 'outputcache', 'overheating', 'p-calendar', 'pack', 'packed', 'page-numbering', 'pageload', 'pageloadstrategy', 'pagetabviewstyle', 'pageviews', 'pako', 'palantir-for-ibm-cloudpak-for-data', 'palantir-foundry-security', 'pandas.excelwriter', 'panoramas', 'parallel-ssh', 'parameter-splatting', 'parent', 'parent-pom', 'parity', 'parquetjs', 'parrot-os', 'parse-url', 'parsefloat', 'parseint', 'partial-index', 'partial-ordering', 'partitioned', 'passphrase', 'passport-saml', 'password-recovery', 'password-storage', 'pattern-layout', 'paypal-android-sdk', 'pc-lint', 'pci-dss', 'pdf-to-html', 'pdf-writer', 'peek', 'perceptron', 'pg-cron', 'pgx', 'phantomjs', 'philips-hue', 'photon-fusion', 'php-5.4', 'php-5.5', 'php-7', 'php-7.3', 'phpdebugbar', 'phpmd', 'phrase', 'phusion', 'physics-engine', 'pia', 'pic18', 'picamera', 'picturebox', 'pimcore', 'pkcanvasview', 'pkcs#1', 'pkzip', 'planar-graph', 'playing', 'plesk-onyx', 'poc', 'pointer-to-array', 'polylang', 'poppler-utils', 'portlet', 'posixct', 'postgresql-copy', 'potree', 'powerbi-gateway', 'powermockrunner', 'powershell-sdk', 'prcomp', 'preact-signal', 'prefix-sum', 'premature-optimization', 'primary-constructor', 'primary-key-design', 'primeng-checkbox', 'private-ip', 'procdump', 'proj4js', 'project-online', 'projective-geometry', 'prom-client', 'prometheus-json-exporter', 'proof', 'proof-of-correctness', 'properties-file', 'psalm-php', 'pseudo-class', 'psr-4', 'pty', 'pydot', 'pyfftw', 'pylzma', 'pymc3', 'pynamodb', 'pyqgis', 'pyscard', 'pysolr', 'pyspice', 'pytest-factoryboy', 'pytest-html', 'pytest-markers', 'pytest-qt', 'pytest-xdist', 'python-collections', 'python-descriptors', 'python-fu', 'python-holidays', 'python-itertools', 'python-netifaces', 'python-onvif', 'python-textual', 'python-zlib', 'pythonw', 'pytransitions', 'pyuno', 'qdoublespinbox', 'qgraphicsitem', 'qgraphicsview', 'qhull', 'qos', 'qprocess', 'qscrollarea', 'qsettings', 'qslider', 'query-planner', 'querying', 'r-factor', 'r-highcharter', 'r-mapview', 'r-parsnip', 'r10k', 'r2dbc-pool', 'raise', 'random-access', 'raspbian-buster', 'rasterizing', 'rd', 'react-async', 'react-beautiful-dnd', 'react-component-unmount', 'react-hot-toast', 'react-leaflet-v3', 'react-leaflet-v4', 'react-md-editor', 'react-medium-image-zoom', 'react-native-fbsdk', 'react-native-navigation-v2', 'react-native-onesignal', 'react-native-render-html', 'react-oidc', 'react-oidc-context', 'react-paginate', 'react-pagination', 'react-table-v6', 'react-transition-group', 'react-virtual', 'read.csv', 'readxl', 'realm-java', 'recipe', 'recompile', 'recordrtc', 'redhat-sso', 'redis-om', 'redis-stack-server', 'redmi-device', 'redmine-plugins', 'reference-wrapper', 'registrykey', 'regular-language', 'reloading', 'remote-desktop', 'remote-forms', 'render-to-string', 'renderpartial', 'repmgr', 'request-validation', 'reset-password', 'resource-leak', 'resource-scheduling', 'resourcemanager', 'rest-parameters', 'revenuecat', 'risc', 'rle', 'rllib', 'rms', 'roots-sage', 'routerlink', 'rsa-key-fingerprint', 'rspack', 'ruby-module', 'rust-criterion', 'rust-itertools', 'rust-proc-macros', 'rust-rdkafka', 'rust-rocket', 'rust-rustlings', 'rustup', 'sacct', 'safenet', 'salesforce-einstein', 'salt-cryptography', 'samlify', 'samtools', 'sap-selection-screens', 'saturation-arithmetic', 'saucelabs', 'save-image', 'savestate', 'sbt-assembly', 'scala-xml', 'scalapb', 'scalatest-maven-plugin', 'scalaxb', 'scale-color-manual', 'scanpy', 'scd2', 'scikit-learn-pipeline', 'scikit-optimize', 'scikit-survival', 'scilab', 'scipy-spatial', 'scramble', 'screen-brightness', 'screen-density', 'scroll-snap', 'scrumboard', 'scrutor', 'sddl', 'seamless-login', 'secret-manager', 'secure-coding', 'securestring', 'security-code-scan', 'security-warning', 'securityexception', 'segformer', 'selectlist', 'selenium-iedriver', 'self-supervised-learning', 'semantic-ui', 'semantic-ui-react', 'sentryreact', 'sequence-generators', 'servermiddleware', 'servicemanager', 'servo', 'session-0-isolation', 'session-cache', 'sessioncontext', 'sfauthorizationpluginview', 'sgd', 'sharepoint-search', 'shinyalert', 'shinymanager', 'shopify-activemerchant', 'shopware5', 'side-menu', 'sigaction', 'silent-notification', 'sim-card', 'simple-injector', 'single-table-inheritance', 'siri', 'six', 'skadnetwork', 'skeletal-animation', 'sliding', 'slots', 'smo', 'socket-timeout', 'soft-keyboard', 'softbody', 'software-packaging', 'software-quality', 'solution-explorer', 'sonata-user-bundle', 'sort-object', 'sos', 'sp-send-dbmail', 'spaceship-operator', 'spark-jdbc', 'spark-window-function', 'spiffs', 'spike', 'spliterator', 'spoofing', 'spring-aspects', 'spring-boot-devtools', 'spring-cloud-consul', 'spring-integration-ip', 'spring-integration-ws', 'spring-mongo', 'spring-security-kerberos', 'springrunner', 'sprite-sheet', 'spying', 'sql-fetch', 'sql-server-profiler', 'sql-server-unit-testing', 'sqlgeography', 'sqlmigrations', 'square-bracket', 'squirrel.windows', 'sr-feuser-registration', 'srp-protocol', 'ssml', 'st25', 'stacked-bar-chart', 'staggered-gridview', 'staggeredgridlayout', 'staking', 'statefulwidget', 'statelist', 'static-classes', 'static-members', 'static-reflection', 'status-register', 'stdbind', 'stdinitializerlist', 'stdtuple', 'steinberg-asio', 'stopiteration', 'stride', 'stripe-customers', 'strongly-typed-dataset', 'strptime', 'structured-task-scope', 'subject-alternative-name', 'subset-sum', 'suitescript1.0', 'summarize', 'super-linter', 'suppression', 'surge.sh', 'sve', 'svg-sprite', 'svg.js', 'svgo', 'swa-cli', 'swift-modules', 'swiftui-previews', 'swiftui-texteditor', 'swipe', 'swrlapi', 'swscale', 'symbol-not-found', 'symfony-serializer', 'symfony-sonata', 'syncfusion-blazor', 'syncfusion-blazor-sfgrid', 'syntastic', 'sysbench', 'system.diagnostics', 'system.in', 'system.io.compression.zipfile', 'tab-completion', 'tact', 'tamagui', 'taskcompletionsource', 'taskstackbuilder', 'tasm', 'tcc', 'tcnative', 'tcsh', 'telecom', 'template-templates', 'tensorflow-serving', 'tensorflowjs-converter', 'teraterm', 'terminal-services', 'terminal-services-gateway', 'ternary', 'terraform-google-cloud', 'terraform-state', 'tess4j', 'test-and-set', 'test-data', 'testimonials', 'testssl.sh', 'text-search', 'tf-agent', 'tflearn', 'tfs-2010', 'tfs-sdk', 'tfs-workitem', 'theme-customizer', 'tic-tac-toe', 'time-to-first-byte', 'timestamping', 'tink', 'tint', 'tmap', 'tns', 'tomee-8', 'tomtom-android-sdk', 'topshelf', 'tracemalloc', 'traffic', 'trailing-return-type', 'train-test-split', 'transcoding', 'travis-ci', 'trayicon', 'trello', 'tronlink', 'truncated', 'tsd', 'tsne', 'tsoa', 'tsqlt', 'tvbox', 'twilio-video', 'txt', 'type-deduction', 'type-mismatch', 'typeof', 'typescript-declarations', 'ubl', 'uds', 'uialertcontroller', 'uidocumentpickerviewcontroller', 'uiedgeinsets', 'uiimagepickercontroller', 'uilistcontentconfiguration', 'uiuserinterfacestyle', 'ujson', 'umbraco', 'umbraco-forms', 'unbuffered', 'uncompyle6', 'undo-redo', 'unheadvue', 'unicode-escapes', 'uniform-distribution', 'unique-values', 'unity-networking', 'unity3d-unet', 'unknown-host', 'unmanaged', 'unnotificationserviceextension', 'uno', 'unordered-multiset', 'unordered-set', 'unsigned-long-long-int', 'unwind', 'uprobe', 'ups', 'upsetplot', 'upsetr', 'uptime', 'uribuilder', 'url-shortener', 'urlvariables', 'usb-mass-storage', 'user-messaging-platform', 'userdefaults', 'usermanager', 'using-directives', 'utility', 'utm', 'uv-mapping', 'uwb', 'uxp-script', 'v-tooltip', 'vaadin7', 'vacuum', 'validateset', 'value-objects', 'variadic-tuple-types', 'vb6', 'vega-embed', 'vega-lite-api', 'vendor-prefix', 'venia', 'venn', 'venn-diagram', 'video-card', 'video-conversion', 'video-thumbnails', 'view-helpers', 'viewchildren', 'viewmodelproviders', 'vips', 'viridis', 'virtual-address-space', 'virtual-desktop', 'visual-studio-2015', 'visual-studio-publish', 'vorbis', 'vs-extensibility', 'vscodium', 'vue-apollo', 'vue-class-components', 'vue-formulate', 'vue-jest', 'vue-konva', 'vue-meta', 'vue-slider-component', 'vue-tel-input', 'vueify', 'wafv2', 'waitress', 'wal', 'wasi', 'wasm-pack', 'web-ide', 'web-serial-api', 'web-storage', 'webbrowser-control', 'webpacker', 'website-performance', 'webview-flutter-wkwebview', 'weebly', 'weighted', 'weighted-graph', 'wfastcgi', 'whatsapp-stickers', 'white-framework', 'whitesource', 'whois', 'win32serviceutil', 'window.open', 'window.opener', 'windows-build-tools', 'windows-store-apps', 'windows-virtual-desktop', 'winforms-interop', 'wininet', 'winlogon', 'winsound', 'wmic', 'word-contentcontrol', 'word-count', 'wordpress-featured-image', 'workflow-identity-federation', 'world-map', 'wp-insert-post', 'wpbakery', 'wptoolkit', 'x-content-type-options', 'x-xsrf-token', 'xai', 'xarrows', 'xcode-build-phase', 'xcodegen', 'xcos', 'xcuielement', 'xdebug-profiler', 'xenomai', 'xk6-browser', 'xml-documentation', 'xml-formatting', 'xml-serialization', 'xml.modify', 'xmlmapper', 'xmlslurper', 'xmltodict', 'xnio', 'xop', 'xquery', 'xsl-stylesheet', 'xterm', 'yahoo', 'yahoo-api', 'yandex-api', 'yandex-maps', 'yara', 'yasm', 'z-order', 'z3py', 'zabbix-api', 'zabbix-custom-reports', 'zeit-pkg', 'zenity', 'zipapp', 'zpl-ii', 'zscaler', 'zstandard', 'zulip'] will be ignored\n",
      "  warnings.warn(\n"
     ]
    }
   ],
   "source": [
    "mlb = MultiLabelBinarizer()\n",
    "y_train = mlb.fit_transform(y_train_raw)\n",
    "y_test = mlb.transform(y_test_raw)"
   ]
  },
  {
   "cell_type": "code",
   "execution_count": 10,
   "id": "228fa9a4",
   "metadata": {
    "execution": {
     "iopub.execute_input": "2025-03-12T23:17:58.120134Z",
     "iopub.status.busy": "2025-03-12T23:17:58.119709Z",
     "iopub.status.idle": "2025-03-12T23:18:00.293782Z",
     "shell.execute_reply": "2025-03-12T23:18:00.292403Z"
    },
    "papermill": {
     "duration": 2.185756,
     "end_time": "2025-03-12T23:18:00.295524",
     "exception": false,
     "start_time": "2025-03-12T23:17:58.109768",
     "status": "completed"
    },
    "tags": []
   },
   "outputs": [
    {
     "name": "stdout",
     "output_type": "stream",
     "text": [
      "[(6170, 'python'), (4781, 'javascript'), (3606, 'reactjs'), (3277, 'java'), (2353, 'android'), (2184, 'node.js'), (2006, 'spring-boot'), (2006, 'typescript'), (1634, 'c#'), (1603, 'azure')]\n"
     ]
    }
   ],
   "source": [
    "tag_frequencies = np.sum(y_train, axis=0)\n",
    "sorted_tags = sorted(zip(tag_frequencies, mlb.classes_), key=lambda x: x[0], reverse=True)\n",
    "print(sorted_tags[:10])"
   ]
  },
  {
   "cell_type": "code",
   "execution_count": 11,
   "id": "46722be5",
   "metadata": {
    "execution": {
     "iopub.execute_input": "2025-03-12T23:18:00.313162Z",
     "iopub.status.busy": "2025-03-12T23:18:00.312811Z",
     "iopub.status.idle": "2025-03-12T23:18:00.317554Z",
     "shell.execute_reply": "2025-03-12T23:18:00.316399Z"
    },
    "papermill": {
     "duration": 0.015737,
     "end_time": "2025-03-12T23:18:00.319358",
     "exception": false,
     "start_time": "2025-03-12T23:18:00.303621",
     "status": "completed"
    },
    "tags": []
   },
   "outputs": [],
   "source": [
    "top_counts, top_tags = zip(*sorted_tags[:20])"
   ]
  },
  {
   "cell_type": "code",
   "execution_count": 12,
   "id": "1da38f86",
   "metadata": {
    "execution": {
     "iopub.execute_input": "2025-03-12T23:18:00.336898Z",
     "iopub.status.busy": "2025-03-12T23:18:00.336507Z",
     "iopub.status.idle": "2025-03-12T23:18:00.756964Z",
     "shell.execute_reply": "2025-03-12T23:18:00.755473Z"
    },
    "papermill": {
     "duration": 0.432115,
     "end_time": "2025-03-12T23:18:00.759549",
     "exception": false,
     "start_time": "2025-03-12T23:18:00.327434",
     "status": "completed"
    },
    "tags": []
   },
   "outputs": [
    {
     "data": {
      "image/png": "[encoded data removed]",
      "text/plain": [
       "<Figure size 1000x500 with 1 Axes>"
      ]
     },
     "metadata": {},
     "output_type": "display_data"
    }
   ],
   "source": [
    "# Tracer la distribution des tags\n",
    "plt.figure(figsize=(10,5))\n",
    "plt.barh(top_tags, top_counts, color=\"skyblue\")\n",
    "plt.xlabel(\"Nombre d'occurrences\")\n",
    "plt.ylabel(\"Tags\")\n",
    "plt.title(\"Distribution des tags dans le dataset\")\n",
    "plt.gca().invert_yaxis()\n",
    "plt.show()"
   ]
  },
  {
   "cell_type": "code",
   "execution_count": 13,
   "id": "742fe4e0",
   "metadata": {
    "execution": {
     "iopub.execute_input": "2025-03-12T23:18:00.782077Z",
     "iopub.status.busy": "2025-03-12T23:18:00.781639Z",
     "iopub.status.idle": "2025-03-12T23:18:00.788645Z",
     "shell.execute_reply": "2025-03-12T23:18:00.787471Z"
    },
    "papermill": {
     "duration": 0.018349,
     "end_time": "2025-03-12T23:18:00.790284",
     "exception": false,
     "start_time": "2025-03-12T23:18:00.771935",
     "status": "completed"
    },
    "tags": []
   },
   "outputs": [
    {
     "name": "stdout",
     "output_type": "stream",
     "text": [
      "Nombre optimal de tags pour couvrir 80% des données : 2147\n"
     ]
    }
   ],
   "source": [
    "# Trier les fréquences des tags\n",
    "sorted_frequencies = np.sort(tag_frequencies)[::-1]\n",
    "\n",
    "# Calculer la couverture cumulative des tags\n",
    "cumulative_coverage = np.cumsum(sorted_frequencies) / np.sum(sorted_frequencies)\n",
    "\n",
    "N_optimal = np.argmax(cumulative_coverage >= 0.80) + 1\n",
    "print(f\"Nombre optimal de tags pour couvrir 80% des données : {N_optimal}\")"
   ]
  },
  {
   "cell_type": "code",
   "execution_count": 14,
   "id": "f6010edd",
   "metadata": {
    "execution": {
     "iopub.execute_input": "2025-03-12T23:18:00.809248Z",
     "iopub.status.busy": "2025-03-12T23:18:00.808898Z",
     "iopub.status.idle": "2025-03-12T23:18:05.470709Z",
     "shell.execute_reply": "2025-03-12T23:18:05.469494Z"
    },
    "papermill": {
     "duration": 4.673645,
     "end_time": "2025-03-12T23:18:05.472791",
     "exception": false,
     "start_time": "2025-03-12T23:18:00.799146",
     "status": "completed"
    },
    "scrolled": true,
    "tags": []
   },
   "outputs": [],
   "source": [
    "# Sélection des N tags les plus fréquents\n",
    "N = 2147\n",
    "\n",
    "selected_tags = np.argsort(-tag_frequencies)[:N]\n",
    "\n",
    "y_train = y_train[:, selected_tags]\n",
    "y_test = y_test[:, selected_tags]\n",
    "\n",
    "# Mettre à jour les noms des tags conservés\n",
    "mlb.classes_ = mlb.classes_[selected_tags]"
   ]
  },
  {
   "cell_type": "code",
   "execution_count": 15,
   "id": "e53425fc",
   "metadata": {
    "execution": {
     "iopub.execute_input": "2025-03-12T23:18:05.492314Z",
     "iopub.status.busy": "2025-03-12T23:18:05.491963Z",
     "iopub.status.idle": "2025-03-12T23:18:05.497707Z",
     "shell.execute_reply": "2025-03-12T23:18:05.496254Z"
    },
    "papermill": {
     "duration": 0.017741,
     "end_time": "2025-03-12T23:18:05.499855",
     "exception": false,
     "start_time": "2025-03-12T23:18:05.482114",
     "status": "completed"
    },
    "tags": []
   },
   "outputs": [
    {
     "name": "stdout",
     "output_type": "stream",
     "text": [
      "(40000, 2147)\n",
      "(10000, 2147)\n"
     ]
    }
   ],
   "source": [
    "print(y_train.shape)\n",
    "print(y_test.shape)"
   ]
  },
  {
   "cell_type": "code",
   "execution_count": 16,
   "id": "811ac15a",
   "metadata": {
    "execution": {
     "iopub.execute_input": "2025-03-12T23:18:05.519855Z",
     "iopub.status.busy": "2025-03-12T23:18:05.519424Z",
     "iopub.status.idle": "2025-03-13T00:03:14.827305Z",
     "shell.execute_reply": "2025-03-13T00:03:14.826059Z"
    },
    "papermill": {
     "duration": 2709.320179,
     "end_time": "2025-03-13T00:03:14.829538",
     "exception": false,
     "start_time": "2025-03-12T23:18:05.509359",
     "status": "completed"
    },
    "scrolled": true,
    "tags": []
   },
   "outputs": [
    {
     "name": "stderr",
     "output_type": "stream",
     "text": [
      "/usr/local/lib/python3.10/dist-packages/sklearn/linear_model/_logistic.py:458: ConvergenceWarning: lbfgs failed to converge (status=1):\n",
      "STOP: TOTAL NO. of ITERATIONS REACHED LIMIT.\n",
      "\n",
      "Increase the number of iterations (max_iter) or scale the data as shown in:\n",
      "    https://scikit-learn.org/stable/modules/preprocessing.html\n",
      "Please also refer to the documentation for alternative solver options:\n",
      "    https://scikit-learn.org/stable/modules/linear_model.html#logistic-regression\n",
      "  n_iter_i = _check_optimize_result(\n",
      "/usr/local/lib/python3.10/dist-packages/sklearn/linear_model/_logistic.py:458: ConvergenceWarning: lbfgs failed to converge (status=1):\n",
      "STOP: TOTAL NO. of ITERATIONS REACHED LIMIT.\n",
      "\n",
      "Increase the number of iterations (max_iter) or scale the data as shown in:\n",
      "    https://scikit-learn.org/stable/modules/preprocessing.html\n",
      "Please also refer to the documentation for alternative solver options:\n",
      "    https://scikit-learn.org/stable/modules/linear_model.html#logistic-regression\n",
      "  n_iter_i = _check_optimize_result(\n",
      "/usr/local/lib/python3.10/dist-packages/sklearn/linear_model/_logistic.py:458: ConvergenceWarning: lbfgs failed to converge (status=1):\n",
      "STOP: TOTAL NO. of ITERATIONS REACHED LIMIT.\n",
      "\n",
      "Increase the number of iterations (max_iter) or scale the data as shown in:\n",
      "    https://scikit-learn.org/stable/modules/preprocessing.html\n",
      "Please also refer to the documentation for alternative solver options:\n",
      "    https://scikit-learn.org/stable/modules/linear_model.html#logistic-regression\n",
      "  n_iter_i = _check_optimize_result(\n",
      "/usr/local/lib/python3.10/dist-packages/sklearn/linear_model/_logistic.py:458: ConvergenceWarning: lbfgs failed to converge (status=1):\n",
      "STOP: TOTAL NO. of ITERATIONS REACHED LIMIT.\n",
      "\n",
      "Increase the number of iterations (max_iter) or scale the data as shown in:\n",
      "    https://scikit-learn.org/stable/modules/preprocessing.html\n",
      "Please also refer to the documentation for alternative solver options:\n",
      "    https://scikit-learn.org/stable/modules/linear_model.html#logistic-regression\n",
      "  n_iter_i = _check_optimize_result(\n",
      "/usr/local/lib/python3.10/dist-packages/sklearn/linear_model/_logistic.py:458: ConvergenceWarning: lbfgs failed to converge (status=1):\n",
      "STOP: TOTAL NO. of ITERATIONS REACHED LIMIT.\n",
      "\n",
      "Increase the number of iterations (max_iter) or scale the data as shown in:\n",
      "    https://scikit-learn.org/stable/modules/preprocessing.html\n",
      "Please also refer to the documentation for alternative solver options:\n",
      "    https://scikit-learn.org/stable/modules/linear_model.html#logistic-regression\n",
      "  n_iter_i = _check_optimize_result(\n",
      "/usr/local/lib/python3.10/dist-packages/sklearn/linear_model/_logistic.py:458: ConvergenceWarning: lbfgs failed to converge (status=1):\n",
      "STOP: TOTAL NO. of ITERATIONS REACHED LIMIT.\n",
      "\n",
      "Increase the number of iterations (max_iter) or scale the data as shown in:\n",
      "    https://scikit-learn.org/stable/modules/preprocessing.html\n",
      "Please also refer to the documentation for alternative solver options:\n",
      "    https://scikit-learn.org/stable/modules/linear_model.html#logistic-regression\n",
      "  n_iter_i = _check_optimize_result(\n",
      "/usr/local/lib/python3.10/dist-packages/sklearn/linear_model/_logistic.py:458: ConvergenceWarning: lbfgs failed to converge (status=1):\n",
      "STOP: TOTAL NO. of ITERATIONS REACHED LIMIT.\n",
      "\n",
      "Increase the number of iterations (max_iter) or scale the data as shown in:\n",
      "    https://scikit-learn.org/stable/modules/preprocessing.html\n",
      "Please also refer to the documentation for alternative solver options:\n",
      "    https://scikit-learn.org/stable/modules/linear_model.html#logistic-regression\n",
      "  n_iter_i = _check_optimize_result(\n",
      "/usr/local/lib/python3.10/dist-packages/sklearn/linear_model/_logistic.py:458: ConvergenceWarning: lbfgs failed to converge (status=1):\n",
      "STOP: TOTAL NO. of ITERATIONS REACHED LIMIT.\n",
      "\n",
      "Increase the number of iterations (max_iter) or scale the data as shown in:\n",
      "    https://scikit-learn.org/stable/modules/preprocessing.html\n",
      "Please also refer to the documentation for alternative solver options:\n",
      "    https://scikit-learn.org/stable/modules/linear_model.html#logistic-regression\n",
      "  n_iter_i = _check_optimize_result(\n",
      "/usr/local/lib/python3.10/dist-packages/sklearn/linear_model/_logistic.py:458: ConvergenceWarning: lbfgs failed to converge (status=1):\n",
      "STOP: TOTAL NO. of ITERATIONS REACHED LIMIT.\n",
      "\n",
      "Increase the number of iterations (max_iter) or scale the data as shown in:\n",
      "    https://scikit-learn.org/stable/modules/preprocessing.html\n",
      "Please also refer to the documentation for alternative solver options:\n",
      "    https://scikit-learn.org/stable/modules/linear_model.html#logistic-regression\n",
      "  n_iter_i = _check_optimize_result(\n",
      "/usr/local/lib/python3.10/dist-packages/sklearn/linear_model/_logistic.py:458: ConvergenceWarning: lbfgs failed to converge (status=1):\n",
      "STOP: TOTAL NO. of ITERATIONS REACHED LIMIT.\n",
      "\n",
      "Increase the number of iterations (max_iter) or scale the data as shown in:\n",
      "    https://scikit-learn.org/stable/modules/preprocessing.html\n",
      "Please also refer to the documentation for alternative solver options:\n",
      "    https://scikit-learn.org/stable/modules/linear_model.html#logistic-regression\n",
      "  n_iter_i = _check_optimize_result(\n",
      "/usr/local/lib/python3.10/dist-packages/sklearn/metrics/_classification.py:1344: UndefinedMetricWarning: Jaccard is ill-defined and being set to 0.0 in samples with no true or predicted labels. Use `zero_division` parameter to control this behavior.\n",
      "  _warn_prf(average, modifier, msg_start, len(result))\n",
      "\u001b[31m2025/03/13 00:03:14 WARNING mlflow.models.model: Model logged without a signature and input example. Please set `input_example` parameter when logging the model to auto infer the model signature.\u001b[0m\n"
     ]
    }
   ],
   "source": [
    "# Modèle avec Logistic Regression\n",
    "model = OneVsRestClassifier(LogisticRegression(max_iter=500))\n",
    "model.fit(X_train_count, y_train)\n",
    "\n",
    "# Prédictions\n",
    "y_pred_count = model.predict(X_test_count)\n",
    "accuracy = jaccard_score(y_test, y_pred_count, average=\"samples\")\n",
    "\n",
    "with mlflow.start_run():\n",
    "    mlflow.log_param(\"model\", \"OneVsRest + LogisticRegression CountVect\")\n",
    "    mlflow.log_param(\"max_iter\", 500)\n",
    "    mlflow.log_metric(\"jaccard_score\", accuracy)\n",
    "    \n",
    "    # Sauvegarder le modèle\n",
    "    mlflow.sklearn.log_model(model, \"model\")"
   ]
  },
  {
   "cell_type": "code",
   "execution_count": 17,
   "id": "7ba47a2a",
   "metadata": {
    "execution": {
     "iopub.execute_input": "2025-03-13T00:03:14.851446Z",
     "iopub.status.busy": "2025-03-13T00:03:14.850974Z",
     "iopub.status.idle": "2025-03-13T00:15:44.922015Z",
     "shell.execute_reply": "2025-03-13T00:15:44.920883Z"
    },
    "papermill": {
     "duration": 750.084584,
     "end_time": "2025-03-13T00:15:44.924164",
     "exception": false,
     "start_time": "2025-03-13T00:03:14.839580",
     "status": "completed"
    },
    "tags": []
   },
   "outputs": [
    {
     "name": "stderr",
     "output_type": "stream",
     "text": [
      "/usr/local/lib/python3.10/dist-packages/sklearn/metrics/_classification.py:1344: UndefinedMetricWarning: Jaccard is ill-defined and being set to 0.0 in samples with no true or predicted labels. Use `zero_division` parameter to control this behavior.\n",
      "  _warn_prf(average, modifier, msg_start, len(result))\n",
      "\u001b[31m2025/03/13 00:15:44 WARNING mlflow.models.model: Model logged without a signature and input example. Please set `input_example` parameter when logging the model to auto infer the model signature.\u001b[0m\n"
     ]
    }
   ],
   "source": [
    "model_sgd = OneVsRestClassifier(SGDClassifier(loss=\"log_loss\", max_iter=1000))\n",
    "model_sgd.fit(X_train_count, y_train)\n",
    "y_pred_sgd_count = model_sgd.predict(X_test_count)\n",
    "accuracy_sgd = jaccard_score(y_test, y_pred_sgd_count, average=\"samples\")\n",
    "\n",
    "with mlflow.start_run():\n",
    "    mlflow.log_param(\"model\", \"OneVsRest + SGDClassifier CountVect\")\n",
    "    mlflow.log_param(\"max_iter\", 500)\n",
    "    mlflow.log_metric(\"jaccard_score\", accuracy_sgd)\n",
    "    \n",
    "    # Sauvegarder le modèle\n",
    "    mlflow.sklearn.log_model(model_sgd, \"model_SGD\")"
   ]
  },
  {
   "cell_type": "code",
   "execution_count": 18,
   "id": "740a39eb",
   "metadata": {
    "execution": {
     "iopub.execute_input": "2025-03-13T00:15:44.946463Z",
     "iopub.status.busy": "2025-03-13T00:15:44.946054Z",
     "iopub.status.idle": "2025-03-13T00:24:37.265077Z",
     "shell.execute_reply": "2025-03-13T00:24:37.263642Z"
    },
    "papermill": {
     "duration": 532.332187,
     "end_time": "2025-03-13T00:24:37.267312",
     "exception": false,
     "start_time": "2025-03-13T00:15:44.935125",
     "status": "completed"
    },
    "tags": []
   },
   "outputs": [
    {
     "name": "stderr",
     "output_type": "stream",
     "text": [
      "/usr/local/lib/python3.10/dist-packages/sklearn/metrics/_classification.py:1344: UndefinedMetricWarning: Jaccard is ill-defined and being set to 0.0 in samples with no true or predicted labels. Use `zero_division` parameter to control this behavior.\n",
      "  _warn_prf(average, modifier, msg_start, len(result))\n",
      "\u001b[31m2025/03/13 00:24:37 WARNING mlflow.models.model: Model logged without a signature and input example. Please set `input_example` parameter when logging the model to auto infer the model signature.\u001b[0m\n"
     ]
    }
   ],
   "source": [
    "# Modèle avec Logistic Regression\n",
    "model = OneVsRestClassifier(LogisticRegression(max_iter=500))\n",
    "model.fit(X_train_tfidf, y_train)\n",
    "\n",
    "# Prédictions\n",
    "y_pred_tfidf = model.predict(X_test_tfidf)\n",
    "accuracy = jaccard_score(y_test, y_pred_tfidf, average=\"samples\")\n",
    "\n",
    "with mlflow.start_run():\n",
    "    mlflow.log_param(\"model\", \"OneVsRest + LogisticRegression TFIDF\")\n",
    "    mlflow.log_param(\"max_iter\", 500)\n",
    "    mlflow.log_metric(\"jaccard_score\", accuracy)\n",
    "    \n",
    "    # Sauvegarder le modèle\n",
    "    mlflow.sklearn.log_model(model, \"model\")"
   ]
  },
  {
   "cell_type": "code",
   "execution_count": 19,
   "id": "f3d999b7",
   "metadata": {
    "execution": {
     "iopub.execute_input": "2025-03-13T00:24:37.290158Z",
     "iopub.status.busy": "2025-03-13T00:24:37.289730Z",
     "iopub.status.idle": "2025-03-13T00:29:47.789244Z",
     "shell.execute_reply": "2025-03-13T00:29:47.788081Z"
    },
    "papermill": {
     "duration": 310.51434,
     "end_time": "2025-03-13T00:29:47.792286",
     "exception": false,
     "start_time": "2025-03-13T00:24:37.277946",
     "status": "completed"
    },
    "tags": []
   },
   "outputs": [
    {
     "name": "stderr",
     "output_type": "stream",
     "text": [
      "/usr/local/lib/python3.10/dist-packages/sklearn/metrics/_classification.py:1344: UndefinedMetricWarning: Jaccard is ill-defined and being set to 0.0 in samples with no true or predicted labels. Use `zero_division` parameter to control this behavior.\n",
      "  _warn_prf(average, modifier, msg_start, len(result))\n",
      "\u001b[31m2025/03/13 00:29:47 WARNING mlflow.models.model: Model logged without a signature and input example. Please set `input_example` parameter when logging the model to auto infer the model signature.\u001b[0m\n"
     ]
    }
   ],
   "source": [
    "# Modèle avec Logistic Regression\n",
    "model = OneVsRestClassifier(SGDClassifier(loss=\"log_loss\", max_iter=1000))\n",
    "model.fit(X_train_tfidf, y_train)\n",
    "\n",
    "# Prédictions\n",
    "y_pred_sgd_tfidf = model.predict(X_test_tfidf)\n",
    "accuracy = jaccard_score(y_test, y_pred_sgd_tfidf, average=\"samples\")\n",
    "\n",
    "with mlflow.start_run():\n",
    "    mlflow.log_param(\"model\", \"OneVsRest + SGDClassifier TFIDF\")\n",
    "    mlflow.log_param(\"max_iter\", 500)\n",
    "    mlflow.log_metric(\"jaccard_score\", accuracy)\n",
    "    \n",
    "    # Sauvegarder le modèle\n",
    "    mlflow.sklearn.log_model(model, \"model\")"
   ]
  },
  {
   "cell_type": "code",
   "execution_count": 20,
   "id": "54e778ef",
   "metadata": {
    "execution": {
     "iopub.execute_input": "2025-03-13T00:29:47.821961Z",
     "iopub.status.busy": "2025-03-13T00:29:47.821457Z",
     "iopub.status.idle": "2025-03-13T00:30:01.409672Z",
     "shell.execute_reply": "2025-03-13T00:30:01.408403Z"
    },
    "papermill": {
     "duration": 13.601802,
     "end_time": "2025-03-13T00:30:01.411694",
     "exception": false,
     "start_time": "2025-03-13T00:29:47.809892",
     "status": "completed"
    },
    "tags": []
   },
   "outputs": [
    {
     "name": "stderr",
     "output_type": "stream",
     "text": [
      "/usr/local/lib/python3.10/dist-packages/sklearn/metrics/_classification.py:1344: UndefinedMetricWarning: Jaccard is ill-defined and being set to 0.0 in samples with no true or predicted labels. Use `zero_division` parameter to control this behavior.\n",
      "  _warn_prf(average, modifier, msg_start, len(result))\n",
      "/usr/local/lib/python3.10/dist-packages/sklearn/metrics/_classification.py:1344: UndefinedMetricWarning: Jaccard is ill-defined and being set to 0.0 in samples with no true or predicted labels. Use `zero_division` parameter to control this behavior.\n",
      "  _warn_prf(average, modifier, msg_start, len(result))\n",
      "/usr/local/lib/python3.10/dist-packages/sklearn/metrics/_classification.py:1344: UndefinedMetricWarning: Jaccard is ill-defined and being set to 0.0 in samples with no true or predicted labels. Use `zero_division` parameter to control this behavior.\n",
      "  _warn_prf(average, modifier, msg_start, len(result))\n"
     ]
    },
    {
     "name": "stdout",
     "output_type": "stream",
     "text": [
      "Jaccard Score - Logistic Regression CV : 0.2341\n",
      "Jaccard Score - SGD Classifier CV: 0.2410\n",
      "Jaccard Score - Logistic Regression TFIDF: 0.1760\n",
      "Jaccard Score - SGD Classifier TFIDF: 0.0966\n"
     ]
    },
    {
     "name": "stderr",
     "output_type": "stream",
     "text": [
      "/usr/local/lib/python3.10/dist-packages/sklearn/metrics/_classification.py:1344: UndefinedMetricWarning: Jaccard is ill-defined and being set to 0.0 in samples with no true or predicted labels. Use `zero_division` parameter to control this behavior.\n",
      "  _warn_prf(average, modifier, msg_start, len(result))\n"
     ]
    }
   ],
   "source": [
    "score_logreg_count = jaccard_score(y_test, y_pred_count, average=\"samples\")\n",
    "score_sgd_count = jaccard_score(y_test, y_pred_sgd_count, average=\"samples\")\n",
    "score_logreg_tfidf = jaccard_score(y_test, y_pred_tfidf, average=\"samples\")\n",
    "score_sgd_tfidf = jaccard_score(y_test, y_pred_sgd_tfidf, average=\"samples\")\n",
    "\n",
    "print(f\"Jaccard Score - Logistic Regression CV : {score_logreg_count:.4f}\")\n",
    "print(f\"Jaccard Score - SGD Classifier CV: {score_sgd_count:.4f}\")\n",
    "print(f\"Jaccard Score - Logistic Regression TFIDF: {score_logreg_tfidf:.4f}\")\n",
    "print(f\"Jaccard Score - SGD Classifier TFIDF: {score_sgd_tfidf:.4f}\")"
   ]
  },
  {
   "cell_type": "code",
   "execution_count": 21,
   "id": "872bd323",
   "metadata": {
    "execution": {
     "iopub.execute_input": "2025-03-13T00:30:01.435841Z",
     "iopub.status.busy": "2025-03-13T00:30:01.435462Z",
     "iopub.status.idle": "2025-03-13T00:30:04.871513Z",
     "shell.execute_reply": "2025-03-13T00:30:04.870250Z"
    },
    "papermill": {
     "duration": 3.450005,
     "end_time": "2025-03-13T00:30:04.873498",
     "exception": false,
     "start_time": "2025-03-13T00:30:01.423493",
     "status": "completed"
    },
    "tags": []
   },
   "outputs": [],
   "source": [
    "# Probabilités des classes\n",
    "y_proba = model_sgd.predict_proba(X_test_count)\n",
    "\n",
    "# Définir un seuil de probabilité\n",
    "threshold = 0.3\n",
    "\n",
    "# Fonction pour récupérer les tags qui dépassent le seuil\n",
    "def get_tags_with_threshold(probas, threshold=0.3):\n",
    "    indices = np.where(probas >= threshold)[0]\n",
    "    if len(indices) == 0:\n",
    "        indices = [np.argmax(probas)]\n",
    "    return [mlb.classes_[i] for i in indices]\n",
    "\n",
    "# Appliquer sur toutes les prédictions\n",
    "predicted_tags = [get_tags_with_threshold(proba, threshold) for proba in y_proba]\n",
    "\n",
    "# Ajouter les prédictions aux données test\n",
    "# Créer une copie de X_test pour ajouter les prédictions\n",
    "X_test_with_predictions = X_test.copy()\n",
    "X_test_with_predictions[\"Predicted_Tags\"] = predicted_tags"
   ]
  },
  {
   "cell_type": "code",
   "execution_count": 22,
   "id": "26734d92",
   "metadata": {
    "execution": {
     "iopub.execute_input": "2025-03-13T00:30:04.896033Z",
     "iopub.status.busy": "2025-03-13T00:30:04.895629Z",
     "iopub.status.idle": "2025-03-13T00:30:04.924683Z",
     "shell.execute_reply": "2025-03-13T00:30:04.923533Z"
    },
    "papermill": {
     "duration": 0.042177,
     "end_time": "2025-03-13T00:30:04.926419",
     "exception": false,
     "start_time": "2025-03-13T00:30:04.884242",
     "status": "completed"
    },
    "tags": []
   },
   "outputs": [
    {
     "data": {
      "text/html": [
       "<div>\n",
       "<style scoped>\n",
       "    .dataframe tbody tr th:only-of-type {\n",
       "        vertical-align: middle;\n",
       "    }\n",
       "\n",
       "    .dataframe tbody tr th {\n",
       "        vertical-align: top;\n",
       "    }\n",
       "\n",
       "    .dataframe thead th {\n",
       "        text-align: right;\n",
       "    }\n",
       "</style>\n",
       "<table border=\"1\" class=\"dataframe\">\n",
       "  <thead>\n",
       "    <tr style=\"text-align: right;\">\n",
       "      <th></th>\n",
       "      <th>Id</th>\n",
       "      <th>Title</th>\n",
       "      <th>Body</th>\n",
       "      <th>Score</th>\n",
       "      <th>ViewCount</th>\n",
       "      <th>AnswerCount</th>\n",
       "      <th>CreationDate</th>\n",
       "      <th>Processed</th>\n",
       "      <th>Predicted_Tags</th>\n",
       "    </tr>\n",
       "  </thead>\n",
       "  <tbody>\n",
       "    <tr>\n",
       "      <th>33553</th>\n",
       "      <td>76601348</td>\n",
       "      <td>How do I pass in parameters into arrow functio...</td>\n",
       "      <td>&lt;p&gt;&lt;a href=\"https://i.sstatic.net/u7abJ.png\" r...</td>\n",
       "      <td>-2</td>\n",
       "      <td>488</td>\n",
       "      <td>2</td>\n",
       "      <td>2023-07-03 01:16:37</td>\n",
       "      <td>['pass', 'parameter', 'arrow', 'function', 're...</td>\n",
       "      <td>[reactjs, machine-learning, react-hooks, param...</td>\n",
       "    </tr>\n",
       "    <tr>\n",
       "      <th>9427</th>\n",
       "      <td>75749445</td>\n",
       "      <td>How to test @NotBlank spring validation with J...</td>\n",
       "      <td>&lt;p&gt;I am trying to test validation I have a con...</td>\n",
       "      <td>0</td>\n",
       "      <td>1582</td>\n",
       "      <td>2</td>\n",
       "      <td>2023-03-15 19:51:22</td>\n",
       "      <td>['test', 'spring', 'validation', 'junit', 'try...</td>\n",
       "      <td>[java]</td>\n",
       "    </tr>\n",
       "    <tr>\n",
       "      <th>199</th>\n",
       "      <td>75900198</td>\n",
       "      <td>DBeaver - unable to update driver: \"Network un...</td>\n",
       "      <td>&lt;p&gt;Always getting this error when I try to upd...</td>\n",
       "      <td>5</td>\n",
       "      <td>21968</td>\n",
       "      <td>1</td>\n",
       "      <td>2023-03-31 15:22:24</td>\n",
       "      <td>['update', 'driver', 'network', 'certificate',...</td>\n",
       "      <td>[sql-server]</td>\n",
       "    </tr>\n",
       "    <tr>\n",
       "      <th>12447</th>\n",
       "      <td>76021053</td>\n",
       "      <td>Youtube player API to get server url few times...</td>\n",
       "      <td>&lt;p&gt;I am using this code in PHP to get the Yout...</td>\n",
       "      <td>0</td>\n",
       "      <td>1251</td>\n",
       "      <td>1</td>\n",
       "      <td>2023-04-15 08:08:22</td>\n",
       "      <td>['player', 'api', 'server', 'url', 'time', 're...</td>\n",
       "      <td>[php, curl]</td>\n",
       "    </tr>\n",
       "    <tr>\n",
       "      <th>39489</th>\n",
       "      <td>78823804</td>\n",
       "      <td>Where is it specified the path to look for ker...</td>\n",
       "      <td>&lt;p&gt;I am launching an Anconda prompt from a Win...</td>\n",
       "      <td>0</td>\n",
       "      <td>398</td>\n",
       "      <td>1</td>\n",
       "      <td>2024-08-02 04:42:33</td>\n",
       "      <td>['specify', 'path', 'look', 'launch', 'window'...</td>\n",
       "      <td>[python, svg, operating-system]</td>\n",
       "    </tr>\n",
       "    <tr>\n",
       "      <th>42724</th>\n",
       "      <td>75798407</td>\n",
       "      <td>Unable to make Request to FastAPI server using...</td>\n",
       "      <td>&lt;p&gt;I have Created a fastapi python server whic...</td>\n",
       "      <td>-1</td>\n",
       "      <td>356</td>\n",
       "      <td>1</td>\n",
       "      <td>2023-03-21 07:38:58</td>\n",
       "      <td>['request', 'javascript', 'create', 'server', ...</td>\n",
       "      <td>[python, javascript, html, flask]</td>\n",
       "    </tr>\n",
       "    <tr>\n",
       "      <th>10822</th>\n",
       "      <td>78421291</td>\n",
       "      <td>error[E0658]: use of unstable library feature ...</td>\n",
       "      <td>&lt;p&gt;It seems I can fix this by adding one by on...</td>\n",
       "      <td>0</td>\n",
       "      <td>1406</td>\n",
       "      <td>1</td>\n",
       "      <td>2024-05-02 19:12:30</td>\n",
       "      <td>['error', 'use', 'library', 'feature', 'restri...</td>\n",
       "      <td>[c++, windows, rust]</td>\n",
       "    </tr>\n",
       "    <tr>\n",
       "      <th>49498</th>\n",
       "      <td>77162580</td>\n",
       "      <td>PrestaShop Server Error (DEV SITE): This site ...</td>\n",
       "      <td>&lt;p&gt;I'm currently facing an issue that has been...</td>\n",
       "      <td>0</td>\n",
       "      <td>280</td>\n",
       "      <td>1</td>\n",
       "      <td>2023-09-23 10:20:42</td>\n",
       "      <td>['server', 'error', 'dev', 'site', 'site', 're...</td>\n",
       "      <td>[reactjs, wordpress, macos]</td>\n",
       "    </tr>\n",
       "    <tr>\n",
       "      <th>4144</th>\n",
       "      <td>77605224</td>\n",
       "      <td>cannot pickle '_thread.RLock' object while ser...</td>\n",
       "      <td>&lt;p&gt;I am trying to create a langchain model. I ...</td>\n",
       "      <td>2</td>\n",
       "      <td>2937</td>\n",
       "      <td>3</td>\n",
       "      <td>2023-12-05 09:50:54</td>\n",
       "      <td>['pickle', 'thread', 'object', 'serialize', 'f...</td>\n",
       "      <td>[python, openai-api, langchain, large-language...</td>\n",
       "    </tr>\n",
       "    <tr>\n",
       "      <th>36958</th>\n",
       "      <td>78079896</td>\n",
       "      <td>Upgrading to open api 3 rendering more than re...</td>\n",
       "      <td>&lt;p&gt;I am using open api with spring boot applic...</td>\n",
       "      <td>2</td>\n",
       "      <td>434</td>\n",
       "      <td>1</td>\n",
       "      <td>2024-02-29 08:32:38</td>\n",
       "      <td>['upgrade', 'api', 'render', 'require', 'entit...</td>\n",
       "      <td>[java, spring-boot]</td>\n",
       "    </tr>\n",
       "  </tbody>\n",
       "</table>\n",
       "</div>"
      ],
      "text/plain": [
       "             Id                                              Title  \\\n",
       "33553  76601348  How do I pass in parameters into arrow functio...   \n",
       "9427   75749445  How to test @NotBlank spring validation with J...   \n",
       "199    75900198  DBeaver - unable to update driver: \"Network un...   \n",
       "12447  76021053  Youtube player API to get server url few times...   \n",
       "39489  78823804  Where is it specified the path to look for ker...   \n",
       "42724  75798407  Unable to make Request to FastAPI server using...   \n",
       "10822  78421291  error[E0658]: use of unstable library feature ...   \n",
       "49498  77162580  PrestaShop Server Error (DEV SITE): This site ...   \n",
       "4144   77605224  cannot pickle '_thread.RLock' object while ser...   \n",
       "36958  78079896  Upgrading to open api 3 rendering more than re...   \n",
       "\n",
       "                                                    Body  Score  ViewCount  \\\n",
       "33553  <p><a href=\"https://i.sstatic.net/u7abJ.png\" r...     -2        488   \n",
       "9427   <p>I am trying to test validation I have a con...      0       1582   \n",
       "199    <p>Always getting this error when I try to upd...      5      21968   \n",
       "12447  <p>I am using this code in PHP to get the Yout...      0       1251   \n",
       "39489  <p>I am launching an Anconda prompt from a Win...      0        398   \n",
       "42724  <p>I have Created a fastapi python server whic...     -1        356   \n",
       "10822  <p>It seems I can fix this by adding one by on...      0       1406   \n",
       "49498  <p>I'm currently facing an issue that has been...      0        280   \n",
       "4144   <p>I am trying to create a langchain model. I ...      2       2937   \n",
       "36958  <p>I am using open api with spring boot applic...      2        434   \n",
       "\n",
       "       AnswerCount         CreationDate  \\\n",
       "33553            2  2023-07-03 01:16:37   \n",
       "9427             2  2023-03-15 19:51:22   \n",
       "199              1  2023-03-31 15:22:24   \n",
       "12447            1  2023-04-15 08:08:22   \n",
       "39489            1  2024-08-02 04:42:33   \n",
       "42724            1  2023-03-21 07:38:58   \n",
       "10822            1  2024-05-02 19:12:30   \n",
       "49498            1  2023-09-23 10:20:42   \n",
       "4144             3  2023-12-05 09:50:54   \n",
       "36958            1  2024-02-29 08:32:38   \n",
       "\n",
       "                                               Processed  \\\n",
       "33553  ['pass', 'parameter', 'arrow', 'function', 're...   \n",
       "9427   ['test', 'spring', 'validation', 'junit', 'try...   \n",
       "199    ['update', 'driver', 'network', 'certificate',...   \n",
       "12447  ['player', 'api', 'server', 'url', 'time', 're...   \n",
       "39489  ['specify', 'path', 'look', 'launch', 'window'...   \n",
       "42724  ['request', 'javascript', 'create', 'server', ...   \n",
       "10822  ['error', 'use', 'library', 'feature', 'restri...   \n",
       "49498  ['server', 'error', 'dev', 'site', 'site', 're...   \n",
       "4144   ['pickle', 'thread', 'object', 'serialize', 'f...   \n",
       "36958  ['upgrade', 'api', 'render', 'require', 'entit...   \n",
       "\n",
       "                                          Predicted_Tags  \n",
       "33553  [reactjs, machine-learning, react-hooks, param...  \n",
       "9427                                              [java]  \n",
       "199                                         [sql-server]  \n",
       "12447                                        [php, curl]  \n",
       "39489                    [python, svg, operating-system]  \n",
       "42724                  [python, javascript, html, flask]  \n",
       "10822                               [c++, windows, rust]  \n",
       "49498                        [reactjs, wordpress, macos]  \n",
       "4144   [python, openai-api, langchain, large-language...  \n",
       "36958                                [java, spring-boot]  "
      ]
     },
     "metadata": {},
     "output_type": "display_data"
    }
   ],
   "source": [
    "display(X_test_with_predictions.head(10))"
   ]
  },
  {
   "cell_type": "code",
   "execution_count": 23,
   "id": "a1e9e434",
   "metadata": {
    "execution": {
     "iopub.execute_input": "2025-03-13T00:30:04.949889Z",
     "iopub.status.busy": "2025-03-13T00:30:04.949512Z",
     "iopub.status.idle": "2025-03-13T00:30:05.975496Z",
     "shell.execute_reply": "2025-03-13T00:30:05.974473Z"
    },
    "papermill": {
     "duration": 1.039823,
     "end_time": "2025-03-13T00:30:05.977410",
     "exception": false,
     "start_time": "2025-03-13T00:30:04.937587",
     "status": "completed"
    },
    "tags": []
   },
   "outputs": [],
   "source": [
    "X_test_with_predictions.to_csv(\"X_test_with_predictions_Classic.csv\", index=False)"
   ]
  },
  {
   "cell_type": "code",
   "execution_count": 24,
   "id": "ac73487c",
   "metadata": {
    "execution": {
     "iopub.execute_input": "2025-03-13T00:30:06.000958Z",
     "iopub.status.busy": "2025-03-13T00:30:06.000550Z",
     "iopub.status.idle": "2025-03-13T00:30:25.870618Z",
     "shell.execute_reply": "2025-03-13T00:30:25.869480Z"
    },
    "papermill": {
     "duration": 19.883905,
     "end_time": "2025-03-13T00:30:25.872567",
     "exception": false,
     "start_time": "2025-03-13T00:30:05.988662",
     "status": "completed"
    },
    "tags": []
   },
   "outputs": [
    {
     "data": {
      "text/plain": [
       "'/kaggle/working/mlruns_classic.zip'"
      ]
     },
     "execution_count": 24,
     "metadata": {},
     "output_type": "execute_result"
    }
   ],
   "source": [
    "# Compresser tout le répertoire mlruns\n",
    "shutil.make_archive(\"/kaggle/working/mlruns_classic\", \"zip\", \"/kaggle/working/mlruns\")"
   ]
  }
 ],
 "metadata": {
  "kaggle": {
   "accelerator": "none",
   "dataSources": [
    {
     "sourceId": 223348701,
     "sourceType": "kernelVersion"
    }
   ],
   "dockerImageVersionId": 30886,
   "isGpuEnabled": false,
   "isInternetEnabled": true,
   "language": "python",
   "sourceType": "notebook"
  },
  "kernelspec": {
   "display_name": "Python 3",
   "language": "python",
   "name": "python3"
  },
  "language_info": {
   "codemirror_mode": {
    "name": "ipython",
    "version": 3
   },
   "file_extension": ".py",
   "mimetype": "text/x-python",
   "name": "python",
   "nbconvert_exporter": "python",
   "pygments_lexer": "ipython3",
   "version": "3.10.12"
  },
  "papermill": {
   "default_parameters": {},
   "duration": 4435.62361,
   "end_time": "2025-03-13T00:30:29.031206",
   "environment_variables": {},
   "exception": null,
   "input_path": "__notebook__.ipynb",
   "output_path": "__notebook__.ipynb",
   "parameters": {},
   "start_time": "2025-03-12T23:16:33.407596",
   "version": "2.6.0"
  }
 },
 "nbformat": 4,
 "nbformat_minor": 5
}
