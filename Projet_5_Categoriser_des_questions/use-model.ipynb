{
 "cells": [
  {
   "cell_type": "code",
   "execution_count": 1,
   "id": "932f0cf6",
   "metadata": {
    "execution": {
     "iopub.execute_input": "2025-03-14T00:48:53.912695Z",
     "iopub.status.busy": "2025-03-14T00:48:53.912215Z",
     "iopub.status.idle": "2025-03-14T00:49:12.066872Z",
     "shell.execute_reply": "2025-03-14T00:49:12.065467Z"
    },
    "papermill": {
     "duration": 18.162792,
     "end_time": "2025-03-14T00:49:12.069849",
     "exception": false,
     "start_time": "2025-03-14T00:48:53.907057",
     "status": "completed"
    },
    "tags": []
   },
   "outputs": [
    {
     "name": "stdout",
     "output_type": "stream",
     "text": [
      "Collecting mlflow\r\n",
      "  Downloading mlflow-2.20.4-py3-none-any.whl.metadata (30 kB)\r\n",
      "Collecting mlflow-skinny==2.20.4 (from mlflow)\r\n",
      "  Downloading mlflow_skinny-2.20.4-py3-none-any.whl.metadata (31 kB)\r\n",
      "Requirement already satisfied: Flask<4 in /usr/local/lib/python3.10/dist-packages (from mlflow) (3.1.0)\r\n",
      "Requirement already satisfied: Jinja2<4,>=2.11 in /usr/local/lib/python3.10/dist-packages (from mlflow) (3.1.4)\r\n",
      "Requirement already satisfied: alembic!=1.10.0,<2 in /usr/local/lib/python3.10/dist-packages (from mlflow) (1.14.1)\r\n",
      "Requirement already satisfied: docker<8,>=4.0.0 in /usr/local/lib/python3.10/dist-packages (from mlflow) (7.1.0)\r\n",
      "Collecting graphene<4 (from mlflow)\r\n",
      "  Downloading graphene-3.4.3-py2.py3-none-any.whl.metadata (6.9 kB)\r\n",
      "Collecting gunicorn<24 (from mlflow)\r\n",
      "  Downloading gunicorn-23.0.0-py3-none-any.whl.metadata (4.4 kB)\r\n",
      "Requirement already satisfied: markdown<4,>=3.3 in /usr/local/lib/python3.10/dist-packages (from mlflow) (3.7)\r\n",
      "Requirement already satisfied: matplotlib<4 in /usr/local/lib/python3.10/dist-packages (from mlflow) (3.7.5)\r\n",
      "Requirement already satisfied: numpy<3 in /usr/local/lib/python3.10/dist-packages (from mlflow) (1.26.4)\r\n",
      "Requirement already satisfied: pandas<3 in /usr/local/lib/python3.10/dist-packages (from mlflow) (2.2.3)\r\n",
      "Requirement already satisfied: pyarrow<20,>=4.0.0 in /usr/local/lib/python3.10/dist-packages (from mlflow) (19.0.1)\r\n",
      "Requirement already satisfied: scikit-learn<2 in /usr/local/lib/python3.10/dist-packages (from mlflow) (1.2.2)\r\n",
      "Requirement already satisfied: scipy<2 in /usr/local/lib/python3.10/dist-packages (from mlflow) (1.13.1)\r\n",
      "Requirement already satisfied: sqlalchemy<3,>=1.4.0 in /usr/local/lib/python3.10/dist-packages (from mlflow) (2.0.36)\r\n",
      "Requirement already satisfied: cachetools<6,>=5.0.0 in /usr/local/lib/python3.10/dist-packages (from mlflow-skinny==2.20.4->mlflow) (5.5.0)\r\n",
      "Requirement already satisfied: click<9,>=7.0 in /usr/local/lib/python3.10/dist-packages (from mlflow-skinny==2.20.4->mlflow) (8.1.7)\r\n",
      "Requirement already satisfied: cloudpickle<4 in /usr/local/lib/python3.10/dist-packages (from mlflow-skinny==2.20.4->mlflow) (3.1.0)\r\n",
      "Collecting databricks-sdk<1,>=0.20.0 (from mlflow-skinny==2.20.4->mlflow)\r\n",
      "  Downloading databricks_sdk-0.46.0-py3-none-any.whl.metadata (38 kB)\r\n",
      "Requirement already satisfied: gitpython<4,>=3.1.9 in /usr/local/lib/python3.10/dist-packages (from mlflow-skinny==2.20.4->mlflow) (3.1.43)\r\n",
      "Requirement already satisfied: importlib_metadata!=4.7.0,<9,>=3.7.0 in /usr/local/lib/python3.10/dist-packages (from mlflow-skinny==2.20.4->mlflow) (8.5.0)\r\n",
      "Requirement already satisfied: opentelemetry-api<3,>=1.9.0 in /usr/local/lib/python3.10/dist-packages (from mlflow-skinny==2.20.4->mlflow) (1.29.0)\r\n",
      "Requirement already satisfied: opentelemetry-sdk<3,>=1.9.0 in /usr/local/lib/python3.10/dist-packages (from mlflow-skinny==2.20.4->mlflow) (1.29.0)\r\n",
      "Requirement already satisfied: packaging<25 in /usr/local/lib/python3.10/dist-packages (from mlflow-skinny==2.20.4->mlflow) (24.2)\r\n",
      "Requirement already satisfied: protobuf<6,>=3.12.0 in /usr/local/lib/python3.10/dist-packages (from mlflow-skinny==2.20.4->mlflow) (3.20.3)\r\n",
      "Requirement already satisfied: pydantic<3,>=1.10.8 in /usr/local/lib/python3.10/dist-packages (from mlflow-skinny==2.20.4->mlflow) (2.11.0a2)\r\n",
      "Requirement already satisfied: pyyaml<7,>=5.1 in /usr/local/lib/python3.10/dist-packages (from mlflow-skinny==2.20.4->mlflow) (6.0.2)\r\n",
      "Requirement already satisfied: requests<3,>=2.17.3 in /usr/local/lib/python3.10/dist-packages (from mlflow-skinny==2.20.4->mlflow) (2.32.3)\r\n",
      "Requirement already satisfied: sqlparse<1,>=0.4.0 in /usr/local/lib/python3.10/dist-packages (from mlflow-skinny==2.20.4->mlflow) (0.5.3)\r\n",
      "Requirement already satisfied: typing-extensions<5,>=4.0.0 in /usr/local/lib/python3.10/dist-packages (from mlflow-skinny==2.20.4->mlflow) (4.12.2)\r\n",
      "Requirement already satisfied: Mako in /usr/local/lib/python3.10/dist-packages (from alembic!=1.10.0,<2->mlflow) (1.3.9)\r\n",
      "Requirement already satisfied: urllib3>=1.26.0 in /usr/local/lib/python3.10/dist-packages (from docker<8,>=4.0.0->mlflow) (2.3.0)\r\n",
      "Requirement already satisfied: Werkzeug>=3.1 in /usr/local/lib/python3.10/dist-packages (from Flask<4->mlflow) (3.1.3)\r\n",
      "Requirement already satisfied: itsdangerous>=2.2 in /usr/local/lib/python3.10/dist-packages (from Flask<4->mlflow) (2.2.0)\r\n",
      "Requirement already satisfied: blinker>=1.9 in /usr/local/lib/python3.10/dist-packages (from Flask<4->mlflow) (1.9.0)\r\n",
      "Collecting graphql-core<3.3,>=3.1 (from graphene<4->mlflow)\r\n",
      "  Downloading graphql_core-3.2.6-py3-none-any.whl.metadata (11 kB)\r\n",
      "Collecting graphql-relay<3.3,>=3.1 (from graphene<4->mlflow)\r\n",
      "  Downloading graphql_relay-3.2.0-py3-none-any.whl.metadata (12 kB)\r\n",
      "Requirement already satisfied: python-dateutil<3,>=2.7.0 in /usr/local/lib/python3.10/dist-packages (from graphene<4->mlflow) (2.9.0.post0)\r\n",
      "Requirement already satisfied: MarkupSafe>=2.0 in /usr/local/lib/python3.10/dist-packages (from Jinja2<4,>=2.11->mlflow) (3.0.2)\r\n",
      "Requirement already satisfied: contourpy>=1.0.1 in /usr/local/lib/python3.10/dist-packages (from matplotlib<4->mlflow) (1.3.1)\r\n",
      "Requirement already satisfied: cycler>=0.10 in /usr/local/lib/python3.10/dist-packages (from matplotlib<4->mlflow) (0.12.1)\r\n",
      "Requirement already satisfied: fonttools>=4.22.0 in /usr/local/lib/python3.10/dist-packages (from matplotlib<4->mlflow) (4.55.3)\r\n",
      "Requirement already satisfied: kiwisolver>=1.0.1 in /usr/local/lib/python3.10/dist-packages (from matplotlib<4->mlflow) (1.4.7)\r\n",
      "Requirement already satisfied: pillow>=6.2.0 in /usr/local/lib/python3.10/dist-packages (from matplotlib<4->mlflow) (11.0.0)\r\n",
      "Requirement already satisfied: pyparsing>=2.3.1 in /usr/local/lib/python3.10/dist-packages (from matplotlib<4->mlflow) (3.2.0)\r\n",
      "Requirement already satisfied: mkl_fft in /usr/local/lib/python3.10/dist-packages (from numpy<3->mlflow) (1.3.8)\r\n",
      "Requirement already satisfied: mkl_random in /usr/local/lib/python3.10/dist-packages (from numpy<3->mlflow) (1.2.4)\r\n",
      "Requirement already satisfied: mkl_umath in /usr/local/lib/python3.10/dist-packages (from numpy<3->mlflow) (0.1.1)\r\n",
      "Requirement already satisfied: mkl in /usr/local/lib/python3.10/dist-packages (from numpy<3->mlflow) (2025.0.1)\r\n",
      "Requirement already satisfied: tbb4py in /usr/local/lib/python3.10/dist-packages (from numpy<3->mlflow) (2022.0.0)\r\n",
      "Requirement already satisfied: mkl-service in /usr/local/lib/python3.10/dist-packages (from numpy<3->mlflow) (2.4.1)\r\n",
      "Requirement already satisfied: pytz>=2020.1 in /usr/local/lib/python3.10/dist-packages (from pandas<3->mlflow) (2025.1)\r\n",
      "Requirement already satisfied: tzdata>=2022.7 in /usr/local/lib/python3.10/dist-packages (from pandas<3->mlflow) (2025.1)\r\n",
      "Requirement already satisfied: joblib>=1.1.1 in /usr/local/lib/python3.10/dist-packages (from scikit-learn<2->mlflow) (1.4.2)\r\n",
      "Requirement already satisfied: threadpoolctl>=2.0.0 in /usr/local/lib/python3.10/dist-packages (from scikit-learn<2->mlflow) (3.5.0)\r\n",
      "Requirement already satisfied: greenlet!=0.4.17 in /usr/local/lib/python3.10/dist-packages (from sqlalchemy<3,>=1.4.0->mlflow) (3.1.1)\r\n",
      "Requirement already satisfied: google-auth~=2.0 in /usr/local/lib/python3.10/dist-packages (from databricks-sdk<1,>=0.20.0->mlflow-skinny==2.20.4->mlflow) (2.27.0)\r\n",
      "Requirement already satisfied: gitdb<5,>=4.0.1 in /usr/local/lib/python3.10/dist-packages (from gitpython<4,>=3.1.9->mlflow-skinny==2.20.4->mlflow) (4.0.11)\r\n",
      "Requirement already satisfied: zipp>=3.20 in /usr/local/lib/python3.10/dist-packages (from importlib_metadata!=4.7.0,<9,>=3.7.0->mlflow-skinny==2.20.4->mlflow) (3.21.0)\r\n",
      "Requirement already satisfied: deprecated>=1.2.6 in /usr/local/lib/python3.10/dist-packages (from opentelemetry-api<3,>=1.9.0->mlflow-skinny==2.20.4->mlflow) (1.2.15)\r\n",
      "Requirement already satisfied: opentelemetry-semantic-conventions==0.50b0 in /usr/local/lib/python3.10/dist-packages (from opentelemetry-sdk<3,>=1.9.0->mlflow-skinny==2.20.4->mlflow) (0.50b0)\r\n",
      "Requirement already satisfied: annotated-types>=0.6.0 in /usr/local/lib/python3.10/dist-packages (from pydantic<3,>=1.10.8->mlflow-skinny==2.20.4->mlflow) (0.7.0)\r\n",
      "Requirement already satisfied: pydantic-core==2.29.0 in /usr/local/lib/python3.10/dist-packages (from pydantic<3,>=1.10.8->mlflow-skinny==2.20.4->mlflow) (2.29.0)\r\n",
      "Requirement already satisfied: six>=1.5 in /usr/local/lib/python3.10/dist-packages (from python-dateutil<3,>=2.7.0->graphene<4->mlflow) (1.17.0)\r\n",
      "Requirement already satisfied: charset-normalizer<4,>=2 in /usr/local/lib/python3.10/dist-packages (from requests<3,>=2.17.3->mlflow-skinny==2.20.4->mlflow) (3.4.1)\r\n",
      "Requirement already satisfied: idna<4,>=2.5 in /usr/local/lib/python3.10/dist-packages (from requests<3,>=2.17.3->mlflow-skinny==2.20.4->mlflow) (3.10)\r\n",
      "Requirement already satisfied: certifi>=2017.4.17 in /usr/local/lib/python3.10/dist-packages (from requests<3,>=2.17.3->mlflow-skinny==2.20.4->mlflow) (2025.1.31)\r\n",
      "Requirement already satisfied: intel-openmp>=2024 in /usr/local/lib/python3.10/dist-packages (from mkl->numpy<3->mlflow) (2024.2.0)\r\n",
      "Requirement already satisfied: tbb==2022.* in /usr/local/lib/python3.10/dist-packages (from mkl->numpy<3->mlflow) (2022.0.0)\r\n",
      "Requirement already satisfied: tcmlib==1.* in /usr/local/lib/python3.10/dist-packages (from tbb==2022.*->mkl->numpy<3->mlflow) (1.2.0)\r\n",
      "Requirement already satisfied: intel-cmplr-lib-rt in /usr/local/lib/python3.10/dist-packages (from mkl_umath->numpy<3->mlflow) (2024.2.0)\r\n",
      "Requirement already satisfied: wrapt<2,>=1.10 in /usr/local/lib/python3.10/dist-packages (from deprecated>=1.2.6->opentelemetry-api<3,>=1.9.0->mlflow-skinny==2.20.4->mlflow) (1.17.0)\r\n",
      "Requirement already satisfied: smmap<6,>=3.0.1 in /usr/local/lib/python3.10/dist-packages (from gitdb<5,>=4.0.1->gitpython<4,>=3.1.9->mlflow-skinny==2.20.4->mlflow) (5.0.1)\r\n",
      "Requirement already satisfied: pyasn1-modules>=0.2.1 in /usr/local/lib/python3.10/dist-packages (from google-auth~=2.0->databricks-sdk<1,>=0.20.0->mlflow-skinny==2.20.4->mlflow) (0.4.1)\r\n",
      "Requirement already satisfied: rsa<5,>=3.1.4 in /usr/local/lib/python3.10/dist-packages (from google-auth~=2.0->databricks-sdk<1,>=0.20.0->mlflow-skinny==2.20.4->mlflow) (4.9)\r\n",
      "Requirement already satisfied: intel-cmplr-lib-ur==2024.2.0 in /usr/local/lib/python3.10/dist-packages (from intel-openmp>=2024->mkl->numpy<3->mlflow) (2024.2.0)\r\n",
      "Requirement already satisfied: pyasn1<0.7.0,>=0.4.6 in /usr/local/lib/python3.10/dist-packages (from pyasn1-modules>=0.2.1->google-auth~=2.0->databricks-sdk<1,>=0.20.0->mlflow-skinny==2.20.4->mlflow) (0.6.1)\r\n",
      "Downloading mlflow-2.20.4-py3-none-any.whl (28.4 MB)\r\n",
      "\u001b[2K   \u001b[90m━━━━━━━━━━━━━━━━━━━━━━━━━━━━━━━━━━━━━━━━\u001b[0m \u001b[32m28.4/28.4 MB\u001b[0m \u001b[31m52.2 MB/s\u001b[0m eta \u001b[36m0:00:00\u001b[0m\r\n",
      "\u001b[?25hDownloading mlflow_skinny-2.20.4-py3-none-any.whl (6.0 MB)\r\n",
      "\u001b[2K   \u001b[90m━━━━━━━━━━━━━━━━━━━━━━━━━━━━━━━━━━━━━━━━\u001b[0m \u001b[32m6.0/6.0 MB\u001b[0m \u001b[31m75.6 MB/s\u001b[0m eta \u001b[36m0:00:00\u001b[0m\r\n",
      "\u001b[?25hDownloading graphene-3.4.3-py2.py3-none-any.whl (114 kB)\r\n",
      "\u001b[2K   \u001b[90m━━━━━━━━━━━━━━━━━━━━━━━━━━━━━━━━━━━━━━━━\u001b[0m \u001b[32m114.9/114.9 kB\u001b[0m \u001b[31m5.8 MB/s\u001b[0m eta \u001b[36m0:00:00\u001b[0m\r\n",
      "\u001b[?25hDownloading gunicorn-23.0.0-py3-none-any.whl (85 kB)\r\n",
      "\u001b[2K   \u001b[90m━━━━━━━━━━━━━━━━━━━━━━━━━━━━━━━━━━━━━━━━\u001b[0m \u001b[32m85.0/85.0 kB\u001b[0m \u001b[31m3.5 MB/s\u001b[0m eta \u001b[36m0:00:00\u001b[0m\r\n",
      "\u001b[?25hDownloading databricks_sdk-0.46.0-py3-none-any.whl (677 kB)\r\n",
      "\u001b[2K   \u001b[90m━━━━━━━━━━━━━━━━━━━━━━━━━━━━━━━━━━━━━━━━\u001b[0m \u001b[32m677.5/677.5 kB\u001b[0m \u001b[31m25.3 MB/s\u001b[0m eta \u001b[36m0:00:00\u001b[0m\r\n",
      "\u001b[?25hDownloading graphql_core-3.2.6-py3-none-any.whl (203 kB)\r\n",
      "\u001b[2K   \u001b[90m━━━━━━━━━━━━━━━━━━━━━━━━━━━━━━━━━━━━━━━━\u001b[0m \u001b[32m203.4/203.4 kB\u001b[0m \u001b[31m9.7 MB/s\u001b[0m eta \u001b[36m0:00:00\u001b[0m\r\n",
      "\u001b[?25hDownloading graphql_relay-3.2.0-py3-none-any.whl (16 kB)\r\n",
      "Installing collected packages: gunicorn, graphql-core, graphql-relay, graphene, databricks-sdk, mlflow-skinny, mlflow\r\n",
      "Successfully installed databricks-sdk-0.46.0 graphene-3.4.3 graphql-core-3.2.6 graphql-relay-3.2.0 gunicorn-23.0.0 mlflow-2.20.4 mlflow-skinny-2.20.4\r\n",
      "Requirement already satisfied: tensorflow in /usr/local/lib/python3.10/dist-packages (2.17.1)\r\n",
      "Requirement already satisfied: tensorflow-hub in /usr/local/lib/python3.10/dist-packages (0.16.1)\r\n",
      "Requirement already satisfied: absl-py>=1.0.0 in /usr/local/lib/python3.10/dist-packages (from tensorflow) (1.4.0)\r\n",
      "Requirement already satisfied: astunparse>=1.6.0 in /usr/local/lib/python3.10/dist-packages (from tensorflow) (1.6.3)\r\n",
      "Requirement already satisfied: flatbuffers>=24.3.25 in /usr/local/lib/python3.10/dist-packages (from tensorflow) (24.3.25)\r\n",
      "Requirement already satisfied: gast!=0.5.0,!=0.5.1,!=0.5.2,>=0.2.1 in /usr/local/lib/python3.10/dist-packages (from tensorflow) (0.6.0)\r\n",
      "Requirement already satisfied: google-pasta>=0.1.1 in /usr/local/lib/python3.10/dist-packages (from tensorflow) (0.2.0)\r\n",
      "Requirement already satisfied: h5py>=3.10.0 in /usr/local/lib/python3.10/dist-packages (from tensorflow) (3.12.1)\r\n",
      "Requirement already satisfied: libclang>=13.0.0 in /usr/local/lib/python3.10/dist-packages (from tensorflow) (18.1.1)\r\n",
      "Requirement already satisfied: ml-dtypes<0.5.0,>=0.3.1 in /usr/local/lib/python3.10/dist-packages (from tensorflow) (0.4.1)\r\n",
      "Requirement already satisfied: opt-einsum>=2.3.2 in /usr/local/lib/python3.10/dist-packages (from tensorflow) (3.4.0)\r\n",
      "Requirement already satisfied: packaging in /usr/local/lib/python3.10/dist-packages (from tensorflow) (24.2)\r\n",
      "Requirement already satisfied: protobuf!=4.21.0,!=4.21.1,!=4.21.2,!=4.21.3,!=4.21.4,!=4.21.5,<5.0.0dev,>=3.20.3 in /usr/local/lib/python3.10/dist-packages (from tensorflow) (3.20.3)\r\n",
      "Requirement already satisfied: requests<3,>=2.21.0 in /usr/local/lib/python3.10/dist-packages (from tensorflow) (2.32.3)\r\n",
      "Requirement already satisfied: setuptools in /usr/local/lib/python3.10/dist-packages (from tensorflow) (75.1.0)\r\n",
      "Requirement already satisfied: six>=1.12.0 in /usr/local/lib/python3.10/dist-packages (from tensorflow) (1.17.0)\r\n",
      "Requirement already satisfied: termcolor>=1.1.0 in /usr/local/lib/python3.10/dist-packages (from tensorflow) (2.5.0)\r\n",
      "Requirement already satisfied: typing-extensions>=3.6.6 in /usr/local/lib/python3.10/dist-packages (from tensorflow) (4.12.2)\r\n",
      "Requirement already satisfied: wrapt>=1.11.0 in /usr/local/lib/python3.10/dist-packages (from tensorflow) (1.17.0)\r\n",
      "Requirement already satisfied: grpcio<2.0,>=1.24.3 in /usr/local/lib/python3.10/dist-packages (from tensorflow) (1.68.1)\r\n",
      "Requirement already satisfied: tensorboard<2.18,>=2.17 in /usr/local/lib/python3.10/dist-packages (from tensorflow) (2.17.1)\r\n",
      "Requirement already satisfied: keras>=3.2.0 in /usr/local/lib/python3.10/dist-packages (from tensorflow) (3.5.0)\r\n",
      "Requirement already satisfied: tensorflow-io-gcs-filesystem>=0.23.1 in /usr/local/lib/python3.10/dist-packages (from tensorflow) (0.37.1)\r\n",
      "Requirement already satisfied: numpy<2.0.0,>=1.23.5 in /usr/local/lib/python3.10/dist-packages (from tensorflow) (1.26.4)\r\n",
      "Requirement already satisfied: tf-keras>=2.14.1 in /usr/local/lib/python3.10/dist-packages (from tensorflow-hub) (2.17.0)\r\n",
      "Requirement already satisfied: wheel<1.0,>=0.23.0 in /usr/local/lib/python3.10/dist-packages (from astunparse>=1.6.0->tensorflow) (0.45.1)\r\n",
      "Requirement already satisfied: rich in /usr/local/lib/python3.10/dist-packages (from keras>=3.2.0->tensorflow) (13.9.4)\r\n",
      "Requirement already satisfied: namex in /usr/local/lib/python3.10/dist-packages (from keras>=3.2.0->tensorflow) (0.0.8)\r\n",
      "Requirement already satisfied: optree in /usr/local/lib/python3.10/dist-packages (from keras>=3.2.0->tensorflow) (0.13.1)\r\n",
      "Requirement already satisfied: mkl_fft in /usr/local/lib/python3.10/dist-packages (from numpy<2.0.0,>=1.23.5->tensorflow) (1.3.8)\r\n",
      "Requirement already satisfied: mkl_random in /usr/local/lib/python3.10/dist-packages (from numpy<2.0.0,>=1.23.5->tensorflow) (1.2.4)\r\n",
      "Requirement already satisfied: mkl_umath in /usr/local/lib/python3.10/dist-packages (from numpy<2.0.0,>=1.23.5->tensorflow) (0.1.1)\r\n",
      "Requirement already satisfied: mkl in /usr/local/lib/python3.10/dist-packages (from numpy<2.0.0,>=1.23.5->tensorflow) (2025.0.1)\r\n",
      "Requirement already satisfied: tbb4py in /usr/local/lib/python3.10/dist-packages (from numpy<2.0.0,>=1.23.5->tensorflow) (2022.0.0)\r\n",
      "Requirement already satisfied: mkl-service in /usr/local/lib/python3.10/dist-packages (from numpy<2.0.0,>=1.23.5->tensorflow) (2.4.1)\r\n",
      "Requirement already satisfied: charset-normalizer<4,>=2 in /usr/local/lib/python3.10/dist-packages (from requests<3,>=2.21.0->tensorflow) (3.4.1)\r\n",
      "Requirement already satisfied: idna<4,>=2.5 in /usr/local/lib/python3.10/dist-packages (from requests<3,>=2.21.0->tensorflow) (3.10)\r\n",
      "Requirement already satisfied: urllib3<3,>=1.21.1 in /usr/local/lib/python3.10/dist-packages (from requests<3,>=2.21.0->tensorflow) (2.3.0)\r\n",
      "Requirement already satisfied: certifi>=2017.4.17 in /usr/local/lib/python3.10/dist-packages (from requests<3,>=2.21.0->tensorflow) (2025.1.31)\r\n",
      "Requirement already satisfied: markdown>=2.6.8 in /usr/local/lib/python3.10/dist-packages (from tensorboard<2.18,>=2.17->tensorflow) (3.7)\r\n",
      "Requirement already satisfied: tensorboard-data-server<0.8.0,>=0.7.0 in /usr/local/lib/python3.10/dist-packages (from tensorboard<2.18,>=2.17->tensorflow) (0.7.2)\r\n",
      "Requirement already satisfied: werkzeug>=1.0.1 in /usr/local/lib/python3.10/dist-packages (from tensorboard<2.18,>=2.17->tensorflow) (3.1.3)\r\n",
      "Requirement already satisfied: MarkupSafe>=2.1.1 in /usr/local/lib/python3.10/dist-packages (from werkzeug>=1.0.1->tensorboard<2.18,>=2.17->tensorflow) (3.0.2)\r\n",
      "Requirement already satisfied: intel-openmp>=2024 in /usr/local/lib/python3.10/dist-packages (from mkl->numpy<2.0.0,>=1.23.5->tensorflow) (2024.2.0)\r\n",
      "Requirement already satisfied: tbb==2022.* in /usr/local/lib/python3.10/dist-packages (from mkl->numpy<2.0.0,>=1.23.5->tensorflow) (2022.0.0)\r\n",
      "Requirement already satisfied: tcmlib==1.* in /usr/local/lib/python3.10/dist-packages (from tbb==2022.*->mkl->numpy<2.0.0,>=1.23.5->tensorflow) (1.2.0)\r\n",
      "Requirement already satisfied: intel-cmplr-lib-rt in /usr/local/lib/python3.10/dist-packages (from mkl_umath->numpy<2.0.0,>=1.23.5->tensorflow) (2024.2.0)\r\n",
      "Requirement already satisfied: markdown-it-py>=2.2.0 in /usr/local/lib/python3.10/dist-packages (from rich->keras>=3.2.0->tensorflow) (3.0.0)\r\n",
      "Requirement already satisfied: pygments<3.0.0,>=2.13.0 in /usr/local/lib/python3.10/dist-packages (from rich->keras>=3.2.0->tensorflow) (2.19.1)\r\n",
      "Requirement already satisfied: intel-cmplr-lib-ur==2024.2.0 in /usr/local/lib/python3.10/dist-packages (from intel-openmp>=2024->mkl->numpy<2.0.0,>=1.23.5->tensorflow) (2024.2.0)\r\n",
      "Requirement already satisfied: mdurl~=0.1 in /usr/local/lib/python3.10/dist-packages (from markdown-it-py>=2.2.0->rich->keras>=3.2.0->tensorflow) (0.1.2)\r\n"
     ]
    }
   ],
   "source": [
    "!pip install mlflow\n",
    "!pip install tensorflow tensorflow-hub"
   ]
  },
  {
   "cell_type": "code",
   "execution_count": 2,
   "id": "f66abbaf",
   "metadata": {
    "_cell_guid": "b1076dfc-b9ad-4769-8c92-a6c4dae69d19",
    "_uuid": "8f2839f25d086af736a60e9eeb907d3b93b6e0e5",
    "execution": {
     "iopub.execute_input": "2025-03-14T00:49:12.083287Z",
     "iopub.status.busy": "2025-03-14T00:49:12.082860Z",
     "iopub.status.idle": "2025-03-14T00:49:42.825707Z",
     "shell.execute_reply": "2025-03-14T00:49:42.823920Z"
    },
    "papermill": {
     "duration": 30.751867,
     "end_time": "2025-03-14T00:49:42.827922",
     "exception": false,
     "start_time": "2025-03-14T00:49:12.076055",
     "status": "completed"
    },
    "tags": []
   },
   "outputs": [],
   "source": [
    "import numpy as np\n",
    "import pandas as pd\n",
    "import os\n",
    "import torch\n",
    "from bs4 import BeautifulSoup\n",
    "\n",
    "import mlflow\n",
    "import mlflow.sklearn\n",
    "import shutil\n",
    "\n",
    "from sklearn.preprocessing import MultiLabelBinarizer\n",
    "from sklearn.model_selection import train_test_split\n",
    "from sklearn.linear_model import LogisticRegression, SGDClassifier\n",
    "from sklearn.multiclass import OneVsRestClassifier\n",
    "from sklearn.metrics import jaccard_score\n",
    "\n",
    "import tensorflow_hub as hub\n",
    "import tensorflow as tf\n",
    "\n",
    "import pickle"
   ]
  },
  {
   "cell_type": "code",
   "execution_count": 3,
   "id": "a1479dd9",
   "metadata": {
    "execution": {
     "iopub.execute_input": "2025-03-14T00:49:42.843224Z",
     "iopub.status.busy": "2025-03-14T00:49:42.842390Z",
     "iopub.status.idle": "2025-03-14T00:49:42.848941Z",
     "shell.execute_reply": "2025-03-14T00:49:42.847557Z"
    },
    "papermill": {
     "duration": 0.017734,
     "end_time": "2025-03-14T00:49:42.852472",
     "exception": false,
     "start_time": "2025-03-14T00:49:42.834738",
     "status": "completed"
    },
    "tags": []
   },
   "outputs": [],
   "source": [
    "os.makedirs(\"/kaggle/working/models\", exist_ok=True)"
   ]
  },
  {
   "cell_type": "code",
   "execution_count": 4,
   "id": "f74d20e6",
   "metadata": {
    "execution": {
     "iopub.execute_input": "2025-03-14T00:49:42.867598Z",
     "iopub.status.busy": "2025-03-14T00:49:42.867239Z",
     "iopub.status.idle": "2025-03-14T00:49:42.893553Z",
     "shell.execute_reply": "2025-03-14T00:49:42.892072Z"
    },
    "papermill": {
     "duration": 0.037023,
     "end_time": "2025-03-14T00:49:42.896222",
     "exception": false,
     "start_time": "2025-03-14T00:49:42.859199",
     "status": "completed"
    },
    "tags": []
   },
   "outputs": [
    {
     "name": "stderr",
     "output_type": "stream",
     "text": [
      "2025/03/14 00:49:42 INFO mlflow.tracking.fluent: Experiment with name 'USE_Model' does not exist. Creating a new experiment.\n"
     ]
    },
    {
     "name": "stdout",
     "output_type": "stream",
     "text": [
      "MLflow configuré sur Kaggle ! Logs enregistrés dans /kaggle/working/mlruns\n"
     ]
    }
   ],
   "source": [
    "mlflow.set_tracking_uri(\"/kaggle/working/mlruns\")\n",
    "\n",
    "mlflow.set_experiment(\"USE_Model\")\n",
    "\n",
    "print(\"MLflow configuré sur Kaggle ! Logs enregistrés dans /kaggle/working/mlruns\")"
   ]
  },
  {
   "cell_type": "code",
   "execution_count": 5,
   "id": "8bfa9bd8",
   "metadata": {
    "execution": {
     "iopub.execute_input": "2025-03-14T00:49:42.910468Z",
     "iopub.status.busy": "2025-03-14T00:49:42.910084Z",
     "iopub.status.idle": "2025-03-14T00:49:48.339177Z",
     "shell.execute_reply": "2025-03-14T00:49:48.337941Z"
    },
    "papermill": {
     "duration": 5.439141,
     "end_time": "2025-03-14T00:49:48.341482",
     "exception": false,
     "start_time": "2025-03-14T00:49:42.902341",
     "status": "completed"
    },
    "tags": []
   },
   "outputs": [
    {
     "data": {
      "text/html": [
       "<div>\n",
       "<style scoped>\n",
       "    .dataframe tbody tr th:only-of-type {\n",
       "        vertical-align: middle;\n",
       "    }\n",
       "\n",
       "    .dataframe tbody tr th {\n",
       "        vertical-align: top;\n",
       "    }\n",
       "\n",
       "    .dataframe thead th {\n",
       "        text-align: right;\n",
       "    }\n",
       "</style>\n",
       "<table border=\"1\" class=\"dataframe\">\n",
       "  <thead>\n",
       "    <tr style=\"text-align: right;\">\n",
       "      <th></th>\n",
       "      <th>Id</th>\n",
       "      <th>Title</th>\n",
       "      <th>Body</th>\n",
       "      <th>Tags</th>\n",
       "      <th>Score</th>\n",
       "      <th>ViewCount</th>\n",
       "      <th>AnswerCount</th>\n",
       "      <th>CreationDate</th>\n",
       "      <th>Processed</th>\n",
       "    </tr>\n",
       "  </thead>\n",
       "  <tbody>\n",
       "    <tr>\n",
       "      <th>0</th>\n",
       "      <td>75956209</td>\n",
       "      <td>Error \"'DataFrame' object has no attribute 'ap...</td>\n",
       "      <td>&lt;p&gt;I am trying to append a dictionary to a Dat...</td>\n",
       "      <td>&lt;python&gt;&lt;pandas&gt;&lt;dataframe&gt;&lt;concatenation&gt;&lt;att...</td>\n",
       "      <td>312</td>\n",
       "      <td>692073</td>\n",
       "      <td>3</td>\n",
       "      <td>2023-04-07 07:05:59</td>\n",
       "      <td>['error', 'object', 'attribute', 'append', 'tr...</td>\n",
       "    </tr>\n",
       "    <tr>\n",
       "      <th>1</th>\n",
       "      <td>75898276</td>\n",
       "      <td>OpenAI API error 429: \"You exceeded your curre...</td>\n",
       "      <td>&lt;p&gt;I'm making a Python script to use OpenAI vi...</td>\n",
       "      <td>&lt;python&gt;&lt;prompt&gt;&lt;openai-api&gt;&lt;completion&gt;&lt;chatg...</td>\n",
       "      <td>169</td>\n",
       "      <td>416362</td>\n",
       "      <td>5</td>\n",
       "      <td>2023-03-31 11:58:04</td>\n",
       "      <td>['api', 'error', 'exceed', 'quota', 'check', '...</td>\n",
       "    </tr>\n",
       "    <tr>\n",
       "      <th>2</th>\n",
       "      <td>77171270</td>\n",
       "      <td>Compilation error after upgrading to JDK 21 - ...</td>\n",
       "      <td>&lt;p&gt;After upgrading to JDK 21, I have the follo...</td>\n",
       "      <td>&lt;spring-boot&gt;&lt;compiler-errors&gt;&lt;upgrade&gt;&lt;lombok...</td>\n",
       "      <td>358</td>\n",
       "      <td>396585</td>\n",
       "      <td>13</td>\n",
       "      <td>2023-09-25 09:05:11</td>\n",
       "      <td>['compilation', 'error', 'upgrade', 'upgrade',...</td>\n",
       "    </tr>\n",
       "    <tr>\n",
       "      <th>3</th>\n",
       "      <td>76435306</td>\n",
       "      <td>babel-preset-react-app, is importing the \"@bab...</td>\n",
       "      <td>&lt;p&gt;My issue is that I've tried to create a new...</td>\n",
       "      <td>&lt;javascript&gt;&lt;node.js&gt;&lt;reactjs&gt;&lt;babeljs&gt;&lt;ejs&gt;</td>\n",
       "      <td>155</td>\n",
       "      <td>273911</td>\n",
       "      <td>24</td>\n",
       "      <td>2023-06-08 19:56:44</td>\n",
       "      <td>['react', 'app', 'import', 'babel', 'plugin', ...</td>\n",
       "    </tr>\n",
       "    <tr>\n",
       "      <th>4</th>\n",
       "      <td>76303988</td>\n",
       "      <td>\"ERROR: File xxx can't be indexed twice.\" when...</td>\n",
       "      <td>&lt;p&gt;Below is my Azure pipeline to analyze a sol...</td>\n",
       "      <td>&lt;c#&gt;&lt;c++&gt;&lt;sonarqube&gt;&lt;sonarqube-scan&gt;&lt;sonar-run...</td>\n",
       "      <td>0</td>\n",
       "      <td>208657</td>\n",
       "      <td>1</td>\n",
       "      <td>2023-05-22 07:45:00</td>\n",
       "      <td>['error', 'file', 'index', 'analyze', 'solutio...</td>\n",
       "    </tr>\n",
       "  </tbody>\n",
       "</table>\n",
       "</div>"
      ],
      "text/plain": [
       "         Id                                              Title  \\\n",
       "0  75956209  Error \"'DataFrame' object has no attribute 'ap...   \n",
       "1  75898276  OpenAI API error 429: \"You exceeded your curre...   \n",
       "2  77171270  Compilation error after upgrading to JDK 21 - ...   \n",
       "3  76435306  babel-preset-react-app, is importing the \"@bab...   \n",
       "4  76303988  \"ERROR: File xxx can't be indexed twice.\" when...   \n",
       "\n",
       "                                                Body  \\\n",
       "0  <p>I am trying to append a dictionary to a Dat...   \n",
       "1  <p>I'm making a Python script to use OpenAI vi...   \n",
       "2  <p>After upgrading to JDK 21, I have the follo...   \n",
       "3  <p>My issue is that I've tried to create a new...   \n",
       "4  <p>Below is my Azure pipeline to analyze a sol...   \n",
       "\n",
       "                                                Tags  Score  ViewCount  \\\n",
       "0  <python><pandas><dataframe><concatenation><att...    312     692073   \n",
       "1  <python><prompt><openai-api><completion><chatg...    169     416362   \n",
       "2  <spring-boot><compiler-errors><upgrade><lombok...    358     396585   \n",
       "3       <javascript><node.js><reactjs><babeljs><ejs>    155     273911   \n",
       "4  <c#><c++><sonarqube><sonarqube-scan><sonar-run...      0     208657   \n",
       "\n",
       "   AnswerCount         CreationDate  \\\n",
       "0            3  2023-04-07 07:05:59   \n",
       "1            5  2023-03-31 11:58:04   \n",
       "2           13  2023-09-25 09:05:11   \n",
       "3           24  2023-06-08 19:56:44   \n",
       "4            1  2023-05-22 07:45:00   \n",
       "\n",
       "                                           Processed  \n",
       "0  ['error', 'object', 'attribute', 'append', 'tr...  \n",
       "1  ['api', 'error', 'exceed', 'quota', 'check', '...  \n",
       "2  ['compilation', 'error', 'upgrade', 'upgrade',...  \n",
       "3  ['react', 'app', 'import', 'babel', 'plugin', ...  \n",
       "4  ['error', 'file', 'index', 'analyze', 'solutio...  "
      ]
     },
     "execution_count": 5,
     "metadata": {},
     "output_type": "execute_result"
    }
   ],
   "source": [
    "data = pd.read_csv(\"/kaggle/input/bigot-benjamin-1-notebook-exploration-022025/preprocessed_data.csv\")\n",
    "data.head()"
   ]
  },
  {
   "cell_type": "code",
   "execution_count": 6,
   "id": "763f1f05",
   "metadata": {
    "execution": {
     "iopub.execute_input": "2025-03-14T00:49:48.359263Z",
     "iopub.status.busy": "2025-03-14T00:49:48.358886Z",
     "iopub.status.idle": "2025-03-14T00:49:49.081648Z",
     "shell.execute_reply": "2025-03-14T00:49:49.079860Z"
    },
    "papermill": {
     "duration": 0.735791,
     "end_time": "2025-03-14T00:49:49.084209",
     "exception": false,
     "start_time": "2025-03-14T00:49:48.348418",
     "status": "completed"
    },
    "tags": []
   },
   "outputs": [],
   "source": [
    "df_train = pd.read_csv(\"/kaggle/input/embeddings/X_train.csv\")\n",
    "df_test = pd.read_csv(\"/kaggle/input/embeddings/X_test.csv\")\n",
    "\n",
    "X_train = df_train.to_numpy()\n",
    "X_test = df_test.to_numpy()"
   ]
  },
  {
   "cell_type": "code",
   "execution_count": 7,
   "id": "5aea1c78",
   "metadata": {
    "execution": {
     "iopub.execute_input": "2025-03-14T00:49:49.101941Z",
     "iopub.status.busy": "2025-03-14T00:49:49.101547Z",
     "iopub.status.idle": "2025-03-14T00:49:52.704926Z",
     "shell.execute_reply": "2025-03-14T00:49:52.703442Z"
    },
    "papermill": {
     "duration": 3.613152,
     "end_time": "2025-03-14T00:49:52.707060",
     "exception": false,
     "start_time": "2025-03-14T00:49:49.093908",
     "status": "completed"
    },
    "tags": []
   },
   "outputs": [
    {
     "name": "stdout",
     "output_type": "stream",
     "text": [
      "Taille du train : 8000\n",
      "Taille du test : 2000\n"
     ]
    }
   ],
   "source": [
    "df_train_use, df_test_use, df_y_train, df_y_test = pd.read_csv(\"/kaggle/input/embeddings/X_train_use.csv\"), \\\n",
    "pd.read_csv(\"/kaggle/input/embeddings/X_test_use.csv\"), \\\n",
    "pd.read_csv(\"/kaggle/input/embeddings/y_train.csv\"), \\\n",
    "pd.read_csv(\"/kaggle/input/embeddings/y_test.csv\")\n",
    "\n",
    "X_train_use, X_test_use, y_train, y_test = df_train_use.to_numpy(), df_test_use.to_numpy(), df_y_train.to_numpy(), df_y_test.to_numpy()\n",
    "\n",
    "# Vérifier la taille des jeux de données\n",
    "print(f\"Taille du train : {len(X_train_use)}\")\n",
    "print(f\"Taille du test : {len(X_test_use)}\")"
   ]
  },
  {
   "cell_type": "code",
   "execution_count": 8,
   "id": "27db8867",
   "metadata": {
    "execution": {
     "iopub.execute_input": "2025-03-14T00:49:52.722460Z",
     "iopub.status.busy": "2025-03-14T00:49:52.722119Z",
     "iopub.status.idle": "2025-03-14T00:53:29.843721Z",
     "shell.execute_reply": "2025-03-14T00:53:29.842361Z"
    },
    "papermill": {
     "duration": 217.132854,
     "end_time": "2025-03-14T00:53:29.846428",
     "exception": false,
     "start_time": "2025-03-14T00:49:52.713574",
     "status": "completed"
    },
    "tags": []
   },
   "outputs": [
    {
     "name": "stderr",
     "output_type": "stream",
     "text": [
      "/usr/local/lib/python3.10/dist-packages/sklearn/metrics/_classification.py:1344: UndefinedMetricWarning: Jaccard is ill-defined and being set to 0.0 in samples with no true or predicted labels. Use `zero_division` parameter to control this behavior.\n",
      "  _warn_prf(average, modifier, msg_start, len(result))\n"
     ]
    },
    {
     "name": "stdout",
     "output_type": "stream",
     "text": [
      "Jaccard Score avec Word2Vec : 0.12149285714285714\n"
     ]
    },
    {
     "name": "stderr",
     "output_type": "stream",
     "text": [
      "\u001b[31m2025/03/14 00:53:29 WARNING mlflow.models.model: Model logged without a signature and input example. Please set `input_example` parameter when logging the model to auto infer the model signature.\u001b[0m\n"
     ]
    }
   ],
   "source": [
    "clf = OneVsRestClassifier(LogisticRegression(max_iter=1000))\n",
    "clf.fit(X_train_use, y_train)\n",
    "\n",
    "y_pred = clf.predict(X_test_use)\n",
    "score = jaccard_score(y_test, y_pred, average=\"samples\")\n",
    "print(\"Jaccard Score avec Word2Vec :\", score)\n",
    "\n",
    "with mlflow.start_run():\n",
    "    mlflow.log_param(\"model\", \"USE : OneVsRest + LogisticRegression\")\n",
    "    mlflow.log_param(\"max_iter\", 1000)\n",
    "    mlflow.log_metric(\"jaccard_score\", score)\n",
    "    \n",
    "    # Sauvegarder le modèle\n",
    "    mlflow.sklearn.log_model(clf, \"model\")"
   ]
  },
  {
   "cell_type": "code",
   "execution_count": 9,
   "id": "96ec657e",
   "metadata": {
    "execution": {
     "iopub.execute_input": "2025-03-14T00:53:29.861643Z",
     "iopub.status.busy": "2025-03-14T00:53:29.861276Z",
     "iopub.status.idle": "2025-03-14T00:57:29.866833Z",
     "shell.execute_reply": "2025-03-14T00:57:29.865685Z"
    },
    "papermill": {
     "duration": 240.015592,
     "end_time": "2025-03-14T00:57:29.868957",
     "exception": false,
     "start_time": "2025-03-14T00:53:29.853365",
     "status": "completed"
    },
    "tags": []
   },
   "outputs": [
    {
     "name": "stderr",
     "output_type": "stream",
     "text": [
      "/usr/local/lib/python3.10/dist-packages/sklearn/metrics/_classification.py:1344: UndefinedMetricWarning: Jaccard is ill-defined and being set to 0.0 in samples with no true or predicted labels. Use `zero_division` parameter to control this behavior.\n",
      "  _warn_prf(average, modifier, msg_start, len(result))\n"
     ]
    },
    {
     "name": "stdout",
     "output_type": "stream",
     "text": [
      "Jaccard Score avec Word2Vec : 0.13223095238095237\n"
     ]
    },
    {
     "name": "stderr",
     "output_type": "stream",
     "text": [
      "\u001b[31m2025/03/14 00:57:29 WARNING mlflow.models.model: Model logged without a signature and input example. Please set `input_example` parameter when logging the model to auto infer the model signature.\u001b[0m\n"
     ]
    }
   ],
   "source": [
    "clf_sgd = OneVsRestClassifier(SGDClassifier(loss=\"log_loss\", max_iter=1000))\n",
    "clf_sgd.fit(X_train_use, y_train)\n",
    "\n",
    "y_pred = clf_sgd.predict(X_test_use)\n",
    "score = jaccard_score(y_test, y_pred, average=\"samples\")\n",
    "print(\"Jaccard Score avec Word2Vec :\", score)\n",
    "\n",
    "with mlflow.start_run():\n",
    "    mlflow.log_param(\"model\", \"USE : OneVsRest + SGDClassifier\")\n",
    "    mlflow.log_param(\"max_iter\", 1000)\n",
    "    mlflow.log_metric(\"jaccard_score\", score)\n",
    "    \n",
    "    # Sauvegarder le modèle\n",
    "    mlflow.sklearn.log_model(clf_sgd, \"model\")"
   ]
  },
  {
   "cell_type": "code",
   "execution_count": 10,
   "id": "1113e0dd",
   "metadata": {
    "execution": {
     "iopub.execute_input": "2025-03-14T00:57:29.884319Z",
     "iopub.status.busy": "2025-03-14T00:57:29.883905Z",
     "iopub.status.idle": "2025-03-14T00:57:32.559369Z",
     "shell.execute_reply": "2025-03-14T00:57:32.557839Z"
    },
    "papermill": {
     "duration": 2.685485,
     "end_time": "2025-03-14T00:57:32.561554",
     "exception": false,
     "start_time": "2025-03-14T00:57:29.876069",
     "status": "completed"
    },
    "tags": []
   },
   "outputs": [
    {
     "name": "stdout",
     "output_type": "stream",
     "text": [
      "Classes rechargées : ['python' 'javascript' 'reactjs' ... 'quic' 'apple-developer' 'appkit']\n"
     ]
    }
   ],
   "source": [
    "y_proba = clf_sgd.predict_proba(X_test_use)\n",
    "\n",
    "with open(\"/kaggle/input/embeddings/mlb.pkl\", \"rb\") as f:\n",
    "    mlb_loaded = pickle.load(f)\n",
    "\n",
    "print(\"Classes rechargées :\", mlb_loaded.classes_)\n",
    "# Définir un seuil de probabilité\n",
    "threshold = 0.3\n",
    "\n",
    "# Fonction pour récupérer les tags qui dépassent le seuil\n",
    "def get_tags_with_threshold(probas, threshold=0.3):\n",
    "    indices = np.where(probas >= threshold)[0]\n",
    "    if len(indices) == 0:\n",
    "        indices = [np.argmax(probas)]\n",
    "    return [mlb_loaded.classes_[i] for i in indices]\n",
    "\n",
    "# Appliquer sur toutes les prédictions\n",
    "predicted_tags = [get_tags_with_threshold(proba, threshold) for proba in y_proba]\n"
   ]
  },
  {
   "cell_type": "code",
   "execution_count": 11,
   "id": "5c9a7800",
   "metadata": {
    "execution": {
     "iopub.execute_input": "2025-03-14T00:57:32.584175Z",
     "iopub.status.busy": "2025-03-14T00:57:32.583791Z",
     "iopub.status.idle": "2025-03-14T00:57:37.931443Z",
     "shell.execute_reply": "2025-03-14T00:57:37.929981Z"
    },
    "papermill": {
     "duration": 5.358901,
     "end_time": "2025-03-14T00:57:37.933602",
     "exception": false,
     "start_time": "2025-03-14T00:57:32.574701",
     "status": "completed"
    },
    "tags": []
   },
   "outputs": [],
   "source": [
    "X_test_with_predictions = pd.DataFrame(X_test)\n",
    "X_train = pd.DataFrame(X_train)\n",
    "X_test = pd.DataFrame(X_test)\n",
    "y_train = pd.DataFrame(y_train) \n",
    "y_test = pd.DataFrame(y_test)\n",
    "\n",
    "X_test_with_predictions[\"Predicted_Tags\"] = predicted_tags\n",
    "\n",
    "X_total = pd.concat([X_train, X_test], axis=0).reset_index(drop=True)\n",
    "Y_total = pd.concat([y_train, y_test], axis=0).reset_index(drop=True)\n",
    "X_total_reset = X_total.reset_index(drop=True)\n",
    "Y_total_reset = Y_total.reset_index(drop=True)\n",
    "\n",
    "# Concaténer horizontalement (axis=1)\n",
    "df_total = pd.concat([X_total_reset, Y_total_reset], axis=1)\n",
    "\n",
    "X_test_with_predictions.to_csv(\"X_test_with_predictions_use.csv\", index=False)\n",
    "df_total.to_csv(\"df_final_use.csv\", index=False)"
   ]
  },
  {
   "cell_type": "code",
   "execution_count": 12,
   "id": "1fdeec3f",
   "metadata": {
    "execution": {
     "iopub.execute_input": "2025-03-14T00:57:37.961848Z",
     "iopub.status.busy": "2025-03-14T00:57:37.961356Z",
     "iopub.status.idle": "2025-03-14T00:57:38.967616Z",
     "shell.execute_reply": "2025-03-14T00:57:38.966096Z"
    },
    "papermill": {
     "duration": 1.028664,
     "end_time": "2025-03-14T00:57:38.969666",
     "exception": false,
     "start_time": "2025-03-14T00:57:37.941002",
     "status": "completed"
    },
    "tags": []
   },
   "outputs": [
    {
     "data": {
      "text/plain": [
       "'/kaggle/working/mlruns_USE.zip'"
      ]
     },
     "execution_count": 12,
     "metadata": {},
     "output_type": "execute_result"
    }
   ],
   "source": [
    "# Compresser tout le répertoire mlruns\n",
    "shutil.make_archive(\"/kaggle/working/mlruns_USE\", \"zip\", \"/kaggle/working/mlruns\")"
   ]
  }
 ],
 "metadata": {
  "kaggle": {
   "accelerator": "none",
   "dataSources": [
    {
     "sourceId": 223348701,
     "sourceType": "kernelVersion"
    },
    {
     "sourceId": 227440531,
     "sourceType": "kernelVersion"
    }
   ],
   "dockerImageVersionId": 30918,
   "isGpuEnabled": false,
   "isInternetEnabled": true,
   "language": "python",
   "sourceType": "notebook"
  },
  "kernelspec": {
   "display_name": "Python 3",
   "language": "python",
   "name": "python3"
  },
  "language_info": {
   "codemirror_mode": {
    "name": "ipython",
    "version": 3
   },
   "file_extension": ".py",
   "mimetype": "text/x-python",
   "name": "python",
   "nbconvert_exporter": "python",
   "pygments_lexer": "ipython3",
   "version": "3.10.12"
  },
  "papermill": {
   "default_parameters": {},
   "duration": 530.988213,
   "end_time": "2025-03-14T00:57:41.783148",
   "environment_variables": {},
   "exception": null,
   "input_path": "__notebook__.ipynb",
   "output_path": "__notebook__.ipynb",
   "parameters": {},
   "start_time": "2025-03-14T00:48:50.794935",
   "version": "2.6.0"
  }
 },
 "nbformat": 4,
 "nbformat_minor": 5
}
