{
 "cells": [
  {
   "cell_type": "code",
   "execution_count": 1,
   "id": "e789ea8a",
   "metadata": {
    "execution": {
     "iopub.execute_input": "2025-02-19T09:35:35.725972Z",
     "iopub.status.busy": "2025-02-19T09:35:35.725583Z",
     "iopub.status.idle": "2025-02-19T09:36:10.660133Z",
     "shell.execute_reply": "2025-02-19T09:36:10.659194Z"
    },
    "papermill": {
     "duration": 34.943077,
     "end_time": "2025-02-19T09:36:10.662078",
     "exception": false,
     "start_time": "2025-02-19T09:35:35.719001",
     "status": "completed"
    },
    "tags": []
   },
   "outputs": [],
   "source": [
    "import time\n",
    "import pickle\n",
    "from sklearn.model_selection import train_test_split\n",
    "from sklearn.ensemble import RandomForestClassifier\n",
    "from sklearn.datasets import load_iris\n",
    "from sklearn.metrics import accuracy_score\n",
    "from sklearn.feature_extraction.text import CountVectorizer, TfidfVectorizer\n",
    "from sklearn.decomposition import NMF\n",
    "from sklearn.metrics.pairwise import cosine_similarity\n",
    "\n",
    "import shutil\n",
    "import matplotlib.pyplot as plt\n",
    "\n",
    "import pandas as pd\n",
    "import numpy as np\n",
    "import re\n",
    "import spacy\n",
    "import gensim\n",
    "from gensim.parsing.preprocessing import STOPWORDS\n",
    "from bs4 import BeautifulSoup\n",
    "from scipy import sparse\n",
    "\n",
    "import pyLDAvis.gensim_models as gensimvis\n",
    "import pyLDAvis\n",
    "\n",
    "from gensim.models.ldamodel import LdaModel\n",
    "from gensim import corpora\n",
    "from gensim.models.coherencemodel import CoherenceModel\n",
    "\n",
    "import warnings\n",
    "warnings.filterwarnings(\"ignore\", category=DeprecationWarning)"
   ]
  },
  {
   "cell_type": "markdown",
   "id": "77f86239",
   "metadata": {
    "papermill": {
     "duration": 0.003824,
     "end_time": "2025-02-19T09:36:10.670629",
     "exception": false,
     "start_time": "2025-02-19T09:36:10.666805",
     "status": "completed"
    },
    "tags": []
   },
   "source": [
    "# Exploration des données"
   ]
  },
  {
   "cell_type": "code",
   "execution_count": 2,
   "id": "691de1a8",
   "metadata": {
    "execution": {
     "iopub.execute_input": "2025-02-19T09:36:10.680460Z",
     "iopub.status.busy": "2025-02-19T09:36:10.679798Z",
     "iopub.status.idle": "2025-02-19T09:36:14.956884Z",
     "shell.execute_reply": "2025-02-19T09:36:14.955725Z"
    },
    "papermill": {
     "duration": 4.284053,
     "end_time": "2025-02-19T09:36:14.958870",
     "exception": false,
     "start_time": "2025-02-19T09:36:10.674817",
     "status": "completed"
    },
    "tags": []
   },
   "outputs": [
    {
     "data": {
      "text/html": [
       "<div>\n",
       "<style scoped>\n",
       "    .dataframe tbody tr th:only-of-type {\n",
       "        vertical-align: middle;\n",
       "    }\n",
       "\n",
       "    .dataframe tbody tr th {\n",
       "        vertical-align: top;\n",
       "    }\n",
       "\n",
       "    .dataframe thead th {\n",
       "        text-align: right;\n",
       "    }\n",
       "</style>\n",
       "<table border=\"1\" class=\"dataframe\">\n",
       "  <thead>\n",
       "    <tr style=\"text-align: right;\">\n",
       "      <th></th>\n",
       "      <th>Id</th>\n",
       "      <th>Title</th>\n",
       "      <th>Body</th>\n",
       "      <th>Tags</th>\n",
       "      <th>Score</th>\n",
       "      <th>ViewCount</th>\n",
       "      <th>AnswerCount</th>\n",
       "      <th>CreationDate</th>\n",
       "    </tr>\n",
       "  </thead>\n",
       "  <tbody>\n",
       "    <tr>\n",
       "      <th>0</th>\n",
       "      <td>75956209</td>\n",
       "      <td>Error \"'DataFrame' object has no attribute 'ap...</td>\n",
       "      <td>&lt;p&gt;I am trying to append a dictionary to a Dat...</td>\n",
       "      <td>&lt;python&gt;&lt;pandas&gt;&lt;dataframe&gt;&lt;concatenation&gt;&lt;att...</td>\n",
       "      <td>312</td>\n",
       "      <td>692073</td>\n",
       "      <td>3</td>\n",
       "      <td>2023-04-07 07:05:59</td>\n",
       "    </tr>\n",
       "    <tr>\n",
       "      <th>1</th>\n",
       "      <td>75898276</td>\n",
       "      <td>OpenAI API error 429: \"You exceeded your curre...</td>\n",
       "      <td>&lt;p&gt;I'm making a Python script to use OpenAI vi...</td>\n",
       "      <td>&lt;python&gt;&lt;prompt&gt;&lt;openai-api&gt;&lt;completion&gt;&lt;chatg...</td>\n",
       "      <td>169</td>\n",
       "      <td>416362</td>\n",
       "      <td>5</td>\n",
       "      <td>2023-03-31 11:58:04</td>\n",
       "    </tr>\n",
       "    <tr>\n",
       "      <th>2</th>\n",
       "      <td>77171270</td>\n",
       "      <td>Compilation error after upgrading to JDK 21 - ...</td>\n",
       "      <td>&lt;p&gt;After upgrading to JDK 21, I have the follo...</td>\n",
       "      <td>&lt;spring-boot&gt;&lt;compiler-errors&gt;&lt;upgrade&gt;&lt;lombok...</td>\n",
       "      <td>358</td>\n",
       "      <td>396585</td>\n",
       "      <td>13</td>\n",
       "      <td>2023-09-25 09:05:11</td>\n",
       "    </tr>\n",
       "    <tr>\n",
       "      <th>3</th>\n",
       "      <td>76435306</td>\n",
       "      <td>babel-preset-react-app, is importing the \"@bab...</td>\n",
       "      <td>&lt;p&gt;My issue is that I've tried to create a new...</td>\n",
       "      <td>&lt;javascript&gt;&lt;node.js&gt;&lt;reactjs&gt;&lt;babeljs&gt;&lt;ejs&gt;</td>\n",
       "      <td>155</td>\n",
       "      <td>273911</td>\n",
       "      <td>24</td>\n",
       "      <td>2023-06-08 19:56:44</td>\n",
       "    </tr>\n",
       "    <tr>\n",
       "      <th>4</th>\n",
       "      <td>76303988</td>\n",
       "      <td>\"ERROR: File xxx can't be indexed twice.\" when...</td>\n",
       "      <td>&lt;p&gt;Below is my Azure pipeline to analyze a sol...</td>\n",
       "      <td>&lt;c#&gt;&lt;c++&gt;&lt;sonarqube&gt;&lt;sonarqube-scan&gt;&lt;sonar-run...</td>\n",
       "      <td>0</td>\n",
       "      <td>208657</td>\n",
       "      <td>1</td>\n",
       "      <td>2023-05-22 07:45:00</td>\n",
       "    </tr>\n",
       "  </tbody>\n",
       "</table>\n",
       "</div>"
      ],
      "text/plain": [
       "         Id                                              Title  \\\n",
       "0  75956209  Error \"'DataFrame' object has no attribute 'ap...   \n",
       "1  75898276  OpenAI API error 429: \"You exceeded your curre...   \n",
       "2  77171270  Compilation error after upgrading to JDK 21 - ...   \n",
       "3  76435306  babel-preset-react-app, is importing the \"@bab...   \n",
       "4  76303988  \"ERROR: File xxx can't be indexed twice.\" when...   \n",
       "\n",
       "                                                Body  \\\n",
       "0  <p>I am trying to append a dictionary to a Dat...   \n",
       "1  <p>I'm making a Python script to use OpenAI vi...   \n",
       "2  <p>After upgrading to JDK 21, I have the follo...   \n",
       "3  <p>My issue is that I've tried to create a new...   \n",
       "4  <p>Below is my Azure pipeline to analyze a sol...   \n",
       "\n",
       "                                                Tags  Score  ViewCount  \\\n",
       "0  <python><pandas><dataframe><concatenation><att...    312     692073   \n",
       "1  <python><prompt><openai-api><completion><chatg...    169     416362   \n",
       "2  <spring-boot><compiler-errors><upgrade><lombok...    358     396585   \n",
       "3       <javascript><node.js><reactjs><babeljs><ejs>    155     273911   \n",
       "4  <c#><c++><sonarqube><sonarqube-scan><sonar-run...      0     208657   \n",
       "\n",
       "   AnswerCount         CreationDate  \n",
       "0            3  2023-04-07 07:05:59  \n",
       "1            5  2023-03-31 11:58:04  \n",
       "2           13  2023-09-25 09:05:11  \n",
       "3           24  2023-06-08 19:56:44  \n",
       "4            1  2023-05-22 07:45:00  "
      ]
     },
     "execution_count": 2,
     "metadata": {},
     "output_type": "execute_result"
    }
   ],
   "source": [
    "data = pd.read_csv('/kaggle/input/stackoverflowwdate/QueryResults.csv')\n",
    "data.head()"
   ]
  },
  {
   "cell_type": "code",
   "execution_count": 3,
   "id": "479f6eec",
   "metadata": {
    "execution": {
     "iopub.execute_input": "2025-02-19T09:36:14.969434Z",
     "iopub.status.busy": "2025-02-19T09:36:14.969073Z",
     "iopub.status.idle": "2025-02-19T09:36:15.888106Z",
     "shell.execute_reply": "2025-02-19T09:36:15.886476Z"
    },
    "papermill": {
     "duration": 0.926513,
     "end_time": "2025-02-19T09:36:15.890088",
     "exception": false,
     "start_time": "2025-02-19T09:36:14.963575",
     "status": "completed"
    },
    "tags": []
   },
   "outputs": [],
   "source": [
    "nlp = spacy.load(\"en_core_web_sm\", disable=[\"parser\", \"ner\"])"
   ]
  },
  {
   "cell_type": "code",
   "execution_count": 4,
   "id": "df3d280a",
   "metadata": {
    "execution": {
     "iopub.execute_input": "2025-02-19T09:36:15.900464Z",
     "iopub.status.busy": "2025-02-19T09:36:15.900084Z",
     "iopub.status.idle": "2025-02-19T09:36:15.905759Z",
     "shell.execute_reply": "2025-02-19T09:36:15.904689Z"
    },
    "papermill": {
     "duration": 0.012584,
     "end_time": "2025-02-19T09:36:15.907344",
     "exception": false,
     "start_time": "2025-02-19T09:36:15.894760",
     "status": "completed"
    },
    "tags": []
   },
   "outputs": [],
   "source": [
    "def preprocess_text(text):\n",
    "    text = BeautifulSoup(text, \"html.parser\").get_text()  # Supprimer HTML\n",
    "    text = re.sub(r'[^a-zA-Z]', ' ', text.lower())  # Supprimer ponctuation et mettre en minuscule\n",
    "    tokens = gensim.utils.simple_preprocess(text, deacc=True)  # Tokenization (Gensim)\n",
    "    tokens = [word for word in tokens if word not in STOPWORDS]  # Supprimer stopwords\n",
    "    tokens = [token.lemma_ for token in nlp(\" \".join(tokens)) if token.pos_ in [\"NOUN\", \"VERB\"]]  # Lemmatisation\n",
    "    return tokens"
   ]
  },
  {
   "cell_type": "code",
   "execution_count": 5,
   "id": "6cfb9206",
   "metadata": {
    "execution": {
     "iopub.execute_input": "2025-02-19T09:36:15.917400Z",
     "iopub.status.busy": "2025-02-19T09:36:15.917008Z",
     "iopub.status.idle": "2025-02-19T09:51:41.611525Z",
     "shell.execute_reply": "2025-02-19T09:51:41.610234Z"
    },
    "papermill": {
     "duration": 925.704512,
     "end_time": "2025-02-19T09:51:41.616437",
     "exception": false,
     "start_time": "2025-02-19T09:36:15.911925",
     "status": "completed"
    },
    "tags": []
   },
   "outputs": [
    {
     "data": {
      "text/plain": [
       "0        [error, object, attribute, append, try, append...\n",
       "1        [api, error, exceed, quota, check, plan, billi...\n",
       "2        [compilation, error, upgrade, upgrade, follow,...\n",
       "3        [react, app, import, babel, plugin, proposal, ...\n",
       "4        [error, file, index, analyze, solution, mix, a...\n",
       "                               ...                        \n",
       "49995    [laravel, foreach, error, ve, swagger, laravel...\n",
       "49996    [homebrew, error, instal, ghc, linker, option,...\n",
       "49997    [environment, set, hostname, ip, adress, conne...\n",
       "49998    [totalpurchaser, analytic, give, result, custo...\n",
       "49999    [tls, certificate, verification, implement, ce...\n",
       "Name: Processed, Length: 50000, dtype: object"
      ]
     },
     "metadata": {},
     "output_type": "display_data"
    }
   ],
   "source": [
    "data[\"Processed\"] = (data[\"Title\"] + \" \" + data[\"Body\"]).apply(preprocess_text)\n",
    "display(data[\"Processed\"])"
   ]
  },
  {
   "cell_type": "code",
   "execution_count": 6,
   "id": "ef90aaf7",
   "metadata": {
    "execution": {
     "iopub.execute_input": "2025-02-19T09:51:41.626780Z",
     "iopub.status.busy": "2025-02-19T09:51:41.626356Z",
     "iopub.status.idle": "2025-02-19T09:51:47.365544Z",
     "shell.execute_reply": "2025-02-19T09:51:47.364401Z"
    },
    "papermill": {
     "duration": 5.74663,
     "end_time": "2025-02-19T09:51:47.367608",
     "exception": false,
     "start_time": "2025-02-19T09:51:41.620978",
     "status": "completed"
    },
    "tags": []
   },
   "outputs": [],
   "source": [
    "data.to_csv(\"preprocessed_data.csv\", index=False)"
   ]
  },
  {
   "cell_type": "code",
   "execution_count": 7,
   "id": "95d114d6",
   "metadata": {
    "execution": {
     "iopub.execute_input": "2025-02-19T09:51:47.378022Z",
     "iopub.status.busy": "2025-02-19T09:51:47.377612Z",
     "iopub.status.idle": "2025-02-19T09:51:47.406329Z",
     "shell.execute_reply": "2025-02-19T09:51:47.405047Z"
    },
    "papermill": {
     "duration": 0.035939,
     "end_time": "2025-02-19T09:51:47.408218",
     "exception": false,
     "start_time": "2025-02-19T09:51:47.372279",
     "status": "completed"
    },
    "tags": []
   },
   "outputs": [
    {
     "name": "stdout",
     "output_type": "stream",
     "text": [
      "Taille du train : 40000\n",
      "Taille du test : 10000\n"
     ]
    }
   ],
   "source": [
    "# Séparer le dataset en Train (80%) et Test (20%)\n",
    "train_data, test_data = train_test_split(data, test_size=0.2, random_state=42)\n",
    "\n",
    "# Vérifier la taille des jeux de données\n",
    "print(f\"Taille du train : {len(train_data)}\")\n",
    "print(f\"Taille du test : {len(test_data)}\")"
   ]
  },
  {
   "cell_type": "code",
   "execution_count": 8,
   "id": "1fb1a7e4",
   "metadata": {
    "execution": {
     "iopub.execute_input": "2025-02-19T09:51:47.419085Z",
     "iopub.status.busy": "2025-02-19T09:51:47.418678Z",
     "iopub.status.idle": "2025-02-19T09:51:53.043207Z",
     "shell.execute_reply": "2025-02-19T09:51:53.041766Z"
    },
    "papermill": {
     "duration": 5.632274,
     "end_time": "2025-02-19T09:51:53.045271",
     "exception": false,
     "start_time": "2025-02-19T09:51:47.412997",
     "status": "completed"
    },
    "tags": []
   },
   "outputs": [],
   "source": [
    "train_data[\"Processed\"] = train_data[\"Processed\"].apply(lambda x: \" \".join(x))\n",
    "test_data[\"Processed\"] = test_data[\"Processed\"].apply(lambda x: \" \".join(x))\n",
    "\n",
    "# Vectorisation uniquement sur Train\n",
    "vectorizer = CountVectorizer(min_df=5, stop_words='english')\n",
    "X_train_count = vectorizer.fit_transform(train_data[\"Processed\"])  # Fit sur Train\n",
    "X_test_count = vectorizer.transform(test_data[\"Processed\"])  # Transform sur Test"
   ]
  },
  {
   "cell_type": "code",
   "execution_count": 9,
   "id": "55ed61be",
   "metadata": {
    "_kg_hide-output": true,
    "execution": {
     "iopub.execute_input": "2025-02-19T09:51:53.056784Z",
     "iopub.status.busy": "2025-02-19T09:51:53.056358Z",
     "iopub.status.idle": "2025-02-19T09:51:57.645758Z",
     "shell.execute_reply": "2025-02-19T09:51:57.644459Z"
    },
    "papermill": {
     "duration": 4.59786,
     "end_time": "2025-02-19T09:51:57.648338",
     "exception": false,
     "start_time": "2025-02-19T09:51:53.050478",
     "status": "completed"
    },
    "scrolled": true,
    "tags": []
   },
   "outputs": [],
   "source": [
    "# Créer le dictionnaire Gensim\n",
    "dictionary = corpora.Dictionary(train_data[\"Processed\"].apply(str.split))"
   ]
  },
  {
   "cell_type": "code",
   "execution_count": 10,
   "id": "3231f2ab",
   "metadata": {
    "execution": {
     "iopub.execute_input": "2025-02-19T09:51:57.659584Z",
     "iopub.status.busy": "2025-02-19T09:51:57.659147Z",
     "iopub.status.idle": "2025-02-19T09:52:01.705875Z",
     "shell.execute_reply": "2025-02-19T09:52:01.704621Z"
    },
    "papermill": {
     "duration": 4.054577,
     "end_time": "2025-02-19T09:52:01.707799",
     "exception": false,
     "start_time": "2025-02-19T09:51:57.653222",
     "status": "completed"
    },
    "tags": []
   },
   "outputs": [
    {
     "name": "stdout",
     "output_type": "stream",
     "text": [
      "[(0, 1), (1, 3), (2, 1), (3, 2), (4, 1), (5, 1), (6, 1), (7, 1), (8, 1), (9, 1), (10, 1), (11, 1), (12, 1), (13, 6), (14, 1), (15, 1), (16, 2), (17, 2), (18, 1), (19, 4), (20, 1), (21, 3), (22, 1), (23, 7), (24, 2)]\n"
     ]
    }
   ],
   "source": [
    "# Conversion en BoW\n",
    "corpus_train = [dictionary.doc2bow(text.split()) for text in train_data[\"Processed\"]]\n",
    "corpus_test = [dictionary.doc2bow(text.split()) for text in test_data[\"Processed\"]]\n",
    "\n",
    "# Vérifier un document\n",
    "print(corpus_train[0])  # Bag-of-Words pour le premier document"
   ]
  },
  {
   "cell_type": "code",
   "execution_count": 11,
   "id": "bb8be816",
   "metadata": {
    "execution": {
     "iopub.execute_input": "2025-02-19T09:52:01.718565Z",
     "iopub.status.busy": "2025-02-19T09:52:01.718148Z",
     "iopub.status.idle": "2025-02-19T10:43:49.327794Z",
     "shell.execute_reply": "2025-02-19T10:43:49.326610Z"
    },
    "papermill": {
     "duration": 3107.617084,
     "end_time": "2025-02-19T10:43:49.329615",
     "exception": false,
     "start_time": "2025-02-19T09:52:01.712531",
     "status": "completed"
    },
    "tags": []
   },
   "outputs": [
    {
     "name": "stdout",
     "output_type": "stream",
     "text": [
      "Num Topics = 5, Coherence Score = 0.5149211279297192\n",
      "Num Topics = 6, Coherence Score = 0.5144632146858307\n",
      "Num Topics = 7, Coherence Score = 0.49694738310815195\n",
      "Num Topics = 8, Coherence Score = 0.5430456127231849\n",
      "Num Topics = 9, Coherence Score = 0.5670641193765311\n",
      "Num Topics = 10, Coherence Score = 0.5496412431930787\n",
      "Num Topics = 11, Coherence Score = 0.5504283879701514\n",
      "Num Topics = 12, Coherence Score = 0.569818883956546\n",
      "Num Topics = 13, Coherence Score = 0.5522441996213358\n",
      "Num Topics = 14, Coherence Score = 0.5567471402641576\n",
      "Num Topics = 15, Coherence Score = 0.564114238229521\n",
      "Num Topics = 16, Coherence Score = 0.5811005662442441\n",
      "Num Topics = 17, Coherence Score = 0.5538594247417634\n",
      "Num Topics = 18, Coherence Score = 0.5645855978140522\n",
      "Num Topics = 19, Coherence Score = 0.5526574074229782\n"
     ]
    },
    {
     "data": {
      "image/png": "[encoded data removed]",
      "text/plain": [
       "<Figure size 1000x500 with 1 Axes>"
      ]
     },
     "metadata": {},
     "output_type": "display_data"
    },
    {
     "name": "stdout",
     "output_type": "stream",
     "text": [
      "Nombre optimal de topics : 16\n"
     ]
    }
   ],
   "source": [
    "def compute_coherence_values(dictionary, corpus, texts, start=5, limit=10, step=1):\n",
    "    coherence_values = []\n",
    "    topic_list = []\n",
    "\n",
    "    for num_topics in range(start, limit, step):\n",
    "        # Entraîner le modèle LDA avec un nombre de topics donné\n",
    "        lda_model = LdaModel(\n",
    "            corpus=corpus, id2word=dictionary, num_topics=num_topics,\n",
    "            passes=5, chunksize=500, random_state=42\n",
    "        )\n",
    "\n",
    "        # Calculer le score de cohérence\n",
    "        coherence_model_lda = CoherenceModel(model=lda_model, texts=texts, dictionary=dictionary, coherence='c_v')\n",
    "        coherence_score = coherence_model_lda.get_coherence()\n",
    "\n",
    "        # Sauvegarder les résultats\n",
    "        coherence_values.append(coherence_score)\n",
    "        topic_list.append(num_topics)\n",
    "\n",
    "        print(f\"Num Topics = {num_topics}, Coherence Score = {coherence_score}\")\n",
    "\n",
    "    return topic_list, coherence_values\n",
    "\n",
    "texts = train_data[\"Processed\"].apply(str.split).tolist()  # Convertit en liste de tokens\n",
    "\n",
    "# Appliquer la fonction pour tester plusieurs valeurs de `num_topics`\n",
    "topic_list, coherence_values = compute_coherence_values(dictionary, corpus_train, texts, start=5, limit=20, step=1)\n",
    "\n",
    "# Tracer l'évolution du `coherence score`\n",
    "plt.figure(figsize=(10, 5))\n",
    "plt.plot(topic_list, coherence_values, marker='o', linestyle='-')\n",
    "plt.xlabel(\"Nombre de Topics\")\n",
    "plt.ylabel(\"Score de Cohérence\")\n",
    "plt.title(\"Optimisation du nombre de topics en LDA\")\n",
    "plt.show()\n",
    "\n",
    "# Trouver le nombre optimal de topics\n",
    "optimal_topics = topic_list[coherence_values.index(max(coherence_values))]\n",
    "print(f\"Nombre optimal de topics : {optimal_topics}\")"
   ]
  },
  {
   "cell_type": "code",
   "execution_count": 12,
   "id": "2e3d89b9",
   "metadata": {
    "execution": {
     "iopub.execute_input": "2025-02-19T10:43:49.344419Z",
     "iopub.status.busy": "2025-02-19T10:43:49.344019Z",
     "iopub.status.idle": "2025-02-19T10:56:56.612780Z",
     "shell.execute_reply": "2025-02-19T10:56:56.611526Z"
    },
    "papermill": {
     "duration": 787.278418,
     "end_time": "2025-02-19T10:56:56.614889",
     "exception": false,
     "start_time": "2025-02-19T10:43:49.336471",
     "status": "completed"
    },
    "tags": []
   },
   "outputs": [],
   "source": [
    "lda_model = LdaModel(\n",
    "    corpus=corpus_train,\n",
    "    id2word=dictionary,\n",
    "    num_topics=optimal_topics,\n",
    "    passes=10,       # Nombre de passes sur les données\n",
    "    chunksize=200,   # Charge les documents par batchs pour économiser de la RAM\n",
    "    alpha='auto',    # Ajuste automatiquement le paramètre alpha\n",
    "    eta='auto',      # Ajuste automatiquement le paramètre eta\n",
    "    random_state=42\n",
    ")"
   ]
  },
  {
   "cell_type": "code",
   "execution_count": 13,
   "id": "4632e46f",
   "metadata": {
    "execution": {
     "iopub.execute_input": "2025-02-19T10:56:56.631122Z",
     "iopub.status.busy": "2025-02-19T10:56:56.630746Z",
     "iopub.status.idle": "2025-02-19T10:57:17.566266Z",
     "shell.execute_reply": "2025-02-19T10:57:17.564792Z"
    },
    "papermill": {
     "duration": 20.945683,
     "end_time": "2025-02-19T10:57:17.568306",
     "exception": false,
     "start_time": "2025-02-19T10:56:56.622623",
     "status": "completed"
    },
    "tags": []
   },
   "outputs": [
    {
     "name": "stdout",
     "output_type": "stream",
     "text": [
      "Visualisation enregistrée : ouvre 'lda_visualisation.html' pour voir les topics\n"
     ]
    }
   ],
   "source": [
    "lda_vis = gensimvis.prepare(lda_model, corpus_train, dictionary)\n",
    "pyLDAvis.save_html(lda_vis, \"lda_visualisation.html\")\n",
    "print(\"Visualisation enregistrée : ouvre 'lda_visualisation.html' pour voir les topics\")"
   ]
  },
  {
   "cell_type": "code",
   "execution_count": 14,
   "id": "b15cdf80",
   "metadata": {
    "execution": {
     "iopub.execute_input": "2025-02-19T10:57:17.583814Z",
     "iopub.status.busy": "2025-02-19T10:57:17.583381Z",
     "iopub.status.idle": "2025-02-19T10:57:17.590445Z",
     "shell.execute_reply": "2025-02-19T10:57:17.589156Z"
    },
    "papermill": {
     "duration": 0.017169,
     "end_time": "2025-02-19T10:57:17.592324",
     "exception": false,
     "start_time": "2025-02-19T10:57:17.575155",
     "status": "completed"
    },
    "tags": []
   },
   "outputs": [
    {
     "data": {
      "text/html": [
       "<a href='lda_visualisation.html' target='_blank'>lda_visualisation.html</a><br>"
      ],
      "text/plain": [
       "/kaggle/working/lda_visualisation.html"
      ]
     },
     "execution_count": 14,
     "metadata": {},
     "output_type": "execute_result"
    }
   ],
   "source": [
    "from IPython.display import FileLink\n",
    "\n",
    "# Créer un lien de téléchargement\n",
    "FileLink(\"lda_visualisation.html\")"
   ]
  },
  {
   "cell_type": "code",
   "execution_count": 15,
   "id": "ad321365",
   "metadata": {
    "execution": {
     "iopub.execute_input": "2025-02-19T10:57:17.607789Z",
     "iopub.status.busy": "2025-02-19T10:57:17.607310Z",
     "iopub.status.idle": "2025-02-19T10:57:17.641087Z",
     "shell.execute_reply": "2025-02-19T10:57:17.639840Z"
    },
    "papermill": {
     "duration": 0.043247,
     "end_time": "2025-02-19T10:57:17.643001",
     "exception": false,
     "start_time": "2025-02-19T10:57:17.599754",
     "status": "completed"
    },
    "tags": []
   },
   "outputs": [
    {
     "data": {
      "text/plain": [
       "[(0,\n",
       "  '0.104*\"view\" + 0.098*\"context\" + 0.085*\"state\" + 0.049*\"let\" + 0.027*\"var\"'),\n",
       " (1,\n",
       "  '0.273*\"user\" + 0.062*\"line\" + 0.056*\"package\" + 0.054*\"site\" + 0.035*\"permission\"'),\n",
       " (2,\n",
       "  '0.073*\"model\" + 0.068*\"self\" + 0.037*\"import\" + 0.031*\"datum\" + 0.023*\"print\"'),\n",
       " (3,\n",
       "  '0.083*\"com\" + 0.059*\"flutter\" + 0.057*\"gradle\" + 0.049*\"android\" + 0.044*\"androidx\"'),\n",
       " (4,\n",
       "  '0.045*\"date\" + 0.044*\"message\" + 0.043*\"time\" + 0.040*\"log\" + 0.035*\"event\"'),\n",
       " (5,\n",
       "  '0.036*\"error\" + 0.034*\"request\" + 0.032*\"server\" + 0.029*\"api\" + 0.024*\"response\"'),\n",
       " (6,\n",
       "  '0.145*\"image\" + 0.066*\"container\" + 0.050*\"docker\" + 0.044*\"group\" + 0.037*\"deploy\"'),\n",
       " (7,\n",
       "  '0.083*\"text\" + 0.054*\"item\" + 0.040*\"class\" + 0.038*\"color\" + 0.036*\"style\"'),\n",
       " (8,\n",
       "  '0.097*\"table\" + 0.070*\"column\" + 0.065*\"database\" + 0.041*\"query\" + 0.040*\"row\"'),\n",
       " (9,\n",
       "  '0.095*\"import\" + 0.063*\"react\" + 0.056*\"const\" + 0.050*\"component\" + 0.041*\"page\"'),\n",
       " (10,\n",
       "  '0.090*\"index\" + 0.089*\"order\" + 0.078*\"number\" + 0.061*\"document\" + 0.061*\"filter\"'),\n",
       " (11,\n",
       "  '0.063*\"spring\" + 0.056*\"dependency\" + 0.051*\"version\" + 0.040*\"artifactid\" + 0.039*\"springframework\"'),\n",
       " (12,\n",
       "  '0.100*\"string\" + 0.081*\"type\" + 0.076*\"class\" + 0.053*\"return\" + 0.051*\"value\"'),\n",
       " (13,\n",
       "  '0.079*\"file\" + 0.045*\"error\" + 0.034*\"run\" + 0.030*\"build\" + 0.023*\"version\"'),\n",
       " (14,\n",
       "  '0.040*\"try\" + 0.033*\"work\" + 0.029*\"code\" + 0.028*\"use\" + 0.021*\"function\"'),\n",
       " (15,\n",
       "  '0.106*\"value\" + 0.064*\"option\" + 0.063*\"form\" + 0.060*\"input\" + 0.044*\"label\"')]"
      ]
     },
     "execution_count": 15,
     "metadata": {},
     "output_type": "execute_result"
    }
   ],
   "source": [
    "lda_model.print_topics(num_words=5)"
   ]
  },
  {
   "cell_type": "code",
   "execution_count": 16,
   "id": "e4c6c0dc",
   "metadata": {
    "execution": {
     "iopub.execute_input": "2025-02-19T10:57:17.658910Z",
     "iopub.status.busy": "2025-02-19T10:57:17.658460Z",
     "iopub.status.idle": "2025-02-19T10:58:09.629417Z",
     "shell.execute_reply": "2025-02-19T10:58:09.628375Z"
    },
    "papermill": {
     "duration": 51.992304,
     "end_time": "2025-02-19T10:58:09.642352",
     "exception": false,
     "start_time": "2025-02-19T10:57:17.650048",
     "status": "completed"
    },
    "tags": []
   },
   "outputs": [
    {
     "name": "stdout",
     "output_type": "stream",
     "text": [
      "Question : How do I pass in parameters into arrow functions in react?\n",
      "Mots-clés suggérés : ['try', 'work', 'code', 'use', 'function']\n",
      "--------------------------------------------------------------------------------\n",
      "Question : How to test @NotBlank spring validation with JUnit?\n",
      "Mots-clés suggérés : ['string', 'type', 'class', 'return', 'value']\n",
      "--------------------------------------------------------------------------------\n",
      "Question : DBeaver - unable to update driver: \"Network unavailable due to certificate issue.\"\n",
      "Mots-clés suggérés : ['try', 'work', 'code', 'use', 'function']\n",
      "--------------------------------------------------------------------------------\n",
      "Question : Youtube player API to get server url few times returning error while works if I reload again\n",
      "Mots-clés suggérés : ['error', 'request', 'server', 'api', 'response']\n",
      "--------------------------------------------------------------------------------\n",
      "Question : Where is it specified the path to look for kernel.json, to select the jupyter kernel in anaconda?\n",
      "Mots-clés suggérés : ['user', 'line', 'package', 'site', 'permission']\n",
      "--------------------------------------------------------------------------------\n",
      "Question : Unable to make Request to FastAPI server using javascript\n",
      "Mots-clés suggérés : ['error', 'request', 'server', 'api', 'response']\n",
      "--------------------------------------------------------------------------------\n",
      "Question : error[E0658]: use of unstable library feature 'restricted_std'\n",
      "Mots-clés suggérés : ['file', 'error', 'run', 'build', 'version']\n",
      "--------------------------------------------------------------------------------\n",
      "Question : PrestaShop Server Error (DEV SITE): This site can’t be reached. The connection was reset\n",
      "Mots-clés suggérés : ['try', 'work', 'code', 'use', 'function']\n",
      "--------------------------------------------------------------------------------\n",
      "Question : cannot pickle '_thread.RLock' object while serializing FAISS object\n",
      "Mots-clés suggérés : ['try', 'work', 'code', 'use', 'function']\n",
      "--------------------------------------------------------------------------------\n",
      "Question : Upgrading to open api 3 rendering more than required entities and apis\n",
      "Mots-clés suggérés : ['try', 'work', 'code', 'use', 'function']\n",
      "--------------------------------------------------------------------------------\n"
     ]
    }
   ],
   "source": [
    "def get_keywords_for_test(lda_model, topics_test, dictionary, num_words=5):\n",
    "    \"\"\"\n",
    "    Associe les mots-clés des topics aux documents test.\n",
    "    \"\"\"\n",
    "    keywords_per_doc = []\n",
    "    \n",
    "    for row in topics_test:\n",
    "        if row:\n",
    "            topic_idx = max(row, key=lambda x: x[1])[0]  # Prendre le topic dominant\n",
    "            topic_words = lda_model.show_topic(topic_idx, num_words)\n",
    "            keywords = [word for word, _ in topic_words]\n",
    "        else:\n",
    "            keywords = []\n",
    "        \n",
    "        keywords_per_doc.append(keywords)\n",
    "    \n",
    "    return keywords_per_doc\n",
    "\n",
    "topics_test = [lda_model.get_document_topics(bow) for bow in corpus_test]\n",
    "\n",
    "# Associer des mots-clés aux documents test\n",
    "test_data[\"Keywords\"] = get_keywords_for_test(lda_model, topics_test, dictionary)\n",
    "\n",
    "# Afficher quelques résultats\n",
    "for i in range(10):\n",
    "    print(f\"Question : {test_data.iloc[i]['Title']}\")\n",
    "    print(f\"Mots-clés suggérés : {test_data.iloc[i]['Keywords']}\")\n",
    "    print(\"-\" * 80)"
   ]
  }
 ],
 "metadata": {
  "kaggle": {
   "accelerator": "none",
   "dataSources": [
    {
     "datasetId": 6568211,
     "sourceId": 10609809,
     "sourceType": "datasetVersion"
    },
    {
     "datasetId": 6697736,
     "sourceId": 10792718,
     "sourceType": "datasetVersion"
    }
   ],
   "dockerImageVersionId": 30839,
   "isGpuEnabled": false,
   "isInternetEnabled": true,
   "language": "python",
   "sourceType": "notebook"
  },
  "kernelspec": {
   "display_name": "Python 3",
   "language": "python",
   "name": "python3"
  },
  "language_info": {
   "codemirror_mode": {
    "name": "ipython",
    "version": 3
   },
   "file_extension": ".py",
   "mimetype": "text/x-python",
   "name": "python",
   "nbconvert_exporter": "python",
   "pygments_lexer": "ipython3",
   "version": "3.10.12"
  },
  "papermill": {
   "default_parameters": {},
   "duration": 4959.809385,
   "end_time": "2025-02-19T10:58:12.481896",
   "environment_variables": {},
   "exception": null,
   "input_path": "__notebook__.ipynb",
   "output_path": "__notebook__.ipynb",
   "parameters": {},
   "start_time": "2025-02-19T09:35:32.672511",
   "version": "2.6.0"
  }
 },
 "nbformat": 4,
 "nbformat_minor": 5
}
